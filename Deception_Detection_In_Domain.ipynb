{
  "nbformat": 4,
  "nbformat_minor": 0,
  "metadata": {
    "colab": {
      "provenance": [],
      "gpuType": "T4"
    },
    "kernelspec": {
      "name": "python3",
      "display_name": "Python 3"
    },
    "language_info": {
      "name": "python"
    },
    "accelerator": "GPU"
  },
  "cells": [
    {
      "cell_type": "markdown",
      "source": [
        "### Import Modules"
      ],
      "metadata": {
        "id": "NB6IGvNNhT30"
      }
    },
    {
      "cell_type": "code",
      "source": [
        "import glob\n",
        "import os\n",
        "import pandas as pd\n",
        "from sklearn.model_selection import train_test_split\n",
        "from torchtext.data.utils import get_tokenizer\n",
        "from torchtext.vocab import build_vocab_from_iterator\n",
        "import torch\n",
        "from torch.utils.data import Dataset, DataLoader, random_split\n",
        "import torch.nn as nn\n",
        "import torch.nn.functional as F\n",
        "from sklearn.metrics import accuracy_score, classification_report, confusion_matrix, precision_score, recall_score, f1_score, balanced_accuracy_score\n",
        "\n",
        "from tqdm import tqdm\n",
        "import time\n",
        "import numpy as np\n",
        "from functools import partial\n",
        "\n",
        "import matplotlib.pyplot as plt\n",
        "import seaborn as sns\n",
        "\n",
        "import nltk\n",
        "from nltk.corpus import stopwords\n",
        "import string\n",
        "\n",
        "nltk.download('stopwords')\n",
        "\n",
        "device = torch.device(\"cuda\" if torch.cuda.is_available() else \"cpu\")"
      ],
      "metadata": {
        "colab": {
          "base_uri": "https://localhost:8080/"
        },
        "id": "tkr3E1E0Tt_C",
        "outputId": "ab094ae3-3eb1-4766-f039-8f55da66fe76"
      },
      "execution_count": null,
      "outputs": [
        {
          "output_type": "stream",
          "name": "stderr",
          "text": [
            "/usr/local/lib/python3.10/dist-packages/torchtext/data/__init__.py:4: UserWarning: \n",
            "/!\\ IMPORTANT WARNING ABOUT TORCHTEXT STATUS /!\\ \n",
            "Torchtext is deprecated and the last released version will be 0.18 (this one). You can silence this warning by calling the following at the beginnign of your scripts: `import torchtext; torchtext.disable_torchtext_deprecation_warning()`\n",
            "  warnings.warn(torchtext._TORCHTEXT_DEPRECATION_MSG)\n",
            "/usr/local/lib/python3.10/dist-packages/torchtext/vocab/__init__.py:4: UserWarning: \n",
            "/!\\ IMPORTANT WARNING ABOUT TORCHTEXT STATUS /!\\ \n",
            "Torchtext is deprecated and the last released version will be 0.18 (this one). You can silence this warning by calling the following at the beginnign of your scripts: `import torchtext; torchtext.disable_torchtext_deprecation_warning()`\n",
            "  warnings.warn(torchtext._TORCHTEXT_DEPRECATION_MSG)\n",
            "/usr/local/lib/python3.10/dist-packages/torchtext/utils.py:4: UserWarning: \n",
            "/!\\ IMPORTANT WARNING ABOUT TORCHTEXT STATUS /!\\ \n",
            "Torchtext is deprecated and the last released version will be 0.18 (this one). You can silence this warning by calling the following at the beginnign of your scripts: `import torchtext; torchtext.disable_torchtext_deprecation_warning()`\n",
            "  warnings.warn(torchtext._TORCHTEXT_DEPRECATION_MSG)\n",
            "[nltk_data] Downloading package stopwords to /root/nltk_data...\n",
            "[nltk_data]   Unzipping corpora/stopwords.zip.\n"
          ]
        }
      ]
    },
    {
      "cell_type": "markdown",
      "source": [
        "### Define Global Parameters"
      ],
      "metadata": {
        "id": "c1xEXduHhYXH"
      }
    },
    {
      "cell_type": "code",
      "source": [
        "MAX_WORDS = 25\n",
        "EPOCHS = 15\n",
        "LEARNING_RATE = 1e-3\n",
        "BATCH_SIZE = 32\n",
        "EMBEDDING_DIM = 100\n",
        "HIDDEN_DIM = 64\n",
        "NUM_HEADS = 5"
      ],
      "metadata": {
        "id": "SF1ejHcqo8jh"
      },
      "execution_count": null,
      "outputs": []
    },
    {
      "cell_type": "markdown",
      "source": [
        "### Functions for later"
      ],
      "metadata": {
        "id": "gXeBhN3wheVX"
      }
    },
    {
      "cell_type": "code",
      "source": [
        "def create_plots(df):\n",
        "\n",
        "  sns.set(style=\"whitegrid\")\n",
        "\n",
        "  plt.figure(figsize=(16, 8))\n",
        "\n",
        "  plt.subplot(1, 3, 1)\n",
        "  sns.barplot(x='Dataset', y='Test Accuracy', data=df)\n",
        "  plt.title('Test Accuracy by Dataset')\n",
        "  plt.xticks(rotation=90)\n",
        "\n",
        "  plt.subplot(1, 3, 2)\n",
        "  sns.barplot(x='Dataset', y='Training Time', data=df)\n",
        "  plt.title('Training Time by Dataset')\n",
        "  plt.xticks(rotation=90)\n",
        "\n",
        "  plt.subplot(1, 3, 3)\n",
        "  sns.barplot(x='Dataset', y='Parameters', data=df)\n",
        "  plt.title('Model Parameters by Dataset')\n",
        "  plt.xticks(rotation=90)\n",
        "\n",
        "  plt.tight_layout()\n",
        "  plt.show()"
      ],
      "metadata": {
        "id": "BHwcJTmdWupR"
      },
      "execution_count": null,
      "outputs": []
    },
    {
      "cell_type": "markdown",
      "source": [
        "### Load & Prepare the Data"
      ],
      "metadata": {
        "id": "_V7DStSohic5"
      }
    },
    {
      "cell_type": "code",
      "execution_count": null,
      "metadata": {
        "colab": {
          "base_uri": "https://localhost:8080/"
        },
        "id": "DOUX6PNITMJm",
        "outputId": "7a6be747-7433-4fde-9bc5-946f1282cfb0"
      },
      "outputs": [
        {
          "output_type": "stream",
          "name": "stdout",
          "text": [
            "Mounted at /content/drive\n"
          ]
        }
      ],
      "source": [
        "from google.colab import drive\n",
        "drive.mount('/content/drive')\n",
        "\n",
        "csv_files = glob.glob(os.path.join('/content/drive/MyDrive/Datasets/Deception/', '*.csv'))\n",
        "\n",
        "dataframes = {}\n",
        "for file in csv_files:\n",
        "    df = pd.read_csv(file)\n",
        "    dataframes.update({os.path.basename(file).split('.')[0]: df})\n",
        "\n",
        "tokenizer = get_tokenizer(\"basic_english\")\n",
        "stop_words = set(stopwords.words('english'))\n",
        "\n",
        "def yield_tokens(data_iter):\n",
        "    for text in data_iter:\n",
        "        tokens = tokenizer(text.lower())  # Convert to lowercase\n",
        "        tokens = [token for token in tokens if token not in stop_words and token not in string.punctuation]  # Remove stopwords and punctuation\n",
        "        yield tokens\n",
        "\n",
        "def build_vocabulary(datasets):\n",
        "    for dataset in datasets:\n",
        "        for _, text in dataset:\n",
        "            tokens = tokenizer(text.lower())  # Convert to lowercase\n",
        "            tokens = [token for token in tokens if token not in stop_words and token not in string.punctuation]  # Remove stopwords and punctuation\n",
        "            yield tokens\n"
      ]
    },
    {
      "cell_type": "code",
      "source": [
        "def collate_batch(batch, max_words, vocab):\n",
        "    Y, X = list(zip(*batch))\n",
        "    Y = torch.tensor(Y, dtype=torch.long)  # Targets in range [0,1,2,3]\n",
        "    X = [vocab(tokenizer(text)) for text in X]\n",
        "    if max_words == -1:\n",
        "        max_words = max(len(tokens) for tokens in X)\n",
        "    X = [tokens + ([vocab['<PAD>']] * (max_words - len(tokens))) if len(tokens) < max_words else tokens[:max_words] for tokens in X]\n",
        "    return torch.tensor(X, dtype=torch.int64).to(device), Y.to(device)\n",
        "\n",
        "def make_data_loaders(train_dataset, test_dataset, max_words, vocab):\n",
        "    custom_collate_fn = partial(collate_batch, max_words=max_words, vocab= vocab)\n",
        "\n",
        "    num_train = int(len(train_dataset) * 0.95)\n",
        "    split_train_, split_valid_ = random_split(train_dataset, [num_train, len(train_dataset) - num_train])\n",
        "\n",
        "    train_loader = DataLoader(split_train_, batch_size=BATCH_SIZE, shuffle=True, collate_fn=custom_collate_fn)\n",
        "    valid_loader = DataLoader(split_valid_, batch_size=BATCH_SIZE, shuffle=False, collate_fn=custom_collate_fn)\n",
        "    test_loader = DataLoader(test_dataset, batch_size=BATCH_SIZE, shuffle=False, collate_fn=custom_collate_fn)\n",
        "\n",
        "    return [train_loader, valid_loader, test_loader]\n"
      ],
      "metadata": {
        "id": "SQfKx2T5TO79"
      },
      "execution_count": null,
      "outputs": []
    },
    {
      "cell_type": "markdown",
      "source": [
        "### RNN Models"
      ],
      "metadata": {
        "id": "vB1cRtHShose"
      }
    },
    {
      "cell_type": "code",
      "source": [
        "class RNNModel(nn.Module):\n",
        "    def __init__(self, input_dim, embedding_dim, hidden_dim, output_dim):\n",
        "        super(RNNModel, self).__init__()\n",
        "        self.embedding_layer = nn.Embedding(num_embeddings=input_dim, embedding_dim=embedding_dim)\n",
        "        self.rnn = nn.RNN(input_size=embedding_dim, hidden_size=hidden_dim, batch_first=True)\n",
        "        self.linear = nn.Linear(hidden_dim, output_dim)\n",
        "\n",
        "    def forward(self, X_batch):\n",
        "        embeddings = self.embedding_layer(X_batch)\n",
        "        output, hidden = self.rnn(embeddings)\n",
        "        logits = self.linear(output[:, -1, :])\n",
        "        return logits\n",
        "\n",
        "\n",
        "\n",
        "class BiRNNModel(nn.Module):\n",
        "    def __init__(self, input_dim, embedding_dim, hidden_dim, output_dim):\n",
        "        super(BiRNNModel, self).__init__()\n",
        "        self.embedding_layer = nn.Embedding(num_embeddings=input_dim, embedding_dim=embedding_dim)\n",
        "        self.rnn = nn.RNN(input_size=embedding_dim, hidden_size=hidden_dim, batch_first=True, bidirectional=True)\n",
        "        self.linear = nn.Linear(hidden_dim * 2, output_dim)  # Multiply by 2 for bidirectional\n",
        "\n",
        "    def forward(self, X_batch):\n",
        "        embeddings = self.embedding_layer(X_batch)\n",
        "        output, hidden = self.rnn(embeddings)\n",
        "        logits = self.linear(output[:, -1, :])  # Use the final output of the RNN for classification\n",
        "        return logits\n",
        "\n",
        "\n",
        "class LSTMModel(nn.Module):\n",
        "    def __init__(self, input_dim, embedding_dim, hidden_dim, output_dim):\n",
        "        super(LSTMModel, self).__init__()\n",
        "        self.embedding_layer = nn.Embedding(num_embeddings=input_dim, embedding_dim=embedding_dim)\n",
        "        self.lstm = nn.LSTM(input_size=embedding_dim, hidden_size=hidden_dim, batch_first=True)\n",
        "        self.linear = nn.Linear(hidden_dim, output_dim)\n",
        "        self.hidden_dim = hidden_dim\n",
        "\n",
        "    def forward(self, X_batch):\n",
        "        embeddings = self.embedding_layer(X_batch)\n",
        "        output, (hn, cn) = self.lstm(embeddings)\n",
        "        logits = self.linear(output[:, -1, :])\n",
        "        return logits\n",
        "\n",
        "\n",
        "class GRUModel(nn.Module):\n",
        "    def __init__(self, input_dim, embedding_dim, hidden_dim, output_dim):\n",
        "        super(GRUModel, self).__init__()\n",
        "        self.embedding_layer = nn.Embedding(num_embeddings=input_dim, embedding_dim=embedding_dim)\n",
        "        self.gru = nn.GRU(input_size=embedding_dim, hidden_size=hidden_dim, batch_first=True)\n",
        "        self.linear = nn.Linear(hidden_dim, output_dim)\n",
        "        self.hidden_dim = hidden_dim\n",
        "\n",
        "    def forward(self, X_batch):\n",
        "        embeddings = self.embedding_layer(X_batch)\n",
        "        output, hn = self.gru(embeddings)\n",
        "        logits = self.linear(output[:, -1, :])\n",
        "        return logits\n",
        "\n",
        "\n",
        "class RNNModel_PreTrained(nn.Module):\n",
        "    def __init__(self, input_dim, embedding_dim, hidden_dim, output_dim, pretrained_embeddings=None):\n",
        "        super(RNNModel_PreTrained, self).__init__()\n",
        "\n",
        "        if pretrained_embeddings is not None:\n",
        "            self.embedding_layer = nn.Embedding.from_pretrained(pretrained_embeddings, freeze=True)\n",
        "        else:\n",
        "            self.embedding_layer = nn.Embedding(num_embeddings=input_dim, embedding_dim=embedding_dim)\n",
        "\n",
        "        self.rnn = nn.RNN(input_size=embedding_dim, hidden_size=hidden_dim, batch_first=True)\n",
        "        self.linear = nn.Linear(hidden_dim, output_dim)\n",
        "\n",
        "    def forward(self, X_batch):\n",
        "        embeddings = self.embedding_layer(X_batch)\n",
        "        output, hidden = self.rnn(embeddings)\n",
        "        logits = self.linear(output[:, -1, :])\n",
        "        return logits"
      ],
      "metadata": {
        "id": "XOW12OPQTWaN"
      },
      "execution_count": null,
      "outputs": []
    },
    {
      "cell_type": "markdown",
      "source": [
        "### Attention Models"
      ],
      "metadata": {
        "id": "XWlhFs_1ivDN"
      }
    },
    {
      "cell_type": "code",
      "source": [
        "class SelfAttention(nn.Module):\n",
        "    def __init__(self, embed_dim, num_heads):\n",
        "        super(SelfAttention, self).__init__()\n",
        "        self.embed_dim = embed_dim\n",
        "        self.num_heads = num_heads\n",
        "        assert embed_dim % num_heads == 0, \"Embedding dimension must be divisible by the number of heads.\"\n",
        "        self.head_dim = embed_dim // num_heads\n",
        "        self.query = nn.Linear(embed_dim, embed_dim)\n",
        "        self.key = nn.Linear(embed_dim, embed_dim)\n",
        "        self.value = nn.Linear(embed_dim, embed_dim)\n",
        "        self.fc_out = nn.Linear(embed_dim, embed_dim)\n",
        "\n",
        "    def forward(self, x):\n",
        "        batch_size, seq_len, embed_dim = x.shape\n",
        "        # Split the embedding into multiple heads\n",
        "        queries = self.query(x).view(batch_size, seq_len, self.num_heads, self.head_dim)\n",
        "        keys = self.key(x).view(batch_size, seq_len, self.num_heads, self.head_dim)\n",
        "        values = self.value(x).view(batch_size, seq_len, self.num_heads, self.head_dim)\n",
        "\n",
        "        # Transpose to get dimensions: batch_size, num_heads, seq_len, head_dim\n",
        "        queries = queries.permute(0, 2, 1, 3)\n",
        "        keys = keys.permute(0, 2, 1, 3)\n",
        "        values = values.permute(0, 2, 1, 3)\n",
        "\n",
        "        # Compute dot product attention scores\n",
        "        attention_scores = torch.matmul(queries, keys.permute(0, 1, 3, 2)) / np.sqrt(self.head_dim)\n",
        "\n",
        "        # Apply softmax to get attention weights\n",
        "        attention_weights = F.softmax(attention_scores, dim=-1)\n",
        "\n",
        "        # Apply dropout\n",
        "        attention_weights = F.dropout(attention_weights, p=0.1, training=self.training)\n",
        "\n",
        "        # Weighted sum of values\n",
        "        weighted_sum = torch.matmul(attention_weights, values)\n",
        "\n",
        "        # Transpose and reshape to get output\n",
        "        weighted_sum = weighted_sum.permute(0, 2, 1, 3).contiguous()\n",
        "        weighted_sum = weighted_sum.view(batch_size, seq_len, embed_dim)\n",
        "\n",
        "        # Linear layer to get output\n",
        "        outputs = self.fc_out(weighted_sum)\n",
        "\n",
        "        return outputs"
      ],
      "metadata": {
        "id": "PvM1t1rrXfqd"
      },
      "execution_count": null,
      "outputs": []
    },
    {
      "cell_type": "code",
      "source": [
        "class TransformerModel(nn.Module):\n",
        "    def __init__(self, vocab_size, embed_dim, num_heads, hidden_dim, output_dim):\n",
        "        super(TransformerModel, self).__init__()\n",
        "        self.embedding = nn.Embedding(vocab_size, embed_dim)\n",
        "        self.attention = SelfAttention(embed_dim, num_heads)\n",
        "        self.fc = nn.Linear(embed_dim, hidden_dim)\n",
        "        self.output_layer = nn.Linear(hidden_dim, output_dim)\n",
        "\n",
        "    def forward(self, x):\n",
        "        embedded = self.embedding(x)\n",
        "        attention_output = self.attention(embedded)\n",
        "        hidden = F.relu(self.fc(attention_output))\n",
        "        output = self.output_layer(hidden[:, -1, :])  # Use only the last hidden state for classification\n",
        "        return output\n"
      ],
      "metadata": {
        "id": "zJS0uxKjWlgD"
      },
      "execution_count": null,
      "outputs": []
    },
    {
      "cell_type": "code",
      "source": [
        "class ImprovedTransformerModel(nn.Module):\n",
        "    def __init__(self, vocab_size, embed_dim, num_heads, hidden_dim, output_dim, num_layers=2, dropout=0.3):\n",
        "        super(ImprovedTransformerModel, self).__init__()\n",
        "        self.embedding = nn.Embedding(vocab_size, embed_dim)\n",
        "        self.positional_encoding = nn.Parameter(torch.randn(1, MAX_WORDS, embed_dim))\n",
        "        self.transformer_layers = nn.ModuleList(\n",
        "            [SelfAttention(embed_dim, num_heads) for _ in range(num_layers)]\n",
        "        )\n",
        "        self.dropout = nn.Dropout(dropout)\n",
        "        self.fc1 = nn.Linear(embed_dim, hidden_dim)\n",
        "        self.fc2 = nn.Linear(hidden_dim, output_dim)\n",
        "        self.layer_norm = nn.LayerNorm(embed_dim)\n",
        "\n",
        "    def forward(self, x):\n",
        "        embedded = self.embedding(x) + self.positional_encoding[:, :x.size(1), :]\n",
        "        for attention_layer in self.transformer_layers:\n",
        "            embedded = self.layer_norm(attention_layer(embedded) + embedded)  # Residual connection\n",
        "        embedded = self.dropout(embedded)\n",
        "        hidden = F.relu(self.fc1(embedded))\n",
        "        output = self.fc2(hidden[:, -1, :])  # Use the last hidden state for classification\n",
        "        return output\n"
      ],
      "metadata": {
        "id": "2mrdD8qXI1-Q"
      },
      "execution_count": null,
      "outputs": []
    },
    {
      "cell_type": "markdown",
      "source": [
        "### Train & Evaluation"
      ],
      "metadata": {
        "id": "oO8Pq-7xhszn"
      }
    },
    {
      "cell_type": "code",
      "source": [
        "def EvaluateModel(model, loss_fn, val_loader):\n",
        "    model.eval()\n",
        "    with torch.no_grad():\n",
        "        Y_actual, Y_preds, losses = [], [], []\n",
        "        for X, Y in val_loader:\n",
        "            preds = model(X)\n",
        "            loss = loss_fn(preds, Y)\n",
        "            losses.append(loss.item())\n",
        "\n",
        "            Y_actual.append(Y)\n",
        "            Y_preds.append(preds.argmax(dim=-1))\n",
        "\n",
        "        Y_actual = torch.cat(Y_actual)\n",
        "        Y_preds = torch.cat(Y_preds)\n",
        "\n",
        "    return torch.tensor(losses).mean(), Y_actual.detach().cpu().numpy(), Y_preds.detach().cpu().numpy()\n",
        "\n",
        "def TrainModel(model, loss_fn, optimizer, train_loader, valid_loader, epochs, patience):\n",
        "    best_accuracy = 0.0\n",
        "    consecutive_no_improvement = 0\n",
        "\n",
        "    for i in range(1, epochs+1):\n",
        "        model.train()\n",
        "        print('Epoch:', i)\n",
        "        losses = []\n",
        "        start_time = time.time()\n",
        "        for X, Y in tqdm(train_loader):\n",
        "            Y_preds = model(X)\n",
        "            loss = loss_fn(Y_preds, Y)\n",
        "            losses.append(loss.item())\n",
        "\n",
        "            optimizer.zero_grad()\n",
        "            loss.backward()\n",
        "            optimizer.step()\n",
        "\n",
        "        train_time = time.time() - start_time\n",
        "        print(\"Train Loss : {:.3f}\".format(torch.tensor(losses).mean()))\n",
        "        valid_loss, valid_actual, valid_preds = EvaluateModel(model, loss_fn, valid_loader)\n",
        "        print(\"Valid Loss : {:.3f}\".format(valid_loss), \"Valid Acc  : {:.3f}\".format(accuracy_score(valid_actual, valid_preds)))\n",
        "\n",
        "        accuracy = accuracy_score(valid_actual, valid_preds)\n",
        "\n",
        "        if accuracy > best_accuracy:\n",
        "            best_accuracy = accuracy\n",
        "            consecutive_no_improvement = 0\n",
        "        else:\n",
        "            consecutive_no_improvement += 1\n",
        "\n",
        "        if consecutive_no_improvement >= patience:\n",
        "            print(f\"Early stopping: No improvement for {patience} consecutive epochs.\")\n",
        "            break\n",
        "\n",
        "    return train_time\n",
        "\n",
        "\n",
        "def classification_results(classifier, loaders, patience=float('inf')):\n",
        "    train_loader, valid_loader, test_loader = loaders\n",
        "\n",
        "    loss_fn = nn.CrossEntropyLoss()\n",
        "    optimizer = torch.optim.Adam([param for param in classifier.parameters() if param.requires_grad], lr=LEARNING_RATE)\n",
        "\n",
        "    def count_parameters(model):\n",
        "        return sum(p.numel() for p in model.parameters() if p.requires_grad)\n",
        "\n",
        "    print('\\nModel:')\n",
        "    print(classifier)\n",
        "    print('Total parameters: ', count_parameters(classifier))\n",
        "    print('\\n\\n')\n",
        "\n",
        "    mean_training_time = TrainModel(classifier, loss_fn, optimizer, train_loader, valid_loader, EPOCHS, patience)\n",
        "\n",
        "    _, Y_actual, Y_preds = EvaluateModel(classifier, loss_fn, test_loader)\n",
        "\n",
        "    # Calculate accuracy\n",
        "    accuracy = accuracy_score(Y_actual, Y_preds)\n",
        "\n",
        "    # Calculate precision, recall, and F1 score\n",
        "    precision = precision_score(Y_actual, Y_preds, average='weighted')\n",
        "    recall = recall_score(Y_actual, Y_preds, average='weighted')\n",
        "    f1 = f1_score(Y_actual, Y_preds, average='weighted')\n",
        "\n",
        "    # Calculate balanced accuracy\n",
        "    balanced_acc = balanced_accuracy_score(Y_actual, Y_preds)\n",
        "\n",
        "    print(\"\\nTest Accuracy : {:.3f}\".format(accuracy))\n",
        "    print(\"Precision (Weighted): {:.3f}\".format(precision))\n",
        "    print(\"Recall (Weighted): {:.3f}\".format(recall))\n",
        "    print(\"F1-Score (Weighted): {:.3f}\".format(f1))\n",
        "    print(\"Balanced Accuracy: {:.3f}\".format(balanced_acc))\n",
        "\n",
        "    print(\"\\nClassification Report : \")\n",
        "    print(classification_report(Y_actual, Y_preds, target_names=['0', '1']))\n",
        "    print(\"\\nConfusion Matrix : \")\n",
        "    print(confusion_matrix(Y_actual, Y_preds))\n",
        "\n",
        "    total_params = count_parameters(classifier)\n",
        "    print(f'{total_params}, {mean_training_time}, {accuracy}')\n",
        "\n",
        "    return {\n",
        "        'Dataset': dataset_name,\n",
        "        'Parameters': total_params,\n",
        "        'Training Time': mean_training_time,\n",
        "        'Test Accuracy': accuracy,\n",
        "        'Precision': precision,\n",
        "        'Recall': recall,\n",
        "        'F1-Score': f1,\n",
        "        'Balanced Accuracy': balanced_acc\n",
        "    }\n",
        "\n"
      ],
      "metadata": {
        "id": "OCOyjg2UTXxP"
      },
      "execution_count": null,
      "outputs": []
    },
    {
      "cell_type": "markdown",
      "source": [
        "### Run experiments"
      ],
      "metadata": {
        "id": "V_19Ts9X7pLi"
      }
    },
    {
      "cell_type": "code",
      "source": [
        "def prepare_data_loaders(dataframes):\n",
        "    dataset_loaders = {}\n",
        "    for dname, df in dataframes.items():\n",
        "        # print(f'..... {dname} ....')\n",
        "        df['CLASS'] = df['CLASS'].replace({'truthful': 0, 'deceptive': 1})\n",
        "        # print(df['CLASS'].value_counts())\n",
        "\n",
        "        X = df['TEXT']\n",
        "        y = df['CLASS']\n",
        "\n",
        "        X_train, X_test, y_train, y_test = train_test_split(X, y, test_size=0.2, stratify=y)\n",
        "\n",
        "        train_df = pd.concat([X_train, y_train], axis=1).reset_index(drop=True)\n",
        "        test_df = pd.concat([X_test, y_test], axis=1).reset_index(drop=True)\n",
        "\n",
        "        train_dataset = [(label, train_df['TEXT'][i]) for i, label in enumerate(train_df['CLASS'])]\n",
        "        test_dataset = [(label, test_df['TEXT'][i]) for i, label in enumerate(test_df['CLASS'])]\n",
        "\n",
        "        vocab = build_vocab_from_iterator(build_vocabulary([train_dataset, test_dataset]), min_freq=10, specials=[\"<PAD>\", \"<UNK>\"])\n",
        "        vocab.set_default_index(vocab[\"<UNK>\"])\n",
        "\n",
        "        loaders = make_data_loaders(train_dataset, test_dataset, MAX_WORDS, vocab)\n",
        "        dataset_loaders[dname] = (loaders, vocab)\n",
        "\n",
        "    return dataset_loaders"
      ],
      "metadata": {
        "id": "W8gLkasfp8EK"
      },
      "execution_count": null,
      "outputs": []
    },
    {
      "cell_type": "code",
      "source": [
        "dataset_loaders = prepare_data_loaders(dataframes)"
      ],
      "metadata": {
        "id": "YLwuYLhBqH7p"
      },
      "execution_count": null,
      "outputs": []
    },
    {
      "cell_type": "code",
      "source": [
        "def run_experiment(loaders, model_class, model_name, patience=3, attention=False):\n",
        "    results_list = []\n",
        "    for dname, (loaders, vocab) in loaders.items():\n",
        "        global dataset_name\n",
        "        dataset_name = dname\n",
        "        print(vocab)\n",
        "        if not attention:\n",
        "            model_instance = model_class(len(vocab), EMBEDDING_DIM, HIDDEN_DIM, 2).to(device)\n",
        "        else:\n",
        "            model_instance = model_class(len(vocab), EMBEDDING_DIM, NUM_HEADS, HIDDEN_DIM, 2).to(device)\n",
        "\n",
        "        results = classification_results(model_instance, loaders, patience)\n",
        "        results_list.append(results)\n",
        "\n",
        "    results_df = pd.DataFrame(results_list)\n",
        "    print(f\"\\nResults DataFrame for {model_name}:\")\n",
        "    print(results_df)\n",
        "    create_plots(results_df)\n",
        "    return results_df"
      ],
      "metadata": {
        "id": "ctbH9I2Ap_PO"
      },
      "execution_count": null,
      "outputs": []
    },
    {
      "cell_type": "code",
      "source": [
        "rnn_results_df = run_experiment(dataset_loaders, RNNModel, \"RNN Model\", 3, False)\n",
        "birnn_results_df = run_experiment(dataset_loaders, BiRNNModel, \"BiRNN Model\", 3, False)\n",
        "lstm_results_df = run_experiment(dataset_loaders, LSTMModel, \"LSTM Model\", 3, False)\n",
        "gru_results_df = run_experiment(dataset_loaders, GRUModel, \"GRU Model\", 3, False)\n",
        "transformer_results_df= run_experiment(dataset_loaders, TransformerModel, \"Transformer Model\", 3, True)"
      ],
      "metadata": {
        "colab": {
          "base_uri": "https://localhost:8080/",
          "height": 1000
        },
        "id": "zRfUxZiOq43w",
        "outputId": "02e51eb6-99ca-4303-9504-2863c7469d1c"
      },
      "execution_count": null,
      "outputs": [
        {
          "output_type": "stream",
          "name": "stdout",
          "text": [
            "Vocab()\n",
            "\n",
            "Model:\n",
            "RNNModel(\n",
            "  (embedding_layer): Embedding(1622, 100)\n",
            "  (rnn): RNN(100, 64, batch_first=True)\n",
            "  (linear): Linear(in_features=64, out_features=2, bias=True)\n",
            ")\n",
            "Total parameters:  172954\n",
            "\n",
            "\n",
            "\n",
            "Epoch: 1\n"
          ]
        },
        {
          "output_type": "stream",
          "name": "stderr",
          "text": [
            "100%|██████████| 38/38 [00:01<00:00, 28.33it/s]\n"
          ]
        },
        {
          "output_type": "stream",
          "name": "stdout",
          "text": [
            "Train Loss : 0.707\n",
            "Valid Loss : 0.713 Valid Acc  : 0.469\n",
            "Epoch: 2\n"
          ]
        },
        {
          "output_type": "stream",
          "name": "stderr",
          "text": [
            "100%|██████████| 38/38 [00:00<00:00, 172.94it/s]\n"
          ]
        },
        {
          "output_type": "stream",
          "name": "stdout",
          "text": [
            "Train Loss : 0.677\n",
            "Valid Loss : 0.718 Valid Acc  : 0.453\n",
            "Epoch: 3\n"
          ]
        },
        {
          "output_type": "stream",
          "name": "stderr",
          "text": [
            "100%|██████████| 38/38 [00:00<00:00, 155.21it/s]\n"
          ]
        },
        {
          "output_type": "stream",
          "name": "stdout",
          "text": [
            "Train Loss : 0.653\n",
            "Valid Loss : 0.715 Valid Acc  : 0.484\n",
            "Epoch: 4\n"
          ]
        },
        {
          "output_type": "stream",
          "name": "stderr",
          "text": [
            "100%|██████████| 38/38 [00:00<00:00, 110.96it/s]\n"
          ]
        },
        {
          "output_type": "stream",
          "name": "stdout",
          "text": [
            "Train Loss : 0.630\n",
            "Valid Loss : 0.738 Valid Acc  : 0.484\n",
            "Epoch: 5\n"
          ]
        },
        {
          "output_type": "stream",
          "name": "stderr",
          "text": [
            "100%|██████████| 38/38 [00:00<00:00, 113.94it/s]\n"
          ]
        },
        {
          "output_type": "stream",
          "name": "stdout",
          "text": [
            "Train Loss : 0.594\n",
            "Valid Loss : 0.717 Valid Acc  : 0.547\n",
            "Epoch: 6\n"
          ]
        },
        {
          "output_type": "stream",
          "name": "stderr",
          "text": [
            "100%|██████████| 38/38 [00:00<00:00, 112.39it/s]\n"
          ]
        },
        {
          "output_type": "stream",
          "name": "stdout",
          "text": [
            "Train Loss : 0.547\n",
            "Valid Loss : 0.801 Valid Acc  : 0.531\n",
            "Epoch: 7\n"
          ]
        },
        {
          "output_type": "stream",
          "name": "stderr",
          "text": [
            "100%|██████████| 38/38 [00:00<00:00, 117.95it/s]\n"
          ]
        },
        {
          "output_type": "stream",
          "name": "stdout",
          "text": [
            "Train Loss : 0.483\n",
            "Valid Loss : 0.798 Valid Acc  : 0.578\n",
            "Epoch: 8\n"
          ]
        },
        {
          "output_type": "stream",
          "name": "stderr",
          "text": [
            "100%|██████████| 38/38 [00:00<00:00, 108.47it/s]\n"
          ]
        },
        {
          "output_type": "stream",
          "name": "stdout",
          "text": [
            "Train Loss : 0.412\n",
            "Valid Loss : 0.747 Valid Acc  : 0.656\n",
            "Epoch: 9\n"
          ]
        },
        {
          "output_type": "stream",
          "name": "stderr",
          "text": [
            "100%|██████████| 38/38 [00:00<00:00, 118.12it/s]\n"
          ]
        },
        {
          "output_type": "stream",
          "name": "stdout",
          "text": [
            "Train Loss : 0.342\n",
            "Valid Loss : 0.810 Valid Acc  : 0.641\n",
            "Epoch: 10\n"
          ]
        },
        {
          "output_type": "stream",
          "name": "stderr",
          "text": [
            "100%|██████████| 38/38 [00:00<00:00, 106.82it/s]\n"
          ]
        },
        {
          "output_type": "stream",
          "name": "stdout",
          "text": [
            "Train Loss : 0.277\n",
            "Valid Loss : 0.989 Valid Acc  : 0.641\n",
            "Epoch: 11\n"
          ]
        },
        {
          "output_type": "stream",
          "name": "stderr",
          "text": [
            "100%|██████████| 38/38 [00:00<00:00, 101.54it/s]\n"
          ]
        },
        {
          "output_type": "stream",
          "name": "stdout",
          "text": [
            "Train Loss : 0.228\n",
            "Valid Loss : 1.011 Valid Acc  : 0.625\n",
            "Early stopping: No improvement for 3 consecutive epochs.\n",
            "\n",
            "Test Accuracy : 0.487\n",
            "Precision (Weighted): 0.487\n",
            "Recall (Weighted): 0.487\n",
            "F1-Score (Weighted): 0.481\n",
            "Balanced Accuracy: 0.487\n",
            "\n",
            "Classification Report : \n",
            "              precision    recall  f1-score   support\n",
            "\n",
            "           0       0.49      0.60      0.54       160\n",
            "           1       0.48      0.38      0.42       160\n",
            "\n",
            "    accuracy                           0.49       320\n",
            "   macro avg       0.49      0.49      0.48       320\n",
            "weighted avg       0.49      0.49      0.48       320\n",
            "\n",
            "\n",
            "Confusion Matrix : \n",
            "[[ 96  64]\n",
            " [100  60]]\n",
            "172954, 0.3836240768432617, 0.4875\n",
            "Vocab()\n",
            "\n",
            "Model:\n",
            "RNNModel(\n",
            "  (embedding_layer): Embedding(84, 100)\n",
            "  (rnn): RNN(100, 64, batch_first=True)\n",
            "  (linear): Linear(in_features=64, out_features=2, bias=True)\n",
            ")\n",
            "Total parameters:  19154\n",
            "\n",
            "\n",
            "\n",
            "Epoch: 1\n"
          ]
        },
        {
          "output_type": "stream",
          "name": "stderr",
          "text": [
            "100%|██████████| 3/3 [00:00<00:00, 131.00it/s]\n"
          ]
        },
        {
          "output_type": "stream",
          "name": "stdout",
          "text": [
            "Train Loss : 0.737\n",
            "Valid Loss : 0.584 Valid Acc  : 0.800\n",
            "Epoch: 2\n"
          ]
        },
        {
          "output_type": "stream",
          "name": "stderr",
          "text": [
            "100%|██████████| 3/3 [00:00<00:00, 147.12it/s]\n"
          ]
        },
        {
          "output_type": "stream",
          "name": "stdout",
          "text": [
            "Train Loss : 0.690\n",
            "Valid Loss : 0.628 Valid Acc  : 0.400\n",
            "Epoch: 3\n"
          ]
        },
        {
          "output_type": "stream",
          "name": "stderr",
          "text": [
            "100%|██████████| 3/3 [00:00<00:00, 142.91it/s]\n"
          ]
        },
        {
          "output_type": "stream",
          "name": "stdout",
          "text": [
            "Train Loss : 0.662\n",
            "Valid Loss : 0.652 Valid Acc  : 0.400\n",
            "Epoch: 4\n"
          ]
        },
        {
          "output_type": "stream",
          "name": "stderr",
          "text": [
            "100%|██████████| 3/3 [00:00<00:00, 143.20it/s]\n"
          ]
        },
        {
          "output_type": "stream",
          "name": "stdout",
          "text": [
            "Train Loss : 0.666\n",
            "Valid Loss : 0.698 Valid Acc  : 0.400\n",
            "Early stopping: No improvement for 3 consecutive epochs.\n",
            "\n",
            "Test Accuracy : 0.591\n",
            "Precision (Weighted): 0.775\n",
            "Recall (Weighted): 0.591\n",
            "F1-Score (Weighted): 0.509\n",
            "Balanced Accuracy: 0.591\n",
            "\n",
            "Classification Report : \n",
            "              precision    recall  f1-score   support\n",
            "\n",
            "           0       0.55      1.00      0.71        11\n",
            "           1       1.00      0.18      0.31        11\n",
            "\n",
            "    accuracy                           0.59        22\n",
            "   macro avg       0.78      0.59      0.51        22\n",
            "weighted avg       0.78      0.59      0.51        22\n",
            "\n",
            "\n",
            "Confusion Matrix : \n",
            "[[11  0]\n",
            " [ 9  2]]\n",
            "19154, 0.0316314697265625, 0.5909090909090909\n",
            "Vocab()\n",
            "\n",
            "Model:\n",
            "RNNModel(\n",
            "  (embedding_layer): Embedding(280, 100)\n",
            "  (rnn): RNN(100, 64, batch_first=True)\n",
            "  (linear): Linear(in_features=64, out_features=2, bias=True)\n",
            ")\n",
            "Total parameters:  38754\n",
            "\n",
            "\n",
            "\n",
            "Epoch: 1\n"
          ]
        },
        {
          "output_type": "stream",
          "name": "stderr",
          "text": [
            "100%|██████████| 6/6 [00:00<00:00, 135.67it/s]\n"
          ]
        },
        {
          "output_type": "stream",
          "name": "stdout",
          "text": [
            "Train Loss : 0.707\n",
            "Valid Loss : 0.622 Valid Acc  : 0.800\n",
            "Epoch: 2\n"
          ]
        },
        {
          "output_type": "stream",
          "name": "stderr",
          "text": [
            "100%|██████████| 6/6 [00:00<00:00, 125.32it/s]\n"
          ]
        },
        {
          "output_type": "stream",
          "name": "stdout",
          "text": [
            "Train Loss : 0.669\n",
            "Valid Loss : 0.613 Valid Acc  : 0.600\n",
            "Epoch: 3\n"
          ]
        },
        {
          "output_type": "stream",
          "name": "stderr",
          "text": [
            "100%|██████████| 6/6 [00:00<00:00, 120.24it/s]\n"
          ]
        },
        {
          "output_type": "stream",
          "name": "stdout",
          "text": [
            "Train Loss : 0.655\n",
            "Valid Loss : 0.611 Valid Acc  : 0.600\n",
            "Epoch: 4\n"
          ]
        },
        {
          "output_type": "stream",
          "name": "stderr",
          "text": [
            "100%|██████████| 6/6 [00:00<00:00, 116.46it/s]\n"
          ]
        },
        {
          "output_type": "stream",
          "name": "stdout",
          "text": [
            "Train Loss : 0.627\n",
            "Valid Loss : 0.565 Valid Acc  : 0.900\n",
            "Epoch: 5\n"
          ]
        },
        {
          "output_type": "stream",
          "name": "stderr",
          "text": [
            "100%|██████████| 6/6 [00:00<00:00, 110.09it/s]\n"
          ]
        },
        {
          "output_type": "stream",
          "name": "stdout",
          "text": [
            "Train Loss : 0.612\n",
            "Valid Loss : 0.614 Valid Acc  : 0.700\n",
            "Epoch: 6\n"
          ]
        },
        {
          "output_type": "stream",
          "name": "stderr",
          "text": [
            "100%|██████████| 6/6 [00:00<00:00, 83.80it/s]\n"
          ]
        },
        {
          "output_type": "stream",
          "name": "stdout",
          "text": [
            "Train Loss : 0.592\n",
            "Valid Loss : 0.607 Valid Acc  : 0.700\n",
            "Epoch: 7\n"
          ]
        },
        {
          "output_type": "stream",
          "name": "stderr",
          "text": [
            "100%|██████████| 6/6 [00:00<00:00, 88.93it/s]\n"
          ]
        },
        {
          "output_type": "stream",
          "name": "stdout",
          "text": [
            "Train Loss : 0.572\n",
            "Valid Loss : 0.553 Valid Acc  : 0.900\n",
            "Early stopping: No improvement for 3 consecutive epochs.\n",
            "\n",
            "Test Accuracy : 0.521\n",
            "Precision (Weighted): 0.524\n",
            "Recall (Weighted): 0.521\n",
            "F1-Score (Weighted): 0.503\n",
            "Balanced Accuracy: 0.521\n",
            "\n",
            "Classification Report : \n",
            "              precision    recall  f1-score   support\n",
            "\n",
            "           0       0.53      0.33      0.41        24\n",
            "           1       0.52      0.71      0.60        24\n",
            "\n",
            "    accuracy                           0.52        48\n",
            "   macro avg       0.52      0.52      0.50        48\n",
            "weighted avg       0.52      0.52      0.50        48\n",
            "\n",
            "\n",
            "Confusion Matrix : \n",
            "[[ 8 16]\n",
            " [ 7 17]]\n",
            "38754, 0.0830831527709961, 0.5208333333333334\n",
            "Vocab()\n",
            "\n",
            "Model:\n",
            "RNNModel(\n",
            "  (embedding_layer): Embedding(6675, 100)\n",
            "  (rnn): RNN(100, 64, batch_first=True)\n",
            "  (linear): Linear(in_features=64, out_features=2, bias=True)\n",
            ")\n",
            "Total parameters:  678254\n",
            "\n",
            "\n",
            "\n",
            "Epoch: 1\n"
          ]
        },
        {
          "output_type": "stream",
          "name": "stderr",
          "text": [
            "100%|██████████| 499/499 [00:02<00:00, 237.49it/s]\n"
          ]
        },
        {
          "output_type": "stream",
          "name": "stdout",
          "text": [
            "Train Loss : 0.700\n",
            "Valid Loss : 0.691 Valid Acc  : 0.537\n",
            "Epoch: 2\n"
          ]
        },
        {
          "output_type": "stream",
          "name": "stderr",
          "text": [
            "100%|██████████| 499/499 [00:01<00:00, 255.34it/s]\n"
          ]
        },
        {
          "output_type": "stream",
          "name": "stdout",
          "text": [
            "Train Loss : 0.688\n",
            "Valid Loss : 0.696 Valid Acc  : 0.511\n",
            "Epoch: 3\n"
          ]
        },
        {
          "output_type": "stream",
          "name": "stderr",
          "text": [
            "100%|██████████| 499/499 [00:02<00:00, 248.15it/s]\n"
          ]
        },
        {
          "output_type": "stream",
          "name": "stdout",
          "text": [
            "Train Loss : 0.678\n",
            "Valid Loss : 0.706 Valid Acc  : 0.493\n",
            "Epoch: 4\n"
          ]
        },
        {
          "output_type": "stream",
          "name": "stderr",
          "text": [
            "100%|██████████| 499/499 [00:01<00:00, 253.96it/s]\n"
          ]
        },
        {
          "output_type": "stream",
          "name": "stdout",
          "text": [
            "Train Loss : 0.660\n",
            "Valid Loss : 0.715 Valid Acc  : 0.501\n",
            "Early stopping: No improvement for 3 consecutive epochs.\n",
            "\n",
            "Test Accuracy : 0.506\n",
            "Precision (Weighted): 0.508\n",
            "Recall (Weighted): 0.506\n",
            "F1-Score (Weighted): 0.475\n",
            "Balanced Accuracy: 0.506\n",
            "\n",
            "Classification Report : \n",
            "              precision    recall  f1-score   support\n",
            "\n",
            "           0       0.50      0.75      0.60      2100\n",
            "           1       0.51      0.26      0.35      2100\n",
            "\n",
            "    accuracy                           0.51      4200\n",
            "   macro avg       0.51      0.51      0.47      4200\n",
            "weighted avg       0.51      0.51      0.47      4200\n",
            "\n",
            "\n",
            "Confusion Matrix : \n",
            "[[1579  521]\n",
            " [1552  548]]\n",
            "678254, 1.9732580184936523, 0.5064285714285715\n",
            "Vocab()\n",
            "\n",
            "Model:\n",
            "RNNModel(\n",
            "  (embedding_layer): Embedding(368, 100)\n",
            "  (rnn): RNN(100, 64, batch_first=True)\n",
            "  (linear): Linear(in_features=64, out_features=2, bias=True)\n",
            ")\n",
            "Total parameters:  47554\n",
            "\n",
            "\n",
            "\n",
            "Epoch: 1\n"
          ]
        },
        {
          "output_type": "stream",
          "name": "stderr",
          "text": [
            "100%|██████████| 15/15 [00:00<00:00, 266.23it/s]\n"
          ]
        },
        {
          "output_type": "stream",
          "name": "stdout",
          "text": [
            "Train Loss : 0.724\n",
            "Valid Loss : 0.714 Valid Acc  : 0.480\n",
            "Epoch: 2\n"
          ]
        },
        {
          "output_type": "stream",
          "name": "stderr",
          "text": [
            "100%|██████████| 15/15 [00:00<00:00, 239.88it/s]\n"
          ]
        },
        {
          "output_type": "stream",
          "name": "stdout",
          "text": [
            "Train Loss : 0.700\n",
            "Valid Loss : 0.729 Valid Acc  : 0.240\n",
            "Epoch: 3\n"
          ]
        },
        {
          "output_type": "stream",
          "name": "stderr",
          "text": [
            "100%|██████████| 15/15 [00:00<00:00, 258.30it/s]\n"
          ]
        },
        {
          "output_type": "stream",
          "name": "stdout",
          "text": [
            "Train Loss : 0.656\n",
            "Valid Loss : 0.718 Valid Acc  : 0.440\n",
            "Epoch: 4\n"
          ]
        },
        {
          "output_type": "stream",
          "name": "stderr",
          "text": [
            "100%|██████████| 15/15 [00:00<00:00, 249.32it/s]\n"
          ]
        },
        {
          "output_type": "stream",
          "name": "stdout",
          "text": [
            "Train Loss : 0.634\n",
            "Valid Loss : 0.708 Valid Acc  : 0.560\n",
            "Epoch: 5\n"
          ]
        },
        {
          "output_type": "stream",
          "name": "stderr",
          "text": [
            "100%|██████████| 15/15 [00:00<00:00, 255.46it/s]\n"
          ]
        },
        {
          "output_type": "stream",
          "name": "stdout",
          "text": [
            "Train Loss : 0.598\n",
            "Valid Loss : 0.747 Valid Acc  : 0.320\n",
            "Epoch: 6\n"
          ]
        },
        {
          "output_type": "stream",
          "name": "stderr",
          "text": [
            "100%|██████████| 15/15 [00:00<00:00, 260.85it/s]\n"
          ]
        },
        {
          "output_type": "stream",
          "name": "stdout",
          "text": [
            "Train Loss : 0.573\n",
            "Valid Loss : 0.805 Valid Acc  : 0.440\n",
            "Epoch: 7\n"
          ]
        },
        {
          "output_type": "stream",
          "name": "stderr",
          "text": [
            "100%|██████████| 15/15 [00:00<00:00, 245.51it/s]\n"
          ]
        },
        {
          "output_type": "stream",
          "name": "stdout",
          "text": [
            "Train Loss : 0.525\n",
            "Valid Loss : 0.797 Valid Acc  : 0.360\n",
            "Early stopping: No improvement for 3 consecutive epochs.\n",
            "\n",
            "Test Accuracy : 0.521\n",
            "Precision (Weighted): 0.521\n",
            "Recall (Weighted): 0.521\n",
            "F1-Score (Weighted): 0.517\n",
            "Balanced Accuracy: 0.520\n",
            "\n",
            "Classification Report : \n",
            "              precision    recall  f1-score   support\n",
            "\n",
            "           0       0.52      0.43      0.47        60\n",
            "           1       0.52      0.61      0.56        61\n",
            "\n",
            "    accuracy                           0.52       121\n",
            "   macro avg       0.52      0.52      0.52       121\n",
            "weighted avg       0.52      0.52      0.52       121\n",
            "\n",
            "\n",
            "Confusion Matrix : \n",
            "[[26 34]\n",
            " [24 37]]\n",
            "47554, 0.07169628143310547, 0.5206611570247934\n",
            "\n",
            "Results DataFrame for RNN Model:\n",
            "                       Dataset  Parameters  Training Time  Test Accuracy  \\\n",
            "0              OP_Spam_Dataset      172954       0.383624       0.487500   \n",
            "1  Restaurants_Reviews_Dataset       19154       0.031631       0.590909   \n",
            "2                DeRev_Dataset       38754       0.083083       0.520833   \n",
            "3       Amazon_Reviews_Dataset      678254       1.973258       0.506429   \n",
            "4       Cross_Cultural_Dataset       47554       0.071696       0.520661   \n",
            "\n",
            "   Precision    Recall  F1-Score  Balanced Accuracy  \n",
            "0   0.486833  0.487500  0.480931           0.487500  \n",
            "1   0.775000  0.590909  0.508685           0.590909  \n",
            "2   0.524242  0.520833  0.503374           0.520833  \n",
            "3   0.508470  0.506429  0.474780           0.506429  \n",
            "4   0.520568  0.520661  0.517030           0.519945  \n"
          ]
        },
        {
          "output_type": "display_data",
          "data": {
            "text/plain": [
              "<Figure size 1600x800 with 3 Axes>"
            ],
            "image/png": "[encoded data removed]"
          },
          "metadata": {}
        },
        {
          "output_type": "stream",
          "name": "stdout",
          "text": [
            "Vocab()\n",
            "\n",
            "Model:\n",
            "BiRNNModel(\n",
            "  (embedding_layer): Embedding(1622, 100)\n",
            "  (rnn): RNN(100, 64, batch_first=True, bidirectional=True)\n",
            "  (linear): Linear(in_features=128, out_features=2, bias=True)\n",
            ")\n",
            "Total parameters:  183706\n",
            "\n",
            "\n",
            "\n",
            "Epoch: 1\n"
          ]
        },
        {
          "output_type": "stream",
          "name": "stderr",
          "text": [
            "100%|██████████| 38/38 [00:00<00:00, 134.84it/s]\n"
          ]
        },
        {
          "output_type": "stream",
          "name": "stdout",
          "text": [
            "Train Loss : 0.708\n",
            "Valid Loss : 0.691 Valid Acc  : 0.594\n",
            "Epoch: 2\n"
          ]
        },
        {
          "output_type": "stream",
          "name": "stderr",
          "text": [
            "100%|██████████| 38/38 [00:00<00:00, 108.45it/s]\n"
          ]
        },
        {
          "output_type": "stream",
          "name": "stdout",
          "text": [
            "Train Loss : 0.680\n",
            "Valid Loss : 0.685 Valid Acc  : 0.562\n",
            "Epoch: 3\n"
          ]
        },
        {
          "output_type": "stream",
          "name": "stderr",
          "text": [
            "100%|██████████| 38/38 [00:00<00:00, 114.60it/s]\n"
          ]
        },
        {
          "output_type": "stream",
          "name": "stdout",
          "text": [
            "Train Loss : 0.667\n",
            "Valid Loss : 0.747 Valid Acc  : 0.422\n",
            "Epoch: 4\n"
          ]
        },
        {
          "output_type": "stream",
          "name": "stderr",
          "text": [
            "100%|██████████| 38/38 [00:00<00:00, 106.34it/s]\n"
          ]
        },
        {
          "output_type": "stream",
          "name": "stdout",
          "text": [
            "Train Loss : 0.635\n",
            "Valid Loss : 0.791 Valid Acc  : 0.453\n",
            "Early stopping: No improvement for 3 consecutive epochs.\n",
            "\n",
            "Test Accuracy : 0.525\n",
            "Precision (Weighted): 0.540\n",
            "Recall (Weighted): 0.525\n",
            "F1-Score (Weighted): 0.476\n",
            "Balanced Accuracy: 0.525\n",
            "\n",
            "Classification Report : \n",
            "              precision    recall  f1-score   support\n",
            "\n",
            "           0       0.52      0.83      0.64       160\n",
            "           1       0.56      0.22      0.32       160\n",
            "\n",
            "    accuracy                           0.53       320\n",
            "   macro avg       0.54      0.53      0.48       320\n",
            "weighted avg       0.54      0.53      0.48       320\n",
            "\n",
            "\n",
            "Confusion Matrix : \n",
            "[[133  27]\n",
            " [125  35]]\n",
            "183706, 0.36449766159057617, 0.525\n",
            "Vocab()\n",
            "\n",
            "Model:\n",
            "BiRNNModel(\n",
            "  (embedding_layer): Embedding(84, 100)\n",
            "  (rnn): RNN(100, 64, batch_first=True, bidirectional=True)\n",
            "  (linear): Linear(in_features=128, out_features=2, bias=True)\n",
            ")\n",
            "Total parameters:  29906\n",
            "\n",
            "\n",
            "\n",
            "Epoch: 1\n"
          ]
        },
        {
          "output_type": "stream",
          "name": "stderr",
          "text": [
            "100%|██████████| 3/3 [00:00<00:00, 102.90it/s]\n"
          ]
        },
        {
          "output_type": "stream",
          "name": "stdout",
          "text": [
            "Train Loss : 0.699\n",
            "Valid Loss : 0.803 Valid Acc  : 0.200\n",
            "Epoch: 2\n"
          ]
        },
        {
          "output_type": "stream",
          "name": "stderr",
          "text": [
            "100%|██████████| 3/3 [00:00<00:00, 118.86it/s]\n"
          ]
        },
        {
          "output_type": "stream",
          "name": "stdout",
          "text": [
            "Train Loss : 0.649\n",
            "Valid Loss : 0.768 Valid Acc  : 0.600\n",
            "Epoch: 3\n"
          ]
        },
        {
          "output_type": "stream",
          "name": "stderr",
          "text": [
            "100%|██████████| 3/3 [00:00<00:00, 112.42it/s]\n"
          ]
        },
        {
          "output_type": "stream",
          "name": "stdout",
          "text": [
            "Train Loss : 0.644\n",
            "Valid Loss : 0.801 Valid Acc  : 0.200\n",
            "Epoch: 4\n"
          ]
        },
        {
          "output_type": "stream",
          "name": "stderr",
          "text": [
            "100%|██████████| 3/3 [00:00<00:00, 108.78it/s]\n"
          ]
        },
        {
          "output_type": "stream",
          "name": "stdout",
          "text": [
            "Train Loss : 0.618\n",
            "Valid Loss : 0.808 Valid Acc  : 0.200\n",
            "Epoch: 5\n"
          ]
        },
        {
          "output_type": "stream",
          "name": "stderr",
          "text": [
            "100%|██████████| 3/3 [00:00<00:00, 102.92it/s]\n"
          ]
        },
        {
          "output_type": "stream",
          "name": "stdout",
          "text": [
            "Train Loss : 0.611\n",
            "Valid Loss : 0.817 Valid Acc  : 0.200\n",
            "Early stopping: No improvement for 3 consecutive epochs.\n",
            "\n",
            "Test Accuracy : 0.727\n",
            "Precision (Weighted): 0.824\n",
            "Recall (Weighted): 0.727\n",
            "F1-Score (Weighted): 0.705\n",
            "Balanced Accuracy: 0.727\n",
            "\n",
            "Classification Report : \n",
            "              precision    recall  f1-score   support\n",
            "\n",
            "           0       0.65      1.00      0.79        11\n",
            "           1       1.00      0.45      0.62        11\n",
            "\n",
            "    accuracy                           0.73        22\n",
            "   macro avg       0.82      0.73      0.71        22\n",
            "weighted avg       0.82      0.73      0.71        22\n",
            "\n",
            "\n",
            "Confusion Matrix : \n",
            "[[11  0]\n",
            " [ 6  5]]\n",
            "29906, 0.03764057159423828, 0.7272727272727273\n",
            "Vocab()\n",
            "\n",
            "Model:\n",
            "BiRNNModel(\n",
            "  (embedding_layer): Embedding(280, 100)\n",
            "  (rnn): RNN(100, 64, batch_first=True, bidirectional=True)\n",
            "  (linear): Linear(in_features=128, out_features=2, bias=True)\n",
            ")\n",
            "Total parameters:  49506\n",
            "\n",
            "\n",
            "\n",
            "Epoch: 1\n"
          ]
        },
        {
          "output_type": "stream",
          "name": "stderr",
          "text": [
            "100%|██████████| 6/6 [00:00<00:00, 126.10it/s]\n"
          ]
        },
        {
          "output_type": "stream",
          "name": "stdout",
          "text": [
            "Train Loss : 0.716\n",
            "Valid Loss : 0.710 Valid Acc  : 0.400\n",
            "Epoch: 2\n"
          ]
        },
        {
          "output_type": "stream",
          "name": "stderr",
          "text": [
            "100%|██████████| 6/6 [00:00<00:00, 105.04it/s]\n"
          ]
        },
        {
          "output_type": "stream",
          "name": "stdout",
          "text": [
            "Train Loss : 0.672\n",
            "Valid Loss : 0.659 Valid Acc  : 0.600\n",
            "Epoch: 3\n"
          ]
        },
        {
          "output_type": "stream",
          "name": "stderr",
          "text": [
            "100%|██████████| 6/6 [00:00<00:00, 104.88it/s]\n"
          ]
        },
        {
          "output_type": "stream",
          "name": "stdout",
          "text": [
            "Train Loss : 0.642\n",
            "Valid Loss : 0.612 Valid Acc  : 0.600\n",
            "Epoch: 4\n"
          ]
        },
        {
          "output_type": "stream",
          "name": "stderr",
          "text": [
            "100%|██████████| 6/6 [00:00<00:00, 129.88it/s]"
          ]
        },
        {
          "output_type": "stream",
          "name": "stdout",
          "text": [
            "Train Loss : 0.632\n"
          ]
        },
        {
          "output_type": "stream",
          "name": "stderr",
          "text": [
            "\n"
          ]
        },
        {
          "output_type": "stream",
          "name": "stdout",
          "text": [
            "Valid Loss : 0.636 Valid Acc  : 0.700\n",
            "Epoch: 5\n"
          ]
        },
        {
          "output_type": "stream",
          "name": "stderr",
          "text": [
            "100%|██████████| 6/6 [00:00<00:00, 121.95it/s]\n"
          ]
        },
        {
          "output_type": "stream",
          "name": "stdout",
          "text": [
            "Train Loss : 0.614\n",
            "Valid Loss : 0.661 Valid Acc  : 0.500\n",
            "Epoch: 6\n"
          ]
        },
        {
          "output_type": "stream",
          "name": "stderr",
          "text": [
            "100%|██████████| 6/6 [00:00<00:00, 121.74it/s]\n"
          ]
        },
        {
          "output_type": "stream",
          "name": "stdout",
          "text": [
            "Train Loss : 0.597\n",
            "Valid Loss : 0.621 Valid Acc  : 0.700\n",
            "Epoch: 7\n"
          ]
        },
        {
          "output_type": "stream",
          "name": "stderr",
          "text": [
            "100%|██████████| 6/6 [00:00<00:00, 111.32it/s]\n"
          ]
        },
        {
          "output_type": "stream",
          "name": "stdout",
          "text": [
            "Train Loss : 0.586\n",
            "Valid Loss : 0.618 Valid Acc  : 0.800\n",
            "Epoch: 8\n"
          ]
        },
        {
          "output_type": "stream",
          "name": "stderr",
          "text": [
            "100%|██████████| 6/6 [00:00<00:00, 107.28it/s]\n"
          ]
        },
        {
          "output_type": "stream",
          "name": "stdout",
          "text": [
            "Train Loss : 0.563\n",
            "Valid Loss : 0.614 Valid Acc  : 0.700\n",
            "Epoch: 9\n"
          ]
        },
        {
          "output_type": "stream",
          "name": "stderr",
          "text": [
            "100%|██████████| 6/6 [00:00<00:00, 128.52it/s]"
          ]
        },
        {
          "output_type": "stream",
          "name": "stdout",
          "text": [
            "Train Loss : 0.563\n",
            "Valid Loss : 0.614"
          ]
        },
        {
          "output_type": "stream",
          "name": "stderr",
          "text": [
            "\n"
          ]
        },
        {
          "output_type": "stream",
          "name": "stdout",
          "text": [
            " Valid Acc  : 0.800\n",
            "Epoch: 10\n"
          ]
        },
        {
          "output_type": "stream",
          "name": "stderr",
          "text": [
            "100%|██████████| 6/6 [00:00<00:00, 123.36it/s]\n"
          ]
        },
        {
          "output_type": "stream",
          "name": "stdout",
          "text": [
            "Train Loss : 0.539\n",
            "Valid Loss : 0.586 Valid Acc  : 0.700\n",
            "Early stopping: No improvement for 3 consecutive epochs.\n",
            "\n",
            "Test Accuracy : 0.604\n",
            "Precision (Weighted): 0.614\n",
            "Recall (Weighted): 0.604\n",
            "F1-Score (Weighted): 0.596\n",
            "Balanced Accuracy: 0.604\n",
            "\n",
            "Classification Report : \n",
            "              precision    recall  f1-score   support\n",
            "\n",
            "           0       0.65      0.46      0.54        24\n",
            "           1       0.58      0.75      0.65        24\n",
            "\n",
            "    accuracy                           0.60        48\n",
            "   macro avg       0.61      0.60      0.60        48\n",
            "weighted avg       0.61      0.60      0.60        48\n",
            "\n",
            "\n",
            "Confusion Matrix : \n",
            "[[11 13]\n",
            " [ 6 18]]\n",
            "49506, 0.05477499961853027, 0.6041666666666666\n",
            "Vocab()\n",
            "\n",
            "Model:\n",
            "BiRNNModel(\n",
            "  (embedding_layer): Embedding(6675, 100)\n",
            "  (rnn): RNN(100, 64, batch_first=True, bidirectional=True)\n",
            "  (linear): Linear(in_features=128, out_features=2, bias=True)\n",
            ")\n",
            "Total parameters:  689006\n",
            "\n",
            "\n",
            "\n",
            "Epoch: 1\n"
          ]
        },
        {
          "output_type": "stream",
          "name": "stderr",
          "text": [
            "100%|██████████| 499/499 [00:02<00:00, 169.80it/s]\n"
          ]
        },
        {
          "output_type": "stream",
          "name": "stdout",
          "text": [
            "Train Loss : 0.700\n",
            "Valid Loss : 0.695 Valid Acc  : 0.525\n",
            "Epoch: 2\n"
          ]
        },
        {
          "output_type": "stream",
          "name": "stderr",
          "text": [
            "100%|██████████| 499/499 [00:02<00:00, 237.80it/s]\n"
          ]
        },
        {
          "output_type": "stream",
          "name": "stdout",
          "text": [
            "Train Loss : 0.689\n",
            "Valid Loss : 0.695 Valid Acc  : 0.524\n",
            "Epoch: 3\n"
          ]
        },
        {
          "output_type": "stream",
          "name": "stderr",
          "text": [
            "100%|██████████| 499/499 [00:02<00:00, 235.51it/s]\n"
          ]
        },
        {
          "output_type": "stream",
          "name": "stdout",
          "text": [
            "Train Loss : 0.678\n",
            "Valid Loss : 0.711 Valid Acc  : 0.487\n",
            "Epoch: 4\n"
          ]
        },
        {
          "output_type": "stream",
          "name": "stderr",
          "text": [
            "100%|██████████| 499/499 [00:02<00:00, 238.77it/s]\n"
          ]
        },
        {
          "output_type": "stream",
          "name": "stdout",
          "text": [
            "Train Loss : 0.657\n",
            "Valid Loss : 0.732 Valid Acc  : 0.519\n",
            "Early stopping: No improvement for 3 consecutive epochs.\n",
            "\n",
            "Test Accuracy : 0.533\n",
            "Precision (Weighted): 0.535\n",
            "Recall (Weighted): 0.533\n",
            "F1-Score (Weighted): 0.528\n",
            "Balanced Accuracy: 0.533\n",
            "\n",
            "Classification Report : \n",
            "              precision    recall  f1-score   support\n",
            "\n",
            "           0       0.53      0.64      0.58      2100\n",
            "           1       0.54      0.43      0.48      2100\n",
            "\n",
            "    accuracy                           0.53      4200\n",
            "   macro avg       0.53      0.53      0.53      4200\n",
            "weighted avg       0.53      0.53      0.53      4200\n",
            "\n",
            "\n",
            "Confusion Matrix : \n",
            "[[1335  765]\n",
            " [1196  904]]\n",
            "689006, 2.096853733062744, 0.5330952380952381\n",
            "Vocab()\n",
            "\n",
            "Model:\n",
            "BiRNNModel(\n",
            "  (embedding_layer): Embedding(368, 100)\n",
            "  (rnn): RNN(100, 64, batch_first=True, bidirectional=True)\n",
            "  (linear): Linear(in_features=128, out_features=2, bias=True)\n",
            ")\n",
            "Total parameters:  58306\n",
            "\n",
            "\n",
            "\n",
            "Epoch: 1\n"
          ]
        },
        {
          "output_type": "stream",
          "name": "stderr",
          "text": [
            "100%|██████████| 15/15 [00:00<00:00, 207.49it/s]\n"
          ]
        },
        {
          "output_type": "stream",
          "name": "stdout",
          "text": [
            "Train Loss : 0.704\n",
            "Valid Loss : 0.713 Valid Acc  : 0.520\n",
            "Epoch: 2\n"
          ]
        },
        {
          "output_type": "stream",
          "name": "stderr",
          "text": [
            "100%|██████████| 15/15 [00:00<00:00, 235.36it/s]\n"
          ]
        },
        {
          "output_type": "stream",
          "name": "stdout",
          "text": [
            "Train Loss : 0.671\n",
            "Valid Loss : 0.701 Valid Acc  : 0.480\n",
            "Epoch: 3\n"
          ]
        },
        {
          "output_type": "stream",
          "name": "stderr",
          "text": [
            "100%|██████████| 15/15 [00:00<00:00, 217.31it/s]\n"
          ]
        },
        {
          "output_type": "stream",
          "name": "stdout",
          "text": [
            "Train Loss : 0.630\n",
            "Valid Loss : 0.684 Valid Acc  : 0.480\n",
            "Epoch: 4\n"
          ]
        },
        {
          "output_type": "stream",
          "name": "stderr",
          "text": [
            "100%|██████████| 15/15 [00:00<00:00, 193.82it/s]\n"
          ]
        },
        {
          "output_type": "stream",
          "name": "stdout",
          "text": [
            "Train Loss : 0.612\n",
            "Valid Loss : 0.712 Valid Acc  : 0.480\n",
            "Early stopping: No improvement for 3 consecutive epochs.\n",
            "\n",
            "Test Accuracy : 0.471\n",
            "Precision (Weighted): 0.446\n",
            "Recall (Weighted): 0.471\n",
            "F1-Score (Weighted): 0.393\n",
            "Balanced Accuracy: 0.474\n",
            "\n",
            "Classification Report : \n",
            "              precision    recall  f1-score   support\n",
            "\n",
            "           0       0.48      0.83      0.61        60\n",
            "           1       0.41      0.11      0.18        61\n",
            "\n",
            "    accuracy                           0.47       121\n",
            "   macro avg       0.45      0.47      0.39       121\n",
            "weighted avg       0.45      0.47      0.39       121\n",
            "\n",
            "\n",
            "Confusion Matrix : \n",
            "[[50 10]\n",
            " [54  7]]\n",
            "58306, 0.08401107788085938, 0.47107438016528924\n",
            "\n",
            "Results DataFrame for BiRNN Model:\n",
            "                       Dataset  Parameters  Training Time  Test Accuracy  \\\n",
            "0              OP_Spam_Dataset      183706       0.364498       0.525000   \n",
            "1  Restaurants_Reviews_Dataset       29906       0.037641       0.727273   \n",
            "2                DeRev_Dataset       49506       0.054775       0.604167   \n",
            "3       Amazon_Reviews_Dataset      689006       2.096854       0.533095   \n",
            "4       Cross_Cultural_Dataset       58306       0.084011       0.471074   \n",
            "\n",
            "   Precision    Recall  F1-Score  Balanced Accuracy  \n",
            "0   0.540010  0.525000  0.475839           0.525000  \n",
            "1   0.823529  0.727273  0.705357           0.727273  \n",
            "2   0.613852  0.604167  0.595565           0.604167  \n",
            "3   0.534551  0.533095  0.528126           0.533095  \n",
            "4   0.445982  0.471074  0.392844           0.474044  \n"
          ]
        },
        {
          "output_type": "display_data",
          "data": {
            "text/plain": [
              "<Figure size 1600x800 with 3 Axes>"
            ],
            "image/png": "[encoded data removed]"
          },
          "metadata": {}
        },
        {
          "output_type": "stream",
          "name": "stdout",
          "text": [
            "Vocab()\n",
            "\n",
            "Model:\n",
            "LSTMModel(\n",
            "  (embedding_layer): Embedding(1622, 100)\n",
            "  (lstm): LSTM(100, 64, batch_first=True)\n",
            "  (linear): Linear(in_features=64, out_features=2, bias=True)\n",
            ")\n",
            "Total parameters:  204826\n",
            "\n",
            "\n",
            "\n",
            "Epoch: 1\n"
          ]
        },
        {
          "output_type": "stream",
          "name": "stderr",
          "text": [
            "100%|██████████| 38/38 [00:00<00:00, 167.84it/s]\n"
          ]
        },
        {
          "output_type": "stream",
          "name": "stdout",
          "text": [
            "Train Loss : 0.700\n",
            "Valid Loss : 0.686 Valid Acc  : 0.562\n",
            "Epoch: 2\n"
          ]
        },
        {
          "output_type": "stream",
          "name": "stderr",
          "text": [
            "100%|██████████| 38/38 [00:00<00:00, 166.87it/s]\n"
          ]
        },
        {
          "output_type": "stream",
          "name": "stdout",
          "text": [
            "Train Loss : 0.687\n",
            "Valid Loss : 0.696 Valid Acc  : 0.469\n",
            "Epoch: 3\n"
          ]
        },
        {
          "output_type": "stream",
          "name": "stderr",
          "text": [
            "100%|██████████| 38/38 [00:00<00:00, 173.24it/s]\n"
          ]
        },
        {
          "output_type": "stream",
          "name": "stdout",
          "text": [
            "Train Loss : 0.675\n",
            "Valid Loss : 0.684 Valid Acc  : 0.594\n",
            "Epoch: 4\n"
          ]
        },
        {
          "output_type": "stream",
          "name": "stderr",
          "text": [
            "100%|██████████| 38/38 [00:00<00:00, 144.12it/s]\n"
          ]
        },
        {
          "output_type": "stream",
          "name": "stdout",
          "text": [
            "Train Loss : 0.634\n",
            "Valid Loss : 0.620 Valid Acc  : 0.641\n",
            "Epoch: 5\n"
          ]
        },
        {
          "output_type": "stream",
          "name": "stderr",
          "text": [
            "100%|██████████| 38/38 [00:00<00:00, 139.81it/s]\n"
          ]
        },
        {
          "output_type": "stream",
          "name": "stdout",
          "text": [
            "Train Loss : 0.512\n",
            "Valid Loss : 0.605 Valid Acc  : 0.672\n",
            "Epoch: 6\n"
          ]
        },
        {
          "output_type": "stream",
          "name": "stderr",
          "text": [
            "100%|██████████| 38/38 [00:00<00:00, 115.24it/s]\n"
          ]
        },
        {
          "output_type": "stream",
          "name": "stdout",
          "text": [
            "Train Loss : 0.399\n",
            "Valid Loss : 0.644 Valid Acc  : 0.688\n",
            "Epoch: 7\n"
          ]
        },
        {
          "output_type": "stream",
          "name": "stderr",
          "text": [
            "100%|██████████| 38/38 [00:00<00:00, 111.74it/s]\n"
          ]
        },
        {
          "output_type": "stream",
          "name": "stdout",
          "text": [
            "Train Loss : 0.320\n",
            "Valid Loss : 0.721 Valid Acc  : 0.703\n",
            "Epoch: 8\n"
          ]
        },
        {
          "output_type": "stream",
          "name": "stderr",
          "text": [
            "100%|██████████| 38/38 [00:00<00:00, 117.43it/s]\n"
          ]
        },
        {
          "output_type": "stream",
          "name": "stdout",
          "text": [
            "Train Loss : 0.227\n",
            "Valid Loss : 0.828 Valid Acc  : 0.672\n",
            "Epoch: 9\n"
          ]
        },
        {
          "output_type": "stream",
          "name": "stderr",
          "text": [
            "100%|██████████| 38/38 [00:00<00:00, 115.07it/s]\n"
          ]
        },
        {
          "output_type": "stream",
          "name": "stdout",
          "text": [
            "Train Loss : 0.181\n",
            "Valid Loss : 0.926 Valid Acc  : 0.672\n",
            "Epoch: 10\n"
          ]
        },
        {
          "output_type": "stream",
          "name": "stderr",
          "text": [
            "100%|██████████| 38/38 [00:00<00:00, 107.55it/s]\n"
          ]
        },
        {
          "output_type": "stream",
          "name": "stdout",
          "text": [
            "Train Loss : 0.115\n",
            "Valid Loss : 1.018 Valid Acc  : 0.672\n",
            "Early stopping: No improvement for 3 consecutive epochs.\n",
            "\n",
            "Test Accuracy : 0.709\n",
            "Precision (Weighted): 0.711\n",
            "Recall (Weighted): 0.709\n",
            "F1-Score (Weighted): 0.709\n",
            "Balanced Accuracy: 0.709\n",
            "\n",
            "Classification Report : \n",
            "              precision    recall  f1-score   support\n",
            "\n",
            "           0       0.73      0.67      0.70       160\n",
            "           1       0.69      0.75      0.72       160\n",
            "\n",
            "    accuracy                           0.71       320\n",
            "   macro avg       0.71      0.71      0.71       320\n",
            "weighted avg       0.71      0.71      0.71       320\n",
            "\n",
            "\n",
            "Confusion Matrix : \n",
            "[[107  53]\n",
            " [ 40 120]]\n",
            "204826, 0.36192965507507324, 0.709375\n",
            "Vocab()\n",
            "\n",
            "Model:\n",
            "LSTMModel(\n",
            "  (embedding_layer): Embedding(84, 100)\n",
            "  (lstm): LSTM(100, 64, batch_first=True)\n",
            "  (linear): Linear(in_features=64, out_features=2, bias=True)\n",
            ")\n",
            "Total parameters:  51026\n",
            "\n",
            "\n",
            "\n",
            "Epoch: 1\n"
          ]
        },
        {
          "output_type": "stream",
          "name": "stderr",
          "text": [
            "100%|██████████| 3/3 [00:00<00:00, 151.06it/s]\n"
          ]
        },
        {
          "output_type": "stream",
          "name": "stdout",
          "text": [
            "Train Loss : 0.694\n",
            "Valid Loss : 0.743 Valid Acc  : 0.200\n",
            "Epoch: 2\n"
          ]
        },
        {
          "output_type": "stream",
          "name": "stderr",
          "text": [
            "100%|██████████| 3/3 [00:00<00:00, 150.57it/s]\n"
          ]
        },
        {
          "output_type": "stream",
          "name": "stdout",
          "text": [
            "Train Loss : 0.672\n",
            "Valid Loss : 0.700 Valid Acc  : 0.600\n",
            "Epoch: 3\n"
          ]
        },
        {
          "output_type": "stream",
          "name": "stderr",
          "text": [
            "100%|██████████| 3/3 [00:00<00:00, 156.35it/s]\n"
          ]
        },
        {
          "output_type": "stream",
          "name": "stdout",
          "text": [
            "Train Loss : 0.668\n",
            "Valid Loss : 0.725 Valid Acc  : 0.200\n",
            "Epoch: 4\n"
          ]
        },
        {
          "output_type": "stream",
          "name": "stderr",
          "text": [
            "100%|██████████| 3/3 [00:00<00:00, 166.72it/s]\n"
          ]
        },
        {
          "output_type": "stream",
          "name": "stdout",
          "text": [
            "Train Loss : 0.648\n",
            "Valid Loss : 0.723 Valid Acc  : 0.200\n",
            "Epoch: 5\n"
          ]
        },
        {
          "output_type": "stream",
          "name": "stderr",
          "text": [
            "100%|██████████| 3/3 [00:00<00:00, 163.44it/s]\n"
          ]
        },
        {
          "output_type": "stream",
          "name": "stdout",
          "text": [
            "Train Loss : 0.645\n",
            "Valid Loss : 0.726 Valid Acc  : 0.200\n",
            "Early stopping: No improvement for 3 consecutive epochs.\n",
            "\n",
            "Test Accuracy : 0.591\n",
            "Precision (Weighted): 0.653\n",
            "Recall (Weighted): 0.591\n",
            "F1-Score (Weighted): 0.545\n",
            "Balanced Accuracy: 0.591\n",
            "\n",
            "Classification Report : \n",
            "              precision    recall  f1-score   support\n",
            "\n",
            "           0       0.56      0.91      0.69        11\n",
            "           1       0.75      0.27      0.40        11\n",
            "\n",
            "    accuracy                           0.59        22\n",
            "   macro avg       0.65      0.59      0.54        22\n",
            "weighted avg       0.65      0.59      0.54        22\n",
            "\n",
            "\n",
            "Confusion Matrix : \n",
            "[[10  1]\n",
            " [ 8  3]]\n",
            "51026, 0.024877071380615234, 0.5909090909090909\n",
            "Vocab()\n",
            "\n",
            "Model:\n",
            "LSTMModel(\n",
            "  (embedding_layer): Embedding(280, 100)\n",
            "  (lstm): LSTM(100, 64, batch_first=True)\n",
            "  (linear): Linear(in_features=64, out_features=2, bias=True)\n",
            ")\n",
            "Total parameters:  70626\n",
            "\n",
            "\n",
            "\n",
            "Epoch: 1\n"
          ]
        },
        {
          "output_type": "stream",
          "name": "stderr",
          "text": [
            "100%|██████████| 6/6 [00:00<00:00, 124.24it/s]\n"
          ]
        },
        {
          "output_type": "stream",
          "name": "stdout",
          "text": [
            "Train Loss : 0.710\n",
            "Valid Loss : 0.664 Valid Acc  : 0.700\n",
            "Epoch: 2\n"
          ]
        },
        {
          "output_type": "stream",
          "name": "stderr",
          "text": [
            "100%|██████████| 6/6 [00:00<00:00, 123.13it/s]\n"
          ]
        },
        {
          "output_type": "stream",
          "name": "stdout",
          "text": [
            "Train Loss : 0.685\n",
            "Valid Loss : 0.628 Valid Acc  : 0.700\n",
            "Epoch: 3\n"
          ]
        },
        {
          "output_type": "stream",
          "name": "stderr",
          "text": [
            "100%|██████████| 6/6 [00:00<00:00, 120.26it/s]\n"
          ]
        },
        {
          "output_type": "stream",
          "name": "stdout",
          "text": [
            "Train Loss : 0.677\n",
            "Valid Loss : 0.639 Valid Acc  : 0.800\n",
            "Epoch: 4\n"
          ]
        },
        {
          "output_type": "stream",
          "name": "stderr",
          "text": [
            "100%|██████████| 6/6 [00:00<00:00, 138.74it/s]\n"
          ]
        },
        {
          "output_type": "stream",
          "name": "stdout",
          "text": [
            "Train Loss : 0.673\n",
            "Valid Loss : 0.670 Valid Acc  : 0.400\n",
            "Epoch: 5\n"
          ]
        },
        {
          "output_type": "stream",
          "name": "stderr",
          "text": [
            "100%|██████████| 6/6 [00:00<00:00, 123.03it/s]\n"
          ]
        },
        {
          "output_type": "stream",
          "name": "stdout",
          "text": [
            "Train Loss : 0.664\n",
            "Valid Loss : 0.614 Valid Acc  : 0.800\n",
            "Epoch: 6\n"
          ]
        },
        {
          "output_type": "stream",
          "name": "stderr",
          "text": [
            "100%|██████████| 6/6 [00:00<00:00, 107.11it/s]\n"
          ]
        },
        {
          "output_type": "stream",
          "name": "stdout",
          "text": [
            "Train Loss : 0.652\n",
            "Valid Loss : 0.646 Valid Acc  : 0.700\n",
            "Early stopping: No improvement for 3 consecutive epochs.\n",
            "\n",
            "Test Accuracy : 0.562\n",
            "Precision (Weighted): 0.568\n",
            "Recall (Weighted): 0.562\n",
            "F1-Score (Weighted): 0.553\n",
            "Balanced Accuracy: 0.562\n",
            "\n",
            "Classification Report : \n",
            "              precision    recall  f1-score   support\n",
            "\n",
            "           0       0.55      0.71      0.62        24\n",
            "           1       0.59      0.42      0.49        24\n",
            "\n",
            "    accuracy                           0.56        48\n",
            "   macro avg       0.57      0.56      0.55        48\n",
            "weighted avg       0.57      0.56      0.55        48\n",
            "\n",
            "\n",
            "Confusion Matrix : \n",
            "[[17  7]\n",
            " [14 10]]\n",
            "70626, 0.06316423416137695, 0.5625\n",
            "Vocab()\n",
            "\n",
            "Model:\n",
            "LSTMModel(\n",
            "  (embedding_layer): Embedding(6675, 100)\n",
            "  (lstm): LSTM(100, 64, batch_first=True)\n",
            "  (linear): Linear(in_features=64, out_features=2, bias=True)\n",
            ")\n",
            "Total parameters:  710126\n",
            "\n",
            "\n",
            "\n",
            "Epoch: 1\n"
          ]
        },
        {
          "output_type": "stream",
          "name": "stderr",
          "text": [
            "100%|██████████| 499/499 [00:02<00:00, 177.75it/s]\n"
          ]
        },
        {
          "output_type": "stream",
          "name": "stdout",
          "text": [
            "Train Loss : 0.692\n",
            "Valid Loss : 0.692 Valid Acc  : 0.539\n",
            "Epoch: 2\n"
          ]
        },
        {
          "output_type": "stream",
          "name": "stderr",
          "text": [
            "100%|██████████| 499/499 [00:02<00:00, 234.66it/s]\n"
          ]
        },
        {
          "output_type": "stream",
          "name": "stdout",
          "text": [
            "Train Loss : 0.671\n",
            "Valid Loss : 0.682 Valid Acc  : 0.594\n",
            "Epoch: 3\n"
          ]
        },
        {
          "output_type": "stream",
          "name": "stderr",
          "text": [
            "100%|██████████| 499/499 [00:02<00:00, 240.83it/s]\n"
          ]
        },
        {
          "output_type": "stream",
          "name": "stdout",
          "text": [
            "Train Loss : 0.616\n",
            "Valid Loss : 0.691 Valid Acc  : 0.594\n",
            "Epoch: 4\n"
          ]
        },
        {
          "output_type": "stream",
          "name": "stderr",
          "text": [
            "100%|██████████| 499/499 [00:02<00:00, 240.96it/s]\n"
          ]
        },
        {
          "output_type": "stream",
          "name": "stdout",
          "text": [
            "Train Loss : 0.539\n",
            "Valid Loss : 0.738 Valid Acc  : 0.604\n",
            "Epoch: 5\n"
          ]
        },
        {
          "output_type": "stream",
          "name": "stderr",
          "text": [
            "100%|██████████| 499/499 [00:02<00:00, 236.38it/s]\n"
          ]
        },
        {
          "output_type": "stream",
          "name": "stdout",
          "text": [
            "Train Loss : 0.451\n",
            "Valid Loss : 0.812 Valid Acc  : 0.582\n",
            "Epoch: 6\n"
          ]
        },
        {
          "output_type": "stream",
          "name": "stderr",
          "text": [
            "100%|██████████| 499/499 [00:02<00:00, 186.02it/s]\n"
          ]
        },
        {
          "output_type": "stream",
          "name": "stdout",
          "text": [
            "Train Loss : 0.350\n",
            "Valid Loss : 0.995 Valid Acc  : 0.570\n",
            "Epoch: 7\n"
          ]
        },
        {
          "output_type": "stream",
          "name": "stderr",
          "text": [
            "100%|██████████| 499/499 [00:02<00:00, 179.88it/s]\n"
          ]
        },
        {
          "output_type": "stream",
          "name": "stdout",
          "text": [
            "Train Loss : 0.250\n",
            "Valid Loss : 1.200 Valid Acc  : 0.558\n",
            "Early stopping: No improvement for 3 consecutive epochs.\n",
            "\n",
            "Test Accuracy : 0.561\n",
            "Precision (Weighted): 0.561\n",
            "Recall (Weighted): 0.561\n",
            "F1-Score (Weighted): 0.561\n",
            "Balanced Accuracy: 0.561\n",
            "\n",
            "Classification Report : \n",
            "              precision    recall  f1-score   support\n",
            "\n",
            "           0       0.56      0.56      0.56      2100\n",
            "           1       0.56      0.57      0.56      2100\n",
            "\n",
            "    accuracy                           0.56      4200\n",
            "   macro avg       0.56      0.56      0.56      4200\n",
            "weighted avg       0.56      0.56      0.56      4200\n",
            "\n",
            "\n",
            "Confusion Matrix : \n",
            "[[1168  932]\n",
            " [ 910 1190]]\n",
            "710126, 2.783757448196411, 0.5614285714285714\n",
            "Vocab()\n",
            "\n",
            "Model:\n",
            "LSTMModel(\n",
            "  (embedding_layer): Embedding(368, 100)\n",
            "  (lstm): LSTM(100, 64, batch_first=True)\n",
            "  (linear): Linear(in_features=64, out_features=2, bias=True)\n",
            ")\n",
            "Total parameters:  79426\n",
            "\n",
            "\n",
            "\n",
            "Epoch: 1\n"
          ]
        },
        {
          "output_type": "stream",
          "name": "stderr",
          "text": [
            "100%|██████████| 15/15 [00:00<00:00, 228.46it/s]\n"
          ]
        },
        {
          "output_type": "stream",
          "name": "stdout",
          "text": [
            "Train Loss : 0.694\n",
            "Valid Loss : 0.703 Valid Acc  : 0.520\n",
            "Epoch: 2\n"
          ]
        },
        {
          "output_type": "stream",
          "name": "stderr",
          "text": [
            "100%|██████████| 15/15 [00:00<00:00, 234.81it/s]\n"
          ]
        },
        {
          "output_type": "stream",
          "name": "stdout",
          "text": [
            "Train Loss : 0.677\n",
            "Valid Loss : 0.707 Valid Acc  : 0.480\n",
            "Epoch: 3\n"
          ]
        },
        {
          "output_type": "stream",
          "name": "stderr",
          "text": [
            "100%|██████████| 15/15 [00:00<00:00, 169.95it/s]\n"
          ]
        },
        {
          "output_type": "stream",
          "name": "stdout",
          "text": [
            "Train Loss : 0.665\n",
            "Valid Loss : 0.718 Valid Acc  : 0.400\n",
            "Epoch: 4\n"
          ]
        },
        {
          "output_type": "stream",
          "name": "stderr",
          "text": [
            "100%|██████████| 15/15 [00:00<00:00, 191.48it/s]\n"
          ]
        },
        {
          "output_type": "stream",
          "name": "stdout",
          "text": [
            "Train Loss : 0.639\n",
            "Valid Loss : 0.714 Valid Acc  : 0.520\n",
            "Early stopping: No improvement for 3 consecutive epochs.\n",
            "\n",
            "Test Accuracy : 0.529\n",
            "Precision (Weighted): 0.540\n",
            "Recall (Weighted): 0.529\n",
            "F1-Score (Weighted): 0.484\n",
            "Balanced Accuracy: 0.527\n",
            "\n",
            "Classification Report : \n",
            "              precision    recall  f1-score   support\n",
            "\n",
            "           0       0.56      0.23      0.33        60\n",
            "           1       0.52      0.82      0.64        61\n",
            "\n",
            "    accuracy                           0.53       121\n",
            "   macro avg       0.54      0.53      0.48       121\n",
            "weighted avg       0.54      0.53      0.48       121\n",
            "\n",
            "\n",
            "Confusion Matrix : \n",
            "[[14 46]\n",
            " [11 50]]\n",
            "79426, 0.08789920806884766, 0.5289256198347108\n",
            "\n",
            "Results DataFrame for LSTM Model:\n",
            "                       Dataset  Parameters  Training Time  Test Accuracy  \\\n",
            "0              OP_Spam_Dataset      204826       0.361930       0.709375   \n",
            "1  Restaurants_Reviews_Dataset       51026       0.024877       0.590909   \n",
            "2                DeRev_Dataset       70626       0.063164       0.562500   \n",
            "3       Amazon_Reviews_Dataset      710126       2.783757       0.561429   \n",
            "4       Cross_Cultural_Dataset       79426       0.087899       0.528926   \n",
            "\n",
            "   Precision    Recall  F1-Score  Balanced Accuracy  \n",
            "0   0.710766  0.709375  0.708895           0.709375  \n",
            "1   0.652778  0.590909  0.544828           0.590909  \n",
            "2   0.568311  0.562500  0.552993           0.562500  \n",
            "3   0.561435  0.561429  0.561417           0.561429  \n",
            "4   0.540255  0.528926  0.484448           0.526503  \n"
          ]
        },
        {
          "output_type": "display_data",
          "data": {
            "text/plain": [
              "<Figure size 1600x800 with 3 Axes>"
            ],
            "image/png": "[encoded data removed]"
          },
          "metadata": {}
        },
        {
          "output_type": "stream",
          "name": "stdout",
          "text": [
            "Vocab()\n",
            "\n",
            "Model:\n",
            "GRUModel(\n",
            "  (embedding_layer): Embedding(1622, 100)\n",
            "  (gru): GRU(100, 64, batch_first=True)\n",
            "  (linear): Linear(in_features=64, out_features=2, bias=True)\n",
            ")\n",
            "Total parameters:  194202\n",
            "\n",
            "\n",
            "\n",
            "Epoch: 1\n"
          ]
        },
        {
          "output_type": "stream",
          "name": "stderr",
          "text": [
            "100%|██████████| 38/38 [00:00<00:00, 152.26it/s]\n"
          ]
        },
        {
          "output_type": "stream",
          "name": "stdout",
          "text": [
            "Train Loss : 0.701\n",
            "Valid Loss : 0.712 Valid Acc  : 0.484\n",
            "Epoch: 2\n"
          ]
        },
        {
          "output_type": "stream",
          "name": "stderr",
          "text": [
            "100%|██████████| 38/38 [00:00<00:00, 164.14it/s]\n"
          ]
        },
        {
          "output_type": "stream",
          "name": "stdout",
          "text": [
            "Train Loss : 0.670\n",
            "Valid Loss : 0.681 Valid Acc  : 0.578\n",
            "Epoch: 3\n"
          ]
        },
        {
          "output_type": "stream",
          "name": "stderr",
          "text": [
            "100%|██████████| 38/38 [00:00<00:00, 164.10it/s]\n"
          ]
        },
        {
          "output_type": "stream",
          "name": "stdout",
          "text": [
            "Train Loss : 0.604\n",
            "Valid Loss : 0.651 Valid Acc  : 0.641\n",
            "Epoch: 4\n"
          ]
        },
        {
          "output_type": "stream",
          "name": "stderr",
          "text": [
            "100%|██████████| 38/38 [00:00<00:00, 171.00it/s]\n"
          ]
        },
        {
          "output_type": "stream",
          "name": "stdout",
          "text": [
            "Train Loss : 0.463\n",
            "Valid Loss : 0.570 Valid Acc  : 0.656\n",
            "Epoch: 5\n"
          ]
        },
        {
          "output_type": "stream",
          "name": "stderr",
          "text": [
            "100%|██████████| 38/38 [00:00<00:00, 135.36it/s]\n"
          ]
        },
        {
          "output_type": "stream",
          "name": "stdout",
          "text": [
            "Train Loss : 0.357\n",
            "Valid Loss : 0.548 Valid Acc  : 0.703\n",
            "Epoch: 6\n"
          ]
        },
        {
          "output_type": "stream",
          "name": "stderr",
          "text": [
            "100%|██████████| 38/38 [00:00<00:00, 167.41it/s]\n"
          ]
        },
        {
          "output_type": "stream",
          "name": "stdout",
          "text": [
            "Train Loss : 0.277\n",
            "Valid Loss : 0.588 Valid Acc  : 0.656\n",
            "Epoch: 7\n"
          ]
        },
        {
          "output_type": "stream",
          "name": "stderr",
          "text": [
            "100%|██████████| 38/38 [00:00<00:00, 163.36it/s]\n"
          ]
        },
        {
          "output_type": "stream",
          "name": "stdout",
          "text": [
            "Train Loss : 0.198\n",
            "Valid Loss : 0.614 Valid Acc  : 0.719\n",
            "Epoch: 8\n"
          ]
        },
        {
          "output_type": "stream",
          "name": "stderr",
          "text": [
            "100%|██████████| 38/38 [00:00<00:00, 164.45it/s]\n"
          ]
        },
        {
          "output_type": "stream",
          "name": "stdout",
          "text": [
            "Train Loss : 0.147\n",
            "Valid Loss : 0.719 Valid Acc  : 0.750\n",
            "Epoch: 9\n"
          ]
        },
        {
          "output_type": "stream",
          "name": "stderr",
          "text": [
            "100%|██████████| 38/38 [00:00<00:00, 150.19it/s]\n"
          ]
        },
        {
          "output_type": "stream",
          "name": "stdout",
          "text": [
            "Train Loss : 0.086\n",
            "Valid Loss : 0.797 Valid Acc  : 0.734\n",
            "Epoch: 10\n"
          ]
        },
        {
          "output_type": "stream",
          "name": "stderr",
          "text": [
            "100%|██████████| 38/38 [00:00<00:00, 169.13it/s]\n"
          ]
        },
        {
          "output_type": "stream",
          "name": "stdout",
          "text": [
            "Train Loss : 0.065\n",
            "Valid Loss : 1.002 Valid Acc  : 0.734\n",
            "Epoch: 11\n"
          ]
        },
        {
          "output_type": "stream",
          "name": "stderr",
          "text": [
            "100%|██████████| 38/38 [00:00<00:00, 164.15it/s]\n"
          ]
        },
        {
          "output_type": "stream",
          "name": "stdout",
          "text": [
            "Train Loss : 0.035\n",
            "Valid Loss : 1.018 Valid Acc  : 0.750\n",
            "Early stopping: No improvement for 3 consecutive epochs.\n",
            "\n",
            "Test Accuracy : 0.731\n",
            "Precision (Weighted): 0.750\n",
            "Recall (Weighted): 0.731\n",
            "F1-Score (Weighted): 0.726\n",
            "Balanced Accuracy: 0.731\n",
            "\n",
            "Classification Report : \n",
            "              precision    recall  f1-score   support\n",
            "\n",
            "           0       0.82      0.59      0.69       160\n",
            "           1       0.68      0.87      0.76       160\n",
            "\n",
            "    accuracy                           0.73       320\n",
            "   macro avg       0.75      0.73      0.73       320\n",
            "weighted avg       0.75      0.73      0.73       320\n",
            "\n",
            "\n",
            "Confusion Matrix : \n",
            "[[ 95  65]\n",
            " [ 21 139]]\n",
            "194202, 0.23786592483520508, 0.73125\n",
            "Vocab()\n",
            "\n",
            "Model:\n",
            "GRUModel(\n",
            "  (embedding_layer): Embedding(84, 100)\n",
            "  (gru): GRU(100, 64, batch_first=True)\n",
            "  (linear): Linear(in_features=64, out_features=2, bias=True)\n",
            ")\n",
            "Total parameters:  40402\n",
            "\n",
            "\n",
            "\n",
            "Epoch: 1\n"
          ]
        },
        {
          "output_type": "stream",
          "name": "stderr",
          "text": [
            "100%|██████████| 3/3 [00:00<00:00, 156.19it/s]\n"
          ]
        },
        {
          "output_type": "stream",
          "name": "stdout",
          "text": [
            "Train Loss : 0.739\n",
            "Valid Loss : 0.668 Valid Acc  : 0.600\n",
            "Epoch: 2\n"
          ]
        },
        {
          "output_type": "stream",
          "name": "stderr",
          "text": [
            "100%|██████████| 3/3 [00:00<00:00, 140.90it/s]\n"
          ]
        },
        {
          "output_type": "stream",
          "name": "stdout",
          "text": [
            "Train Loss : 0.659\n",
            "Valid Loss : 0.794 Valid Acc  : 0.200\n",
            "Epoch: 3\n"
          ]
        },
        {
          "output_type": "stream",
          "name": "stderr",
          "text": [
            "100%|██████████| 3/3 [00:00<00:00, 153.96it/s]\n"
          ]
        },
        {
          "output_type": "stream",
          "name": "stdout",
          "text": [
            "Train Loss : 0.680\n",
            "Valid Loss : 0.858 Valid Acc  : 0.200\n",
            "Epoch: 4\n"
          ]
        },
        {
          "output_type": "stream",
          "name": "stderr",
          "text": [
            "100%|██████████| 3/3 [00:00<00:00, 136.50it/s]\n"
          ]
        },
        {
          "output_type": "stream",
          "name": "stdout",
          "text": [
            "Train Loss : 0.660\n",
            "Valid Loss : 0.791 Valid Acc  : 0.200\n",
            "Early stopping: No improvement for 3 consecutive epochs.\n",
            "\n",
            "Test Accuracy : 0.545\n",
            "Precision (Weighted): 0.762\n",
            "Recall (Weighted): 0.545\n",
            "F1-Score (Weighted): 0.427\n",
            "Balanced Accuracy: 0.545\n",
            "\n",
            "Classification Report : \n",
            "              precision    recall  f1-score   support\n",
            "\n",
            "           0       0.52      1.00      0.69        11\n",
            "           1       1.00      0.09      0.17        11\n",
            "\n",
            "    accuracy                           0.55        22\n",
            "   macro avg       0.76      0.55      0.43        22\n",
            "weighted avg       0.76      0.55      0.43        22\n",
            "\n",
            "\n",
            "Confusion Matrix : \n",
            "[[11  0]\n",
            " [10  1]]\n",
            "40402, 0.029639244079589844, 0.5454545454545454\n",
            "Vocab()\n",
            "\n",
            "Model:\n",
            "GRUModel(\n",
            "  (embedding_layer): Embedding(280, 100)\n",
            "  (gru): GRU(100, 64, batch_first=True)\n",
            "  (linear): Linear(in_features=64, out_features=2, bias=True)\n",
            ")\n",
            "Total parameters:  60002\n",
            "\n",
            "\n",
            "\n",
            "Epoch: 1\n"
          ]
        },
        {
          "output_type": "stream",
          "name": "stderr",
          "text": [
            "100%|██████████| 6/6 [00:00<00:00, 115.08it/s]\n"
          ]
        },
        {
          "output_type": "stream",
          "name": "stdout",
          "text": [
            "Train Loss : 0.692\n",
            "Valid Loss : 0.669 Valid Acc  : 0.700\n",
            "Epoch: 2\n"
          ]
        },
        {
          "output_type": "stream",
          "name": "stderr",
          "text": [
            "100%|██████████| 6/6 [00:00<00:00, 153.58it/s]\n"
          ]
        },
        {
          "output_type": "stream",
          "name": "stdout",
          "text": [
            "Train Loss : 0.675\n",
            "Valid Loss : 0.620 Valid Acc  : 0.800\n",
            "Epoch: 3\n"
          ]
        },
        {
          "output_type": "stream",
          "name": "stderr",
          "text": [
            "100%|██████████| 6/6 [00:00<00:00, 112.62it/s]\n"
          ]
        },
        {
          "output_type": "stream",
          "name": "stdout",
          "text": [
            "Train Loss : 0.640\n",
            "Valid Loss : 0.702 Valid Acc  : 0.300\n",
            "Epoch: 4\n"
          ]
        },
        {
          "output_type": "stream",
          "name": "stderr",
          "text": [
            "100%|██████████| 6/6 [00:00<00:00, 142.41it/s]\n"
          ]
        },
        {
          "output_type": "stream",
          "name": "stdout",
          "text": [
            "Train Loss : 0.635\n",
            "Valid Loss : 0.690 Valid Acc  : 0.300\n",
            "Epoch: 5\n"
          ]
        },
        {
          "output_type": "stream",
          "name": "stderr",
          "text": [
            "100%|██████████| 6/6 [00:00<00:00, 141.91it/s]\n"
          ]
        },
        {
          "output_type": "stream",
          "name": "stdout",
          "text": [
            "Train Loss : 0.612\n",
            "Valid Loss : 0.615 Valid Acc  : 0.800\n",
            "Early stopping: No improvement for 3 consecutive epochs.\n",
            "\n",
            "Test Accuracy : 0.542\n",
            "Precision (Weighted): 0.575\n",
            "Recall (Weighted): 0.542\n",
            "F1-Score (Weighted): 0.484\n",
            "Balanced Accuracy: 0.542\n",
            "\n",
            "Classification Report : \n",
            "              precision    recall  f1-score   support\n",
            "\n",
            "           0       0.62      0.21      0.31        24\n",
            "           1       0.53      0.88      0.66        24\n",
            "\n",
            "    accuracy                           0.54        48\n",
            "   macro avg       0.57      0.54      0.48        48\n",
            "weighted avg       0.58      0.54      0.48        48\n",
            "\n",
            "\n",
            "Confusion Matrix : \n",
            "[[ 5 19]\n",
            " [ 3 21]]\n",
            "60002, 0.04822802543640137, 0.5416666666666666\n",
            "Vocab()\n",
            "\n",
            "Model:\n",
            "GRUModel(\n",
            "  (embedding_layer): Embedding(6675, 100)\n",
            "  (gru): GRU(100, 64, batch_first=True)\n",
            "  (linear): Linear(in_features=64, out_features=2, bias=True)\n",
            ")\n",
            "Total parameters:  699502\n",
            "\n",
            "\n",
            "\n",
            "Epoch: 1\n"
          ]
        },
        {
          "output_type": "stream",
          "name": "stderr",
          "text": [
            "100%|██████████| 499/499 [00:02<00:00, 245.94it/s]\n"
          ]
        },
        {
          "output_type": "stream",
          "name": "stdout",
          "text": [
            "Train Loss : 0.694\n",
            "Valid Loss : 0.692 Valid Acc  : 0.524\n",
            "Epoch: 2\n"
          ]
        },
        {
          "output_type": "stream",
          "name": "stderr",
          "text": [
            "100%|██████████| 499/499 [00:02<00:00, 224.97it/s]\n"
          ]
        },
        {
          "output_type": "stream",
          "name": "stdout",
          "text": [
            "Train Loss : 0.674\n",
            "Valid Loss : 0.688 Valid Acc  : 0.570\n",
            "Epoch: 3\n"
          ]
        },
        {
          "output_type": "stream",
          "name": "stderr",
          "text": [
            "100%|██████████| 499/499 [00:03<00:00, 162.54it/s]\n"
          ]
        },
        {
          "output_type": "stream",
          "name": "stdout",
          "text": [
            "Train Loss : 0.624\n",
            "Valid Loss : 0.705 Valid Acc  : 0.549\n",
            "Epoch: 4\n"
          ]
        },
        {
          "output_type": "stream",
          "name": "stderr",
          "text": [
            "100%|██████████| 499/499 [00:02<00:00, 248.16it/s]\n"
          ]
        },
        {
          "output_type": "stream",
          "name": "stdout",
          "text": [
            "Train Loss : 0.549\n",
            "Valid Loss : 0.753 Valid Acc  : 0.574\n",
            "Epoch: 5\n"
          ]
        },
        {
          "output_type": "stream",
          "name": "stderr",
          "text": [
            "100%|██████████| 499/499 [00:02<00:00, 237.68it/s]\n"
          ]
        },
        {
          "output_type": "stream",
          "name": "stdout",
          "text": [
            "Train Loss : 0.449\n",
            "Valid Loss : 0.877 Valid Acc  : 0.557\n",
            "Epoch: 6\n"
          ]
        },
        {
          "output_type": "stream",
          "name": "stderr",
          "text": [
            "100%|██████████| 499/499 [00:02<00:00, 183.22it/s]\n"
          ]
        },
        {
          "output_type": "stream",
          "name": "stdout",
          "text": [
            "Train Loss : 0.325\n",
            "Valid Loss : 1.026 Valid Acc  : 0.567\n",
            "Epoch: 7\n"
          ]
        },
        {
          "output_type": "stream",
          "name": "stderr",
          "text": [
            "100%|██████████| 499/499 [00:03<00:00, 157.94it/s]\n"
          ]
        },
        {
          "output_type": "stream",
          "name": "stdout",
          "text": [
            "Train Loss : 0.201\n",
            "Valid Loss : 1.334 Valid Acc  : 0.552\n",
            "Early stopping: No improvement for 3 consecutive epochs.\n",
            "\n",
            "Test Accuracy : 0.582\n",
            "Precision (Weighted): 0.582\n",
            "Recall (Weighted): 0.582\n",
            "F1-Score (Weighted): 0.582\n",
            "Balanced Accuracy: 0.582\n",
            "\n",
            "Classification Report : \n",
            "              precision    recall  f1-score   support\n",
            "\n",
            "           0       0.58      0.58      0.58      2100\n",
            "           1       0.58      0.59      0.58      2100\n",
            "\n",
            "    accuracy                           0.58      4200\n",
            "   macro avg       0.58      0.58      0.58      4200\n",
            "weighted avg       0.58      0.58      0.58      4200\n",
            "\n",
            "\n",
            "Confusion Matrix : \n",
            "[[1210  890]\n",
            " [ 864 1236]]\n",
            "699502, 3.1791160106658936, 0.5823809523809523\n",
            "Vocab()\n",
            "\n",
            "Model:\n",
            "GRUModel(\n",
            "  (embedding_layer): Embedding(368, 100)\n",
            "  (gru): GRU(100, 64, batch_first=True)\n",
            "  (linear): Linear(in_features=64, out_features=2, bias=True)\n",
            ")\n",
            "Total parameters:  68802\n",
            "\n",
            "\n",
            "\n",
            "Epoch: 1\n"
          ]
        },
        {
          "output_type": "stream",
          "name": "stderr",
          "text": [
            "100%|██████████| 15/15 [00:00<00:00, 164.10it/s]\n"
          ]
        },
        {
          "output_type": "stream",
          "name": "stdout",
          "text": [
            "Train Loss : 0.715\n",
            "Valid Loss : 0.718 Valid Acc  : 0.440\n",
            "Epoch: 2\n"
          ]
        },
        {
          "output_type": "stream",
          "name": "stderr",
          "text": [
            "100%|██████████| 15/15 [00:00<00:00, 177.95it/s]\n"
          ]
        },
        {
          "output_type": "stream",
          "name": "stdout",
          "text": [
            "Train Loss : 0.689\n",
            "Valid Loss : 0.698 Valid Acc  : 0.520\n",
            "Epoch: 3\n"
          ]
        },
        {
          "output_type": "stream",
          "name": "stderr",
          "text": [
            "100%|██████████| 15/15 [00:00<00:00, 172.69it/s]\n"
          ]
        },
        {
          "output_type": "stream",
          "name": "stdout",
          "text": [
            "Train Loss : 0.668\n",
            "Valid Loss : 0.696 Valid Acc  : 0.480\n",
            "Epoch: 4\n"
          ]
        },
        {
          "output_type": "stream",
          "name": "stderr",
          "text": [
            "100%|██████████| 15/15 [00:00<00:00, 176.59it/s]\n"
          ]
        },
        {
          "output_type": "stream",
          "name": "stdout",
          "text": [
            "Train Loss : 0.649\n",
            "Valid Loss : 0.697 Valid Acc  : 0.320\n",
            "Epoch: 5\n"
          ]
        },
        {
          "output_type": "stream",
          "name": "stderr",
          "text": [
            "100%|██████████| 15/15 [00:00<00:00, 178.59it/s]\n"
          ]
        },
        {
          "output_type": "stream",
          "name": "stdout",
          "text": [
            "Train Loss : 0.609\n",
            "Valid Loss : 0.712 Valid Acc  : 0.520\n",
            "Early stopping: No improvement for 3 consecutive epochs.\n",
            "\n",
            "Test Accuracy : 0.612\n",
            "Precision (Weighted): 0.616\n",
            "Recall (Weighted): 0.612\n",
            "F1-Score (Weighted): 0.609\n",
            "Balanced Accuracy: 0.612\n",
            "\n",
            "Classification Report : \n",
            "              precision    recall  f1-score   support\n",
            "\n",
            "           0       0.59      0.70      0.64        60\n",
            "           1       0.64      0.52      0.58        61\n",
            "\n",
            "    accuracy                           0.61       121\n",
            "   macro avg       0.62      0.61      0.61       121\n",
            "weighted avg       0.62      0.61      0.61       121\n",
            "\n",
            "\n",
            "Confusion Matrix : \n",
            "[[42 18]\n",
            " [29 32]]\n",
            "68802, 0.08982205390930176, 0.6115702479338843\n",
            "\n",
            "Results DataFrame for GRU Model:\n",
            "                       Dataset  Parameters  Training Time  Test Accuracy  \\\n",
            "0              OP_Spam_Dataset      194202       0.237866       0.731250   \n",
            "1  Restaurants_Reviews_Dataset       40402       0.029639       0.545455   \n",
            "2                DeRev_Dataset       60002       0.048228       0.541667   \n",
            "3       Amazon_Reviews_Dataset      699502       3.179116       0.582381   \n",
            "4       Cross_Cultural_Dataset       68802       0.089822       0.611570   \n",
            "\n",
            "   Precision    Recall  F1-Score  Balanced Accuracy  \n",
            "0   0.750169  0.731250  0.726071           0.731250  \n",
            "1   0.761905  0.545455  0.427083           0.545455  \n",
            "2   0.575000  0.541667  0.484375           0.541667  \n",
            "3   0.582394  0.582381  0.582365           0.582381  \n",
            "4   0.615975  0.611570  0.608632           0.612295  \n"
          ]
        },
        {
          "output_type": "display_data",
          "data": {
            "text/plain": [
              "<Figure size 1600x800 with 3 Axes>"
            ],
            "image/png": "[encoded data removed]"
          },
          "metadata": {}
        },
        {
          "output_type": "stream",
          "name": "stdout",
          "text": [
            "Vocab()\n",
            "\n",
            "Model:\n",
            "TransformerModel(\n",
            "  (embedding): Embedding(1622, 100)\n",
            "  (attention): SelfAttention(\n",
            "    (query): Linear(in_features=100, out_features=100, bias=True)\n",
            "    (key): Linear(in_features=100, out_features=100, bias=True)\n",
            "    (value): Linear(in_features=100, out_features=100, bias=True)\n",
            "    (fc_out): Linear(in_features=100, out_features=100, bias=True)\n",
            "  )\n",
            "  (fc): Linear(in_features=100, out_features=64, bias=True)\n",
            "  (output_layer): Linear(in_features=64, out_features=2, bias=True)\n",
            ")\n",
            "Total parameters:  209194\n",
            "\n",
            "\n",
            "\n",
            "Epoch: 1\n"
          ]
        },
        {
          "output_type": "stream",
          "name": "stderr",
          "text": [
            "100%|██████████| 38/38 [00:00<00:00, 57.89it/s]\n"
          ]
        },
        {
          "output_type": "stream",
          "name": "stdout",
          "text": [
            "Train Loss : 0.672\n",
            "Valid Loss : 0.662 Valid Acc  : 0.594\n",
            "Epoch: 2\n"
          ]
        },
        {
          "output_type": "stream",
          "name": "stderr",
          "text": [
            "100%|██████████| 38/38 [00:00<00:00, 99.43it/s]\n"
          ]
        },
        {
          "output_type": "stream",
          "name": "stdout",
          "text": [
            "Train Loss : 0.609\n",
            "Valid Loss : 0.646 Valid Acc  : 0.594\n",
            "Epoch: 3\n"
          ]
        },
        {
          "output_type": "stream",
          "name": "stderr",
          "text": [
            "100%|██████████| 38/38 [00:00<00:00, 90.36it/s]\n"
          ]
        },
        {
          "output_type": "stream",
          "name": "stdout",
          "text": [
            "Train Loss : 0.515\n",
            "Valid Loss : 0.633 Valid Acc  : 0.719\n",
            "Epoch: 4\n"
          ]
        },
        {
          "output_type": "stream",
          "name": "stderr",
          "text": [
            "100%|██████████| 38/38 [00:00<00:00, 106.17it/s]\n"
          ]
        },
        {
          "output_type": "stream",
          "name": "stdout",
          "text": [
            "Train Loss : 0.430\n",
            "Valid Loss : 0.727 Valid Acc  : 0.641\n",
            "Epoch: 5\n"
          ]
        },
        {
          "output_type": "stream",
          "name": "stderr",
          "text": [
            "100%|██████████| 38/38 [00:00<00:00, 145.10it/s]\n"
          ]
        },
        {
          "output_type": "stream",
          "name": "stdout",
          "text": [
            "Train Loss : 0.331\n",
            "Valid Loss : 0.752 Valid Acc  : 0.688\n",
            "Epoch: 6\n"
          ]
        },
        {
          "output_type": "stream",
          "name": "stderr",
          "text": [
            "100%|██████████| 38/38 [00:00<00:00, 132.50it/s]\n"
          ]
        },
        {
          "output_type": "stream",
          "name": "stdout",
          "text": [
            "Train Loss : 0.259\n",
            "Valid Loss : 0.915 Valid Acc  : 0.672\n",
            "Early stopping: No improvement for 3 consecutive epochs.\n",
            "\n",
            "Test Accuracy : 0.688\n",
            "Precision (Weighted): 0.689\n",
            "Recall (Weighted): 0.688\n",
            "F1-Score (Weighted): 0.687\n",
            "Balanced Accuracy: 0.688\n",
            "\n",
            "Classification Report : \n",
            "              precision    recall  f1-score   support\n",
            "\n",
            "           0       0.67      0.74      0.70       160\n",
            "           1       0.71      0.64      0.67       160\n",
            "\n",
            "    accuracy                           0.69       320\n",
            "   macro avg       0.69      0.69      0.69       320\n",
            "weighted avg       0.69      0.69      0.69       320\n",
            "\n",
            "\n",
            "Confusion Matrix : \n",
            "[[118  42]\n",
            " [ 58 102]]\n",
            "209194, 0.2932548522949219, 0.6875\n",
            "Vocab()\n",
            "\n",
            "Model:\n",
            "TransformerModel(\n",
            "  (embedding): Embedding(84, 100)\n",
            "  (attention): SelfAttention(\n",
            "    (query): Linear(in_features=100, out_features=100, bias=True)\n",
            "    (key): Linear(in_features=100, out_features=100, bias=True)\n",
            "    (value): Linear(in_features=100, out_features=100, bias=True)\n",
            "    (fc_out): Linear(in_features=100, out_features=100, bias=True)\n",
            "  )\n",
            "  (fc): Linear(in_features=100, out_features=64, bias=True)\n",
            "  (output_layer): Linear(in_features=64, out_features=2, bias=True)\n",
            ")\n",
            "Total parameters:  55394\n",
            "\n",
            "\n",
            "\n",
            "Epoch: 1\n"
          ]
        },
        {
          "output_type": "stream",
          "name": "stderr",
          "text": [
            "100%|██████████| 3/3 [00:00<00:00, 130.95it/s]\n"
          ]
        },
        {
          "output_type": "stream",
          "name": "stdout",
          "text": [
            "Train Loss : 0.700\n",
            "Valid Loss : 0.697 Valid Acc  : 0.200\n",
            "Epoch: 2\n"
          ]
        },
        {
          "output_type": "stream",
          "name": "stderr",
          "text": [
            "100%|██████████| 3/3 [00:00<00:00, 111.60it/s]\n"
          ]
        },
        {
          "output_type": "stream",
          "name": "stdout",
          "text": [
            "Train Loss : 0.691\n",
            "Valid Loss : 0.705 Valid Acc  : 0.400\n",
            "Epoch: 3\n"
          ]
        },
        {
          "output_type": "stream",
          "name": "stderr",
          "text": [
            "100%|██████████| 3/3 [00:00<00:00, 123.49it/s]\n"
          ]
        },
        {
          "output_type": "stream",
          "name": "stdout",
          "text": [
            "Train Loss : 0.688\n",
            "Valid Loss : 0.716 Valid Acc  : 0.400\n",
            "Epoch: 4\n"
          ]
        },
        {
          "output_type": "stream",
          "name": "stderr",
          "text": [
            "100%|██████████| 3/3 [00:00<00:00, 124.30it/s]\n"
          ]
        },
        {
          "output_type": "stream",
          "name": "stdout",
          "text": [
            "Train Loss : 0.681\n",
            "Valid Loss : 0.711 Valid Acc  : 0.400\n",
            "Epoch: 5\n"
          ]
        },
        {
          "output_type": "stream",
          "name": "stderr",
          "text": [
            "100%|██████████| 3/3 [00:00<00:00, 126.66it/s]\n"
          ]
        },
        {
          "output_type": "stream",
          "name": "stdout",
          "text": [
            "Train Loss : 0.671\n",
            "Valid Loss : 0.703 Valid Acc  : 0.400\n",
            "Early stopping: No improvement for 3 consecutive epochs.\n",
            "\n",
            "Test Accuracy : 0.636\n",
            "Precision (Weighted): 0.694\n",
            "Recall (Weighted): 0.636\n",
            "F1-Score (Weighted): 0.607\n",
            "Balanced Accuracy: 0.636\n",
            "\n",
            "Classification Report : \n",
            "              precision    recall  f1-score   support\n",
            "\n",
            "           0       0.80      0.36      0.50        11\n",
            "           1       0.59      0.91      0.71        11\n",
            "\n",
            "    accuracy                           0.64        22\n",
            "   macro avg       0.69      0.64      0.61        22\n",
            "weighted avg       0.69      0.64      0.61        22\n",
            "\n",
            "\n",
            "Confusion Matrix : \n",
            "[[ 4  7]\n",
            " [ 1 10]]\n",
            "55394, 0.032308101654052734, 0.6363636363636364\n",
            "Vocab()\n",
            "\n",
            "Model:\n",
            "TransformerModel(\n",
            "  (embedding): Embedding(280, 100)\n",
            "  (attention): SelfAttention(\n",
            "    (query): Linear(in_features=100, out_features=100, bias=True)\n",
            "    (key): Linear(in_features=100, out_features=100, bias=True)\n",
            "    (value): Linear(in_features=100, out_features=100, bias=True)\n",
            "    (fc_out): Linear(in_features=100, out_features=100, bias=True)\n",
            "  )\n",
            "  (fc): Linear(in_features=100, out_features=64, bias=True)\n",
            "  (output_layer): Linear(in_features=64, out_features=2, bias=True)\n",
            ")\n",
            "Total parameters:  74994\n",
            "\n",
            "\n",
            "\n",
            "Epoch: 1\n"
          ]
        },
        {
          "output_type": "stream",
          "name": "stderr",
          "text": [
            "100%|██████████| 6/6 [00:00<00:00, 132.33it/s]\n"
          ]
        },
        {
          "output_type": "stream",
          "name": "stdout",
          "text": [
            "Train Loss : 0.693\n",
            "Valid Loss : 0.706 Valid Acc  : 0.300\n",
            "Epoch: 2\n"
          ]
        },
        {
          "output_type": "stream",
          "name": "stderr",
          "text": [
            "100%|██████████| 6/6 [00:00<00:00, 124.35it/s]\n"
          ]
        },
        {
          "output_type": "stream",
          "name": "stdout",
          "text": [
            "Train Loss : 0.677\n",
            "Valid Loss : 0.712 Valid Acc  : 0.300\n",
            "Epoch: 3\n"
          ]
        },
        {
          "output_type": "stream",
          "name": "stderr",
          "text": [
            "100%|██████████| 6/6 [00:00<00:00, 123.80it/s]\n"
          ]
        },
        {
          "output_type": "stream",
          "name": "stdout",
          "text": [
            "Train Loss : 0.641\n",
            "Valid Loss : 0.702 Valid Acc  : 0.500\n",
            "Epoch: 4\n"
          ]
        },
        {
          "output_type": "stream",
          "name": "stderr",
          "text": [
            "100%|██████████| 6/6 [00:00<00:00, 139.43it/s]\n"
          ]
        },
        {
          "output_type": "stream",
          "name": "stdout",
          "text": [
            "Train Loss : 0.562\n",
            "Valid Loss : 0.756 Valid Acc  : 0.500\n",
            "Epoch: 5\n"
          ]
        },
        {
          "output_type": "stream",
          "name": "stderr",
          "text": [
            "100%|██████████| 6/6 [00:00<00:00, 119.28it/s]"
          ]
        },
        {
          "output_type": "stream",
          "name": "stdout",
          "text": [
            "Train Loss : 0.485\n",
            "Valid Loss : 0.732 Valid Acc  : 0.600\n",
            "Epoch:"
          ]
        },
        {
          "output_type": "stream",
          "name": "stderr",
          "text": [
            "\n"
          ]
        },
        {
          "output_type": "stream",
          "name": "stdout",
          "text": [
            " 6\n"
          ]
        },
        {
          "output_type": "stream",
          "name": "stderr",
          "text": [
            "100%|██████████| 6/6 [00:00<00:00, 98.70it/s]\n"
          ]
        },
        {
          "output_type": "stream",
          "name": "stdout",
          "text": [
            "Train Loss : 0.361\n",
            "Valid Loss : 0.853 Valid Acc  : 0.500\n",
            "Epoch: 7\n"
          ]
        },
        {
          "output_type": "stream",
          "name": "stderr",
          "text": [
            "100%|██████████| 6/6 [00:00<00:00, 95.53it/s]\n"
          ]
        },
        {
          "output_type": "stream",
          "name": "stdout",
          "text": [
            "Train Loss : 0.281\n",
            "Valid Loss : 0.777 Valid Acc  : 0.600\n",
            "Epoch: 8\n"
          ]
        },
        {
          "output_type": "stream",
          "name": "stderr",
          "text": [
            "100%|██████████| 6/6 [00:00<00:00, 98.43it/s]\n"
          ]
        },
        {
          "output_type": "stream",
          "name": "stdout",
          "text": [
            "Train Loss : 0.188\n",
            "Valid Loss : 0.980 Valid Acc  : 0.600\n",
            "Early stopping: No improvement for 3 consecutive epochs.\n",
            "\n",
            "Test Accuracy : 0.583\n",
            "Precision (Weighted): 0.584\n",
            "Recall (Weighted): 0.583\n",
            "F1-Score (Weighted): 0.583\n",
            "Balanced Accuracy: 0.583\n",
            "\n",
            "Classification Report : \n",
            "              precision    recall  f1-score   support\n",
            "\n",
            "           0       0.58      0.62      0.60        24\n",
            "           1       0.59      0.54      0.57        24\n",
            "\n",
            "    accuracy                           0.58        48\n",
            "   macro avg       0.58      0.58      0.58        48\n",
            "weighted avg       0.58      0.58      0.58        48\n",
            "\n",
            "\n",
            "Confusion Matrix : \n",
            "[[15  9]\n",
            " [11 13]]\n",
            "74994, 0.07122921943664551, 0.5833333333333334\n",
            "Vocab()\n",
            "\n",
            "Model:\n",
            "TransformerModel(\n",
            "  (embedding): Embedding(6675, 100)\n",
            "  (attention): SelfAttention(\n",
            "    (query): Linear(in_features=100, out_features=100, bias=True)\n",
            "    (key): Linear(in_features=100, out_features=100, bias=True)\n",
            "    (value): Linear(in_features=100, out_features=100, bias=True)\n",
            "    (fc_out): Linear(in_features=100, out_features=100, bias=True)\n",
            "  )\n",
            "  (fc): Linear(in_features=100, out_features=64, bias=True)\n",
            "  (output_layer): Linear(in_features=64, out_features=2, bias=True)\n",
            ")\n",
            "Total parameters:  714494\n",
            "\n",
            "\n",
            "\n",
            "Epoch: 1\n"
          ]
        },
        {
          "output_type": "stream",
          "name": "stderr",
          "text": [
            "100%|██████████| 499/499 [00:02<00:00, 192.80it/s]\n"
          ]
        },
        {
          "output_type": "stream",
          "name": "stdout",
          "text": [
            "Train Loss : 0.690\n",
            "Valid Loss : 0.688 Valid Acc  : 0.552\n",
            "Epoch: 2\n"
          ]
        },
        {
          "output_type": "stream",
          "name": "stderr",
          "text": [
            "100%|██████████| 499/499 [00:02<00:00, 189.69it/s]\n"
          ]
        },
        {
          "output_type": "stream",
          "name": "stdout",
          "text": [
            "Train Loss : 0.668\n",
            "Valid Loss : 0.681 Valid Acc  : 0.588\n",
            "Epoch: 3\n"
          ]
        },
        {
          "output_type": "stream",
          "name": "stderr",
          "text": [
            "100%|██████████| 499/499 [00:02<00:00, 191.62it/s]\n"
          ]
        },
        {
          "output_type": "stream",
          "name": "stdout",
          "text": [
            "Train Loss : 0.628\n",
            "Valid Loss : 0.687 Valid Acc  : 0.577\n",
            "Epoch: 4\n"
          ]
        },
        {
          "output_type": "stream",
          "name": "stderr",
          "text": [
            "100%|██████████| 499/499 [00:03<00:00, 135.19it/s]\n"
          ]
        },
        {
          "output_type": "stream",
          "name": "stdout",
          "text": [
            "Train Loss : 0.573\n",
            "Valid Loss : 0.719 Valid Acc  : 0.571\n",
            "Epoch: 5\n"
          ]
        },
        {
          "output_type": "stream",
          "name": "stderr",
          "text": [
            "100%|██████████| 499/499 [00:02<00:00, 174.08it/s]\n"
          ]
        },
        {
          "output_type": "stream",
          "name": "stdout",
          "text": [
            "Train Loss : 0.502\n",
            "Valid Loss : 0.779 Valid Acc  : 0.588\n",
            "Early stopping: No improvement for 3 consecutive epochs.\n",
            "\n",
            "Test Accuracy : 0.575\n",
            "Precision (Weighted): 0.576\n",
            "Recall (Weighted): 0.575\n",
            "F1-Score (Weighted): 0.574\n",
            "Balanced Accuracy: 0.575\n",
            "\n",
            "Classification Report : \n",
            "              precision    recall  f1-score   support\n",
            "\n",
            "           0       0.58      0.52      0.55      2100\n",
            "           1       0.57      0.63      0.60      2100\n",
            "\n",
            "    accuracy                           0.58      4200\n",
            "   macro avg       0.58      0.58      0.57      4200\n",
            "weighted avg       0.58      0.58      0.57      4200\n",
            "\n",
            "\n",
            "Confusion Matrix : \n",
            "[[1098 1002]\n",
            " [ 781 1319]]\n",
            "714494, 2.875983953475952, 0.5754761904761905\n",
            "Vocab()\n",
            "\n",
            "Model:\n",
            "TransformerModel(\n",
            "  (embedding): Embedding(368, 100)\n",
            "  (attention): SelfAttention(\n",
            "    (query): Linear(in_features=100, out_features=100, bias=True)\n",
            "    (key): Linear(in_features=100, out_features=100, bias=True)\n",
            "    (value): Linear(in_features=100, out_features=100, bias=True)\n",
            "    (fc_out): Linear(in_features=100, out_features=100, bias=True)\n",
            "  )\n",
            "  (fc): Linear(in_features=100, out_features=64, bias=True)\n",
            "  (output_layer): Linear(in_features=64, out_features=2, bias=True)\n",
            ")\n",
            "Total parameters:  83794\n",
            "\n",
            "\n",
            "\n",
            "Epoch: 1\n"
          ]
        },
        {
          "output_type": "stream",
          "name": "stderr",
          "text": [
            "100%|██████████| 15/15 [00:00<00:00, 173.73it/s]\n"
          ]
        },
        {
          "output_type": "stream",
          "name": "stdout",
          "text": [
            "Train Loss : 0.693\n",
            "Valid Loss : 0.676 Valid Acc  : 0.600\n",
            "Epoch: 2\n"
          ]
        },
        {
          "output_type": "stream",
          "name": "stderr",
          "text": [
            "100%|██████████| 15/15 [00:00<00:00, 171.54it/s]\n"
          ]
        },
        {
          "output_type": "stream",
          "name": "stdout",
          "text": [
            "Train Loss : 0.685\n",
            "Valid Loss : 0.705 Valid Acc  : 0.400\n",
            "Epoch: 3\n"
          ]
        },
        {
          "output_type": "stream",
          "name": "stderr",
          "text": [
            "100%|██████████| 15/15 [00:00<00:00, 173.75it/s]\n"
          ]
        },
        {
          "output_type": "stream",
          "name": "stdout",
          "text": [
            "Train Loss : 0.646\n",
            "Valid Loss : 0.672 Valid Acc  : 0.520\n",
            "Epoch: 4\n"
          ]
        },
        {
          "output_type": "stream",
          "name": "stderr",
          "text": [
            "100%|██████████| 15/15 [00:00<00:00, 153.75it/s]\n"
          ]
        },
        {
          "output_type": "stream",
          "name": "stdout",
          "text": [
            "Train Loss : 0.556\n",
            "Valid Loss : 0.701 Valid Acc  : 0.520\n",
            "Early stopping: No improvement for 3 consecutive epochs.\n",
            "\n",
            "Test Accuracy : 0.595\n",
            "Precision (Weighted): 0.612\n",
            "Recall (Weighted): 0.595\n",
            "F1-Score (Weighted): 0.581\n",
            "Balanced Accuracy: 0.597\n",
            "\n",
            "Classification Report : \n",
            "              precision    recall  f1-score   support\n",
            "\n",
            "           0       0.57      0.78      0.66        60\n",
            "           1       0.66      0.41      0.51        61\n",
            "\n",
            "    accuracy                           0.60       121\n",
            "   macro avg       0.61      0.60      0.58       121\n",
            "weighted avg       0.61      0.60      0.58       121\n",
            "\n",
            "\n",
            "Confusion Matrix : \n",
            "[[47 13]\n",
            " [36 25]]\n",
            "83794, 0.10747432708740234, 0.5950413223140496\n",
            "\n",
            "Results DataFrame for Transformer Model:\n",
            "                       Dataset  Parameters  Training Time  Test Accuracy  \\\n",
            "0              OP_Spam_Dataset      209194       0.293255       0.687500   \n",
            "1  Restaurants_Reviews_Dataset       55394       0.032308       0.636364   \n",
            "2                DeRev_Dataset       74994       0.071229       0.583333   \n",
            "3       Amazon_Reviews_Dataset      714494       2.875984       0.575476   \n",
            "4       Cross_Cultural_Dataset       83794       0.107474       0.595041   \n",
            "\n",
            "   Precision    Recall  F1-Score  Balanced Accuracy  \n",
            "0   0.689394  0.687500  0.686717           0.687500  \n",
            "1   0.694118  0.636364  0.607143           0.636364  \n",
            "2   0.583916  0.583333  0.582609           0.583333  \n",
            "3   0.576321  0.575476  0.574298           0.575476  \n",
            "4   0.612459  0.595041  0.580567           0.596585  \n"
          ]
        },
        {
          "output_type": "display_data",
          "data": {
            "text/plain": [
              "<Figure size 1600x800 with 3 Axes>"
            ],
            "image/png": "[encoded data removed]"
          },
          "metadata": {}
        }
      ]
    },
    {
      "cell_type": "code",
      "source": [
        "print(rnn_results_df)\n",
        "print(birnn_results_df)\n",
        "print(lstm_results_df)\n",
        "print(gru_results_df)\n",
        "print(transformer_results_df)"
      ],
      "metadata": {
        "colab": {
          "base_uri": "https://localhost:8080/"
        },
        "id": "s6XYst3bnKXS",
        "outputId": "659d8a46-92fc-4405-affe-412d6b9d63c0"
      },
      "execution_count": null,
      "outputs": [
        {
          "output_type": "stream",
          "name": "stdout",
          "text": [
            "                       Dataset  Parameters  Training Time  Test Accuracy  \\\n",
            "0              OP_Spam_Dataset      172954       0.383624       0.487500   \n",
            "1  Restaurants_Reviews_Dataset       19154       0.031631       0.590909   \n",
            "2                DeRev_Dataset       38754       0.083083       0.520833   \n",
            "3       Amazon_Reviews_Dataset      678254       1.973258       0.506429   \n",
            "4       Cross_Cultural_Dataset       47554       0.071696       0.520661   \n",
            "\n",
            "   Precision    Recall  F1-Score  Balanced Accuracy  \n",
            "0   0.486833  0.487500  0.480931           0.487500  \n",
            "1   0.775000  0.590909  0.508685           0.590909  \n",
            "2   0.524242  0.520833  0.503374           0.520833  \n",
            "3   0.508470  0.506429  0.474780           0.506429  \n",
            "4   0.520568  0.520661  0.517030           0.519945  \n",
            "                       Dataset  Parameters  Training Time  Test Accuracy  \\\n",
            "0              OP_Spam_Dataset      183706       0.364498       0.525000   \n",
            "1  Restaurants_Reviews_Dataset       29906       0.037641       0.727273   \n",
            "2                DeRev_Dataset       49506       0.054775       0.604167   \n",
            "3       Amazon_Reviews_Dataset      689006       2.096854       0.533095   \n",
            "4       Cross_Cultural_Dataset       58306       0.084011       0.471074   \n",
            "\n",
            "   Precision    Recall  F1-Score  Balanced Accuracy  \n",
            "0   0.540010  0.525000  0.475839           0.525000  \n",
            "1   0.823529  0.727273  0.705357           0.727273  \n",
            "2   0.613852  0.604167  0.595565           0.604167  \n",
            "3   0.534551  0.533095  0.528126           0.533095  \n",
            "4   0.445982  0.471074  0.392844           0.474044  \n",
            "                       Dataset  Parameters  Training Time  Test Accuracy  \\\n",
            "0              OP_Spam_Dataset      204826       0.361930       0.709375   \n",
            "1  Restaurants_Reviews_Dataset       51026       0.024877       0.590909   \n",
            "2                DeRev_Dataset       70626       0.063164       0.562500   \n",
            "3       Amazon_Reviews_Dataset      710126       2.783757       0.561429   \n",
            "4       Cross_Cultural_Dataset       79426       0.087899       0.528926   \n",
            "\n",
            "   Precision    Recall  F1-Score  Balanced Accuracy  \n",
            "0   0.710766  0.709375  0.708895           0.709375  \n",
            "1   0.652778  0.590909  0.544828           0.590909  \n",
            "2   0.568311  0.562500  0.552993           0.562500  \n",
            "3   0.561435  0.561429  0.561417           0.561429  \n",
            "4   0.540255  0.528926  0.484448           0.526503  \n",
            "                       Dataset  Parameters  Training Time  Test Accuracy  \\\n",
            "0              OP_Spam_Dataset      194202       0.237866       0.731250   \n",
            "1  Restaurants_Reviews_Dataset       40402       0.029639       0.545455   \n",
            "2                DeRev_Dataset       60002       0.048228       0.541667   \n",
            "3       Amazon_Reviews_Dataset      699502       3.179116       0.582381   \n",
            "4       Cross_Cultural_Dataset       68802       0.089822       0.611570   \n",
            "\n",
            "   Precision    Recall  F1-Score  Balanced Accuracy  \n",
            "0   0.750169  0.731250  0.726071           0.731250  \n",
            "1   0.761905  0.545455  0.427083           0.545455  \n",
            "2   0.575000  0.541667  0.484375           0.541667  \n",
            "3   0.582394  0.582381  0.582365           0.582381  \n",
            "4   0.615975  0.611570  0.608632           0.612295  \n",
            "                       Dataset  Parameters  Training Time  Test Accuracy  \\\n",
            "0              OP_Spam_Dataset      209194       0.293255       0.687500   \n",
            "1  Restaurants_Reviews_Dataset       55394       0.032308       0.636364   \n",
            "2                DeRev_Dataset       74994       0.071229       0.583333   \n",
            "3       Amazon_Reviews_Dataset      714494       2.875984       0.575476   \n",
            "4       Cross_Cultural_Dataset       83794       0.107474       0.595041   \n",
            "\n",
            "   Precision    Recall  F1-Score  Balanced Accuracy  \n",
            "0   0.689394  0.687500  0.686717           0.687500  \n",
            "1   0.694118  0.636364  0.607143           0.636364  \n",
            "2   0.583916  0.583333  0.582609           0.583333  \n",
            "3   0.576321  0.575476  0.574298           0.575476  \n",
            "4   0.612459  0.595041  0.580567           0.596585  \n"
          ]
        }
      ]
    },
    {
      "cell_type": "code",
      "source": [
        "import pandas as pd\n",
        "\n",
        "# Add a 'Model' column to each DataFrame\n",
        "rnn_results_df['Model'] = 'RNN Model'\n",
        "birnn_results_df['Model'] = 'BiRNN Model'\n",
        "lstm_results_df['Model'] = 'LSTM Model'\n",
        "gru_results_df['Model'] = 'GRU Model'\n",
        "transformer_results_df['Model'] = 'Transformer Model'\n",
        "\n",
        "# List of DataFrames to concatenate\n",
        "dataframes = [rnn_results_df, birnn_results_df, lstm_results_df, gru_results_df, transformer_results_df]\n",
        "\n",
        "# Concatenate the DataFrames along rows (axis=0)\n",
        "combined_results_df = pd.concat(dataframes, axis=0, ignore_index=True)\n",
        "\n",
        "# Print the combined DataFrame to verify\n",
        "print(combined_results_df)\n"
      ],
      "metadata": {
        "colab": {
          "base_uri": "https://localhost:8080/"
        },
        "id": "yQJ1z6Try1Cq",
        "outputId": "15c39e65-0aab-4c02-d791-441e7be59088"
      },
      "execution_count": null,
      "outputs": [
        {
          "output_type": "stream",
          "name": "stdout",
          "text": [
            "                        Dataset  Parameters  Training Time  Test Accuracy  \\\n",
            "0               OP_Spam_Dataset      172954       0.383624       0.487500   \n",
            "1   Restaurants_Reviews_Dataset       19154       0.031631       0.590909   \n",
            "2                 DeRev_Dataset       38754       0.083083       0.520833   \n",
            "3        Amazon_Reviews_Dataset      678254       1.973258       0.506429   \n",
            "4        Cross_Cultural_Dataset       47554       0.071696       0.520661   \n",
            "5               OP_Spam_Dataset      183706       0.364498       0.525000   \n",
            "6   Restaurants_Reviews_Dataset       29906       0.037641       0.727273   \n",
            "7                 DeRev_Dataset       49506       0.054775       0.604167   \n",
            "8        Amazon_Reviews_Dataset      689006       2.096854       0.533095   \n",
            "9        Cross_Cultural_Dataset       58306       0.084011       0.471074   \n",
            "10              OP_Spam_Dataset      204826       0.361930       0.709375   \n",
            "11  Restaurants_Reviews_Dataset       51026       0.024877       0.590909   \n",
            "12                DeRev_Dataset       70626       0.063164       0.562500   \n",
            "13       Amazon_Reviews_Dataset      710126       2.783757       0.561429   \n",
            "14       Cross_Cultural_Dataset       79426       0.087899       0.528926   \n",
            "15              OP_Spam_Dataset      194202       0.237866       0.731250   \n",
            "16  Restaurants_Reviews_Dataset       40402       0.029639       0.545455   \n",
            "17                DeRev_Dataset       60002       0.048228       0.541667   \n",
            "18       Amazon_Reviews_Dataset      699502       3.179116       0.582381   \n",
            "19       Cross_Cultural_Dataset       68802       0.089822       0.611570   \n",
            "20              OP_Spam_Dataset      209194       0.293255       0.687500   \n",
            "21  Restaurants_Reviews_Dataset       55394       0.032308       0.636364   \n",
            "22                DeRev_Dataset       74994       0.071229       0.583333   \n",
            "23       Amazon_Reviews_Dataset      714494       2.875984       0.575476   \n",
            "24       Cross_Cultural_Dataset       83794       0.107474       0.595041   \n",
            "\n",
            "    Precision    Recall  F1-Score  Balanced Accuracy              Model  \n",
            "0    0.486833  0.487500  0.480931           0.487500          RNN Model  \n",
            "1    0.775000  0.590909  0.508685           0.590909          RNN Model  \n",
            "2    0.524242  0.520833  0.503374           0.520833          RNN Model  \n",
            "3    0.508470  0.506429  0.474780           0.506429          RNN Model  \n",
            "4    0.520568  0.520661  0.517030           0.519945          RNN Model  \n",
            "5    0.540010  0.525000  0.475839           0.525000        BiRNN Model  \n",
            "6    0.823529  0.727273  0.705357           0.727273        BiRNN Model  \n",
            "7    0.613852  0.604167  0.595565           0.604167        BiRNN Model  \n",
            "8    0.534551  0.533095  0.528126           0.533095        BiRNN Model  \n",
            "9    0.445982  0.471074  0.392844           0.474044        BiRNN Model  \n",
            "10   0.710766  0.709375  0.708895           0.709375         LSTM Model  \n",
            "11   0.652778  0.590909  0.544828           0.590909         LSTM Model  \n",
            "12   0.568311  0.562500  0.552993           0.562500         LSTM Model  \n",
            "13   0.561435  0.561429  0.561417           0.561429         LSTM Model  \n",
            "14   0.540255  0.528926  0.484448           0.526503         LSTM Model  \n",
            "15   0.750169  0.731250  0.726071           0.731250          GRU Model  \n",
            "16   0.761905  0.545455  0.427083           0.545455          GRU Model  \n",
            "17   0.575000  0.541667  0.484375           0.541667          GRU Model  \n",
            "18   0.582394  0.582381  0.582365           0.582381          GRU Model  \n",
            "19   0.615975  0.611570  0.608632           0.612295          GRU Model  \n",
            "20   0.689394  0.687500  0.686717           0.687500  Transformer Model  \n",
            "21   0.694118  0.636364  0.607143           0.636364  Transformer Model  \n",
            "22   0.583916  0.583333  0.582609           0.583333  Transformer Model  \n",
            "23   0.576321  0.575476  0.574298           0.575476  Transformer Model  \n",
            "24   0.612459  0.595041  0.580567           0.596585  Transformer Model  \n"
          ]
        }
      ]
    },
    {
      "cell_type": "code",
      "source": [
        "combined_results_df.to_csv('in_domain_full_results.csv')"
      ],
      "metadata": {
        "id": "6xp4-WLyy9rX"
      },
      "execution_count": null,
      "outputs": []
    }
  ]
}