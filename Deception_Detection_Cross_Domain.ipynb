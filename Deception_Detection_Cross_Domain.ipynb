{
  "nbformat": 4,
  "nbformat_minor": 0,
  "metadata": {
    "colab": {
      "provenance": []
    },
    "kernelspec": {
      "name": "python3",
      "display_name": "Python 3"
    },
    "language_info": {
      "name": "python"
    }
  },
  "cells": [
    {
      "cell_type": "code",
      "execution_count": null,
      "metadata": {
        "id": "hV9Gxt-GJ0-Q",
        "colab": {
          "base_uri": "https://localhost:8080/"
        },
        "outputId": "53ad50fa-89cb-4f25-f6d8-1db760d12dcf"
      },
      "outputs": [
        {
          "output_type": "stream",
          "name": "stderr",
          "text": [
            "/usr/local/lib/python3.10/dist-packages/torchtext/data/__init__.py:4: UserWarning: \n",
            "/!\\ IMPORTANT WARNING ABOUT TORCHTEXT STATUS /!\\ \n",
            "Torchtext is deprecated and the last released version will be 0.18 (this one). You can silence this warning by calling the following at the beginnign of your scripts: `import torchtext; torchtext.disable_torchtext_deprecation_warning()`\n",
            "  warnings.warn(torchtext._TORCHTEXT_DEPRECATION_MSG)\n",
            "/usr/local/lib/python3.10/dist-packages/torchtext/vocab/__init__.py:4: UserWarning: \n",
            "/!\\ IMPORTANT WARNING ABOUT TORCHTEXT STATUS /!\\ \n",
            "Torchtext is deprecated and the last released version will be 0.18 (this one). You can silence this warning by calling the following at the beginnign of your scripts: `import torchtext; torchtext.disable_torchtext_deprecation_warning()`\n",
            "  warnings.warn(torchtext._TORCHTEXT_DEPRECATION_MSG)\n",
            "/usr/local/lib/python3.10/dist-packages/torchtext/utils.py:4: UserWarning: \n",
            "/!\\ IMPORTANT WARNING ABOUT TORCHTEXT STATUS /!\\ \n",
            "Torchtext is deprecated and the last released version will be 0.18 (this one). You can silence this warning by calling the following at the beginnign of your scripts: `import torchtext; torchtext.disable_torchtext_deprecation_warning()`\n",
            "  warnings.warn(torchtext._TORCHTEXT_DEPRECATION_MSG)\n",
            "[nltk_data] Downloading package stopwords to /root/nltk_data...\n",
            "[nltk_data]   Unzipping corpora/stopwords.zip.\n"
          ]
        }
      ],
      "source": [
        "import glob\n",
        "import os\n",
        "import pandas as pd\n",
        "from sklearn.model_selection import train_test_split\n",
        "from torchtext.data.utils import get_tokenizer\n",
        "from torchtext.vocab import build_vocab_from_iterator\n",
        "import torch\n",
        "from torch.utils.data import Dataset, DataLoader, random_split\n",
        "import torch.nn as nn\n",
        "import torch.nn.functional as F\n",
        "from sklearn.metrics import accuracy_score, classification_report, confusion_matrix, precision_score, recall_score, f1_score, balanced_accuracy_score\n",
        "\n",
        "from tqdm import tqdm\n",
        "import time\n",
        "import numpy as np\n",
        "from functools import partial\n",
        "\n",
        "import matplotlib.pyplot as plt\n",
        "import seaborn as sns\n",
        "\n",
        "import nltk\n",
        "from nltk.corpus import stopwords\n",
        "import string\n",
        "\n",
        "nltk.download('stopwords')\n",
        "\n",
        "device = torch.device(\"cuda\" if torch.cuda.is_available() else \"cpu\")"
      ]
    },
    {
      "cell_type": "code",
      "source": [
        "MAX_WORDS = 25\n",
        "EPOCHS = 15\n",
        "LEARNING_RATE = 1e-3\n",
        "BATCH_SIZE = 32\n",
        "EMBEDDING_DIM = 100\n",
        "HIDDEN_DIM = 64\n",
        "NUM_HEADS = 5"
      ],
      "metadata": {
        "id": "YB0FxWFT7AB3"
      },
      "execution_count": null,
      "outputs": []
    },
    {
      "cell_type": "code",
      "source": [
        "def create_plots(df):\n",
        "\n",
        "  sns.set(style=\"whitegrid\")\n",
        "\n",
        "  plt.figure(figsize=(16, 8))\n",
        "\n",
        "  plt.subplot(1, 3, 1)\n",
        "  sns.barplot(x='Dataset', y='Test Accuracy', data=df)\n",
        "  plt.title('Test Accuracy by Dataset')\n",
        "  plt.xticks(rotation=90)\n",
        "\n",
        "  plt.subplot(1, 3, 2)\n",
        "  sns.barplot(x='Dataset', y='Training Time', data=df)\n",
        "  plt.title('Training Time by Dataset')\n",
        "  plt.xticks(rotation=90)\n",
        "\n",
        "  plt.subplot(1, 3, 3)\n",
        "  sns.barplot(x='Dataset', y='Parameters', data=df)\n",
        "  plt.title('Model Parameters by Dataset')\n",
        "  plt.xticks(rotation=90)\n",
        "\n",
        "  plt.tight_layout()\n",
        "  plt.show()"
      ],
      "metadata": {
        "id": "2DloMnbB7Eou"
      },
      "execution_count": null,
      "outputs": []
    },
    {
      "cell_type": "code",
      "source": [
        "from google.colab import drive\n",
        "drive.mount('/content/drive')\n",
        "\n",
        "csv_files = glob.glob(os.path.join('/content/drive/MyDrive/Datasets/Deception/', '*.csv'))\n",
        "\n",
        "dataframes = {}\n",
        "for file in csv_files:\n",
        "    df = pd.read_csv(file)\n",
        "    dataframes.update({os.path.basename(file).split('.')[0]: df})\n",
        "\n",
        "tokenizer = get_tokenizer(\"basic_english\")\n",
        "stop_words = set(stopwords.words('english'))\n",
        "\n",
        "def yield_tokens(data_iter):\n",
        "    for text in data_iter:\n",
        "        tokens = tokenizer(text.lower())  # Convert to lowercase\n",
        "        tokens = [token for token in tokens if token not in stop_words and token not in string.punctuation]  # Remove stopwords and punctuation\n",
        "        yield tokens\n",
        "\n",
        "def build_vocabulary(datasets):\n",
        "    for dataset in datasets:\n",
        "        for _, text in dataset:\n",
        "            tokens = tokenizer(text.lower())  # Convert to lowercase\n",
        "            tokens = [token for token in tokens if token not in stop_words and token not in string.punctuation]  # Remove stopwords and punctuation\n",
        "            yield tokens\n"
      ],
      "metadata": {
        "colab": {
          "base_uri": "https://localhost:8080/"
        },
        "id": "SpYOzEHi7FWk",
        "outputId": "835f3d0b-2568-4d2f-9f73-b380dd53eed2"
      },
      "execution_count": null,
      "outputs": [
        {
          "output_type": "stream",
          "name": "stdout",
          "text": [
            "Mounted at /content/drive\n"
          ]
        }
      ]
    },
    {
      "cell_type": "code",
      "source": [
        "def collate_batch(batch, max_words, vocab):\n",
        "    Y, X = list(zip(*batch))\n",
        "    Y = torch.tensor(Y, dtype=torch.long)  # Targets in range [0,1,2,3]\n",
        "    X = [vocab(tokenizer(text)) for text in X]\n",
        "    if max_words == -1:\n",
        "        max_words = max(len(tokens) for tokens in X)\n",
        "    X = [tokens + ([vocab['<PAD>']] * (max_words - len(tokens))) if len(tokens) < max_words else tokens[:max_words] for tokens in X]\n",
        "    return torch.tensor(X, dtype=torch.int64).to(device), Y.to(device)\n",
        "\n",
        "def make_data_loaders(train_dataset, test_dataset, max_words, vocab):\n",
        "    custom_collate_fn = partial(collate_batch, max_words=max_words, vocab= vocab)\n",
        "\n",
        "    num_train = int(len(train_dataset) * 0.95)\n",
        "    split_train_, split_valid_ = random_split(train_dataset, [num_train, len(train_dataset) - num_train])\n",
        "\n",
        "    train_loader = DataLoader(split_train_, batch_size=BATCH_SIZE, shuffle=True, collate_fn=custom_collate_fn)\n",
        "    valid_loader = DataLoader(split_valid_, batch_size=BATCH_SIZE, shuffle=False, collate_fn=custom_collate_fn)\n",
        "    test_loader = DataLoader(test_dataset, batch_size=BATCH_SIZE, shuffle=False, collate_fn=custom_collate_fn)\n",
        "\n",
        "    return [train_loader, valid_loader, test_loader]\n"
      ],
      "metadata": {
        "id": "ljPjt7eG7OFM"
      },
      "execution_count": null,
      "outputs": []
    },
    {
      "cell_type": "markdown",
      "source": [
        "### RNN Models"
      ],
      "metadata": {
        "id": "vB1cRtHShose"
      }
    },
    {
      "cell_type": "code",
      "source": [
        "class RNNModel(nn.Module):\n",
        "    def __init__(self, input_dim, embedding_dim, hidden_dim, output_dim):\n",
        "        super(RNNModel, self).__init__()\n",
        "        self.embedding_layer = nn.Embedding(num_embeddings=input_dim, embedding_dim=embedding_dim)\n",
        "        self.rnn = nn.RNN(input_size=embedding_dim, hidden_size=hidden_dim, batch_first=True)\n",
        "        self.linear = nn.Linear(hidden_dim, output_dim)\n",
        "\n",
        "    def forward(self, X_batch):\n",
        "        embeddings = self.embedding_layer(X_batch)\n",
        "        output, hidden = self.rnn(embeddings)\n",
        "        logits = self.linear(output[:, -1, :])\n",
        "        return logits\n",
        "\n",
        "\n",
        "\n",
        "class BiRNNModel(nn.Module):\n",
        "    def __init__(self, input_dim, embedding_dim, hidden_dim, output_dim):\n",
        "        super(BiRNNModel, self).__init__()\n",
        "        self.embedding_layer = nn.Embedding(num_embeddings=input_dim, embedding_dim=embedding_dim)\n",
        "        self.rnn = nn.RNN(input_size=embedding_dim, hidden_size=hidden_dim, batch_first=True, bidirectional=True)\n",
        "        self.linear = nn.Linear(hidden_dim * 2, output_dim)  # Multiply by 2 for bidirectional\n",
        "\n",
        "    def forward(self, X_batch):\n",
        "        embeddings = self.embedding_layer(X_batch)\n",
        "        output, hidden = self.rnn(embeddings)\n",
        "        logits = self.linear(output[:, -1, :])  # Use the final output of the RNN for classification\n",
        "        return logits\n",
        "\n",
        "\n",
        "class LSTMModel(nn.Module):\n",
        "    def __init__(self, input_dim, embedding_dim, hidden_dim, output_dim):\n",
        "        super(LSTMModel, self).__init__()\n",
        "        self.embedding_layer = nn.Embedding(num_embeddings=input_dim, embedding_dim=embedding_dim)\n",
        "        self.lstm = nn.LSTM(input_size=embedding_dim, hidden_size=hidden_dim, batch_first=True)\n",
        "        self.linear = nn.Linear(hidden_dim, output_dim)\n",
        "        self.hidden_dim = hidden_dim\n",
        "\n",
        "    def forward(self, X_batch):\n",
        "        embeddings = self.embedding_layer(X_batch)\n",
        "        output, (hn, cn) = self.lstm(embeddings)\n",
        "        logits = self.linear(output[:, -1, :])\n",
        "        return logits\n",
        "\n",
        "\n",
        "class GRUModel(nn.Module):\n",
        "    def __init__(self, input_dim, embedding_dim, hidden_dim, output_dim):\n",
        "        super(GRUModel, self).__init__()\n",
        "        self.embedding_layer = nn.Embedding(num_embeddings=input_dim, embedding_dim=embedding_dim)\n",
        "        self.gru = nn.GRU(input_size=embedding_dim, hidden_size=hidden_dim, batch_first=True)\n",
        "        self.linear = nn.Linear(hidden_dim, output_dim)\n",
        "        self.hidden_dim = hidden_dim\n",
        "\n",
        "    def forward(self, X_batch):\n",
        "        embeddings = self.embedding_layer(X_batch)\n",
        "        output, hn = self.gru(embeddings)\n",
        "        logits = self.linear(output[:, -1, :])\n",
        "        return logits\n",
        "\n",
        "\n",
        "class RNNModel_PreTrained(nn.Module):\n",
        "    def __init__(self, input_dim, embedding_dim, hidden_dim, output_dim, pretrained_embeddings=None):\n",
        "        super(RNNModel_PreTrained, self).__init__()\n",
        "\n",
        "        if pretrained_embeddings is not None:\n",
        "            self.embedding_layer = nn.Embedding.from_pretrained(pretrained_embeddings, freeze=True)\n",
        "        else:\n",
        "            self.embedding_layer = nn.Embedding(num_embeddings=input_dim, embedding_dim=embedding_dim)\n",
        "\n",
        "        self.rnn = nn.RNN(input_size=embedding_dim, hidden_size=hidden_dim, batch_first=True)\n",
        "        self.linear = nn.Linear(hidden_dim, output_dim)\n",
        "\n",
        "    def forward(self, X_batch):\n",
        "        embeddings = self.embedding_layer(X_batch)\n",
        "        output, hidden = self.rnn(embeddings)\n",
        "        logits = self.linear(output[:, -1, :])\n",
        "        return logits"
      ],
      "metadata": {
        "id": "XOW12OPQTWaN"
      },
      "execution_count": null,
      "outputs": []
    },
    {
      "cell_type": "markdown",
      "source": [
        "### Attention Models"
      ],
      "metadata": {
        "id": "XWlhFs_1ivDN"
      }
    },
    {
      "cell_type": "code",
      "source": [
        "class SelfAttention(nn.Module):\n",
        "    def __init__(self, embed_dim, num_heads):\n",
        "        super(SelfAttention, self).__init__()\n",
        "        self.embed_dim = embed_dim\n",
        "        self.num_heads = num_heads\n",
        "        assert embed_dim % num_heads == 0, \"Embedding dimension must be divisible by the number of heads.\"\n",
        "        self.head_dim = embed_dim // num_heads\n",
        "        self.query = nn.Linear(embed_dim, embed_dim)\n",
        "        self.key = nn.Linear(embed_dim, embed_dim)\n",
        "        self.value = nn.Linear(embed_dim, embed_dim)\n",
        "        self.fc_out = nn.Linear(embed_dim, embed_dim)\n",
        "\n",
        "    def forward(self, x):\n",
        "        batch_size, seq_len, embed_dim = x.shape\n",
        "        # Split the embedding into multiple heads\n",
        "        queries = self.query(x).view(batch_size, seq_len, self.num_heads, self.head_dim)\n",
        "        keys = self.key(x).view(batch_size, seq_len, self.num_heads, self.head_dim)\n",
        "        values = self.value(x).view(batch_size, seq_len, self.num_heads, self.head_dim)\n",
        "\n",
        "        # Transpose to get dimensions: batch_size, num_heads, seq_len, head_dim\n",
        "        queries = queries.permute(0, 2, 1, 3)\n",
        "        keys = keys.permute(0, 2, 1, 3)\n",
        "        values = values.permute(0, 2, 1, 3)\n",
        "\n",
        "        # Compute dot product attention scores\n",
        "        attention_scores = torch.matmul(queries, keys.permute(0, 1, 3, 2)) / np.sqrt(self.head_dim)\n",
        "\n",
        "        # Apply softmax to get attention weights\n",
        "        attention_weights = F.softmax(attention_scores, dim=-1)\n",
        "\n",
        "        # Apply dropout\n",
        "        attention_weights = F.dropout(attention_weights, p=0.1, training=self.training)\n",
        "\n",
        "        # Weighted sum of values\n",
        "        weighted_sum = torch.matmul(attention_weights, values)\n",
        "\n",
        "        # Transpose and reshape to get output\n",
        "        weighted_sum = weighted_sum.permute(0, 2, 1, 3).contiguous()\n",
        "        weighted_sum = weighted_sum.view(batch_size, seq_len, embed_dim)\n",
        "\n",
        "        # Linear layer to get output\n",
        "        outputs = self.fc_out(weighted_sum)\n",
        "\n",
        "        return outputs"
      ],
      "metadata": {
        "id": "PvM1t1rrXfqd"
      },
      "execution_count": null,
      "outputs": []
    },
    {
      "cell_type": "code",
      "source": [
        "class TransformerModel(nn.Module):\n",
        "    def __init__(self, vocab_size, embed_dim, num_heads, hidden_dim, output_dim):\n",
        "        super(TransformerModel, self).__init__()\n",
        "        self.embedding = nn.Embedding(vocab_size, embed_dim)\n",
        "        self.attention = SelfAttention(embed_dim, num_heads)\n",
        "        self.fc = nn.Linear(embed_dim, hidden_dim)\n",
        "        self.output_layer = nn.Linear(hidden_dim, output_dim)\n",
        "\n",
        "    def forward(self, x):\n",
        "        embedded = self.embedding(x)\n",
        "        attention_output = self.attention(embedded)\n",
        "        hidden = F.relu(self.fc(attention_output))\n",
        "        output = self.output_layer(hidden[:, -1, :])  # Use only the last hidden state for classification\n",
        "        return output\n"
      ],
      "metadata": {
        "id": "zJS0uxKjWlgD"
      },
      "execution_count": null,
      "outputs": []
    },
    {
      "cell_type": "code",
      "source": [
        "class ImprovedTransformerModel(nn.Module):\n",
        "    def __init__(self, vocab_size, embed_dim, num_heads, hidden_dim, output_dim, num_layers=2, dropout=0.3):\n",
        "        super(ImprovedTransformerModel, self).__init__()\n",
        "        self.embedding = nn.Embedding(vocab_size, embed_dim)\n",
        "        self.positional_encoding = nn.Parameter(torch.randn(1, MAX_WORDS, embed_dim))\n",
        "        self.transformer_layers = nn.ModuleList(\n",
        "            [SelfAttention(embed_dim, num_heads) for _ in range(num_layers)]\n",
        "        )\n",
        "        self.dropout = nn.Dropout(dropout)\n",
        "        self.fc1 = nn.Linear(embed_dim, hidden_dim)\n",
        "        self.fc2 = nn.Linear(hidden_dim, output_dim)\n",
        "        self.layer_norm = nn.LayerNorm(embed_dim)\n",
        "\n",
        "    def forward(self, x):\n",
        "        embedded = self.embedding(x) + self.positional_encoding[:, :x.size(1), :]\n",
        "        for attention_layer in self.transformer_layers:\n",
        "            embedded = self.layer_norm(attention_layer(embedded) + embedded)  # Residual connection\n",
        "        embedded = self.dropout(embedded)\n",
        "        hidden = F.relu(self.fc1(embedded))\n",
        "        output = self.fc2(hidden[:, -1, :])  # Use the last hidden state for classification\n",
        "        return output\n"
      ],
      "metadata": {
        "id": "2mrdD8qXI1-Q"
      },
      "execution_count": null,
      "outputs": []
    },
    {
      "cell_type": "markdown",
      "source": [
        "### Train & Evaluation"
      ],
      "metadata": {
        "id": "oO8Pq-7xhszn"
      }
    },
    {
      "cell_type": "code",
      "source": [
        "def EvaluateModel(model, loss_fn, val_loader):\n",
        "    model.eval()\n",
        "    with torch.no_grad():\n",
        "        Y_actual, Y_preds, losses = [], [], []\n",
        "        for X, Y in val_loader:\n",
        "            preds = model(X)\n",
        "            loss = loss_fn(preds, Y)\n",
        "            losses.append(loss.item())\n",
        "\n",
        "            Y_actual.append(Y)\n",
        "            Y_preds.append(preds.argmax(dim=-1))\n",
        "\n",
        "        Y_actual = torch.cat(Y_actual)\n",
        "        Y_preds = torch.cat(Y_preds)\n",
        "\n",
        "    return torch.tensor(losses).mean(), Y_actual.detach().cpu().numpy(), Y_preds.detach().cpu().numpy()\n",
        "\n",
        "def TrainModel(model, loss_fn, optimizer, train_loader, valid_loader, epochs, patience):\n",
        "    best_accuracy = 0.0\n",
        "    consecutive_no_improvement = 0\n",
        "\n",
        "    for i in range(1, epochs+1):\n",
        "        model.train()\n",
        "        print('Epoch:', i)\n",
        "        losses = []\n",
        "        start_time = time.time()\n",
        "        for X, Y in tqdm(train_loader):\n",
        "            Y_preds = model(X)\n",
        "            loss = loss_fn(Y_preds, Y)\n",
        "            losses.append(loss.item())\n",
        "\n",
        "            optimizer.zero_grad()\n",
        "            loss.backward()\n",
        "            optimizer.step()\n",
        "\n",
        "        train_time = time.time() - start_time\n",
        "        print(\"Train Loss : {:.3f}\".format(torch.tensor(losses).mean()))\n",
        "        valid_loss, valid_actual, valid_preds = EvaluateModel(model, loss_fn, valid_loader)\n",
        "        print(\"Valid Loss : {:.3f}\".format(valid_loss), \"Valid Acc  : {:.3f}\".format(accuracy_score(valid_actual, valid_preds)))\n",
        "\n",
        "        accuracy = accuracy_score(valid_actual, valid_preds)\n",
        "\n",
        "        if accuracy > best_accuracy:\n",
        "            best_accuracy = accuracy\n",
        "            consecutive_no_improvement = 0\n",
        "        else:\n",
        "            consecutive_no_improvement += 1\n",
        "\n",
        "        if consecutive_no_improvement >= patience:\n",
        "            print(f\"Early stopping: No improvement for {patience} consecutive epochs.\")\n",
        "            break\n",
        "\n",
        "    return train_time\n",
        "\n",
        "\n",
        "def classification_results(classifier, loaders, patience=float('inf')):\n",
        "    train_loader, valid_loader, test_loader = loaders\n",
        "\n",
        "    loss_fn = nn.CrossEntropyLoss()\n",
        "    optimizer = torch.optim.Adam([param for param in classifier.parameters() if param.requires_grad], lr=LEARNING_RATE)\n",
        "\n",
        "    def count_parameters(model):\n",
        "        return sum(p.numel() for p in model.parameters() if p.requires_grad)\n",
        "\n",
        "    print('\\nModel:')\n",
        "    print(classifier)\n",
        "    print('Total parameters: ', count_parameters(classifier))\n",
        "    print('\\n\\n')\n",
        "\n",
        "    mean_training_time = TrainModel(classifier, loss_fn, optimizer, train_loader, valid_loader, EPOCHS, patience)\n",
        "\n",
        "    _, Y_actual, Y_preds = EvaluateModel(classifier, loss_fn, test_loader)\n",
        "\n",
        "    # Calculate accuracy\n",
        "    accuracy = accuracy_score(Y_actual, Y_preds)\n",
        "\n",
        "    # Calculate precision, recall, and F1 score\n",
        "    precision = precision_score(Y_actual, Y_preds, average='weighted')\n",
        "    recall = recall_score(Y_actual, Y_preds, average='weighted')\n",
        "    f1 = f1_score(Y_actual, Y_preds, average='weighted')\n",
        "\n",
        "    # Calculate balanced accuracy\n",
        "    balanced_acc = balanced_accuracy_score(Y_actual, Y_preds)\n",
        "\n",
        "    print(\"\\nTest Accuracy : {:.3f}\".format(accuracy))\n",
        "    print(\"Precision (Weighted): {:.3f}\".format(precision))\n",
        "    print(\"Recall (Weighted): {:.3f}\".format(recall))\n",
        "    print(\"F1-Score (Weighted): {:.3f}\".format(f1))\n",
        "    print(\"Balanced Accuracy: {:.3f}\".format(balanced_acc))\n",
        "\n",
        "    print(\"\\nClassification Report : \")\n",
        "    print(classification_report(Y_actual, Y_preds, target_names=['0', '1']))\n",
        "    print(\"\\nConfusion Matrix : \")\n",
        "    print(confusion_matrix(Y_actual, Y_preds))\n",
        "\n",
        "    total_params = count_parameters(classifier)\n",
        "    print(f'{total_params}, {mean_training_time}, {accuracy}')\n",
        "\n",
        "    return {\n",
        "        'Dataset': dataset_name,\n",
        "        'Parameters': total_params,\n",
        "        'Training Time': mean_training_time,\n",
        "        'Test Accuracy': accuracy,\n",
        "        'Precision': precision,\n",
        "        'Recall': recall,\n",
        "        'F1-Score': f1,\n",
        "        'Balanced Accuracy': balanced_acc\n",
        "    }\n",
        "\n"
      ],
      "metadata": {
        "id": "OCOyjg2UTXxP"
      },
      "execution_count": null,
      "outputs": []
    },
    {
      "cell_type": "markdown",
      "source": [
        "### Run experiments"
      ],
      "metadata": {
        "id": "V_19Ts9X7pLi"
      }
    },
    {
      "cell_type": "code",
      "source": [
        "def prepare_data_loaders_for_cross_dataset(dataframes, train_datasets, test_datasets):\n",
        "    # Combine datasets for training\n",
        "    train_dfs = [dataframes[dname] for dname in train_datasets]\n",
        "    combined_train_df = pd.concat(train_dfs).reset_index(drop=True)\n",
        "\n",
        "    # Combine datasets for testing\n",
        "    test_dfs = [dataframes[dname] for dname in test_datasets]\n",
        "    combined_test_df = pd.concat(test_dfs).reset_index(drop=True)\n",
        "\n",
        "    # Preprocess combined training and testing data\n",
        "    combined_train_df['CLASS'] = combined_train_df['CLASS'].replace({'truthful': 0, 'deceptive': 1})\n",
        "    combined_test_df['CLASS'] = combined_test_df['CLASS'].replace({'truthful': 0, 'deceptive': 1})\n",
        "\n",
        "    X_train = combined_train_df['TEXT']\n",
        "    y_train = combined_train_df['CLASS']\n",
        "\n",
        "    X_test = combined_test_df['TEXT']\n",
        "    y_test = combined_test_df['CLASS']\n",
        "\n",
        "    # Combine train datasets\n",
        "    train_dataset = [(label, text) for label, text in zip(y_train, X_train)]\n",
        "    test_dataset = [(label, text) for label, text in zip(y_test, X_test)]\n",
        "\n",
        "    vocab = build_vocab_from_iterator(build_vocabulary([train_dataset]), min_freq=10, specials=[\"<PAD>\", \"<UNK>\"])\n",
        "    vocab.set_default_index(vocab[\"<UNK>\"])\n",
        "\n",
        "    loaders = make_data_loaders(train_dataset, test_dataset, MAX_WORDS, vocab)\n",
        "\n",
        "    return loaders, vocab\n"
      ],
      "metadata": {
        "id": "GXtBrrLl7ZrK"
      },
      "execution_count": null,
      "outputs": []
    },
    {
      "cell_type": "code",
      "source": [],
      "metadata": {
        "id": "xmd71Jux754p"
      },
      "execution_count": null,
      "outputs": []
    },
    {
      "cell_type": "code",
      "source": [
        "datasets_loaders = {}\n",
        "datasets_list = list(dataframes.keys())\n",
        "for i in range(len(datasets_list)):\n",
        "  train = datasets_list[:i] + datasets_list[i+1:]\n",
        "  print(train)\n",
        "  test = [datasets_list[i]]\n",
        "  print(test)\n",
        "  loader, vocab = prepare_data_loaders_for_cross_dataset(dataframes, train, test)\n",
        "  datasets_loaders.update({datasets_list[i]: (loader, vocab)})"
      ],
      "metadata": {
        "colab": {
          "base_uri": "https://localhost:8080/"
        },
        "id": "A89ImC1-8aPd",
        "outputId": "c35300fd-8315-4fa1-dfff-2002145de616"
      },
      "execution_count": null,
      "outputs": [
        {
          "output_type": "stream",
          "name": "stdout",
          "text": [
            "['Restaurants_Reviews_Dataset', 'DeRev_Dataset', 'Amazon_Reviews_Dataset', 'Cross_Cultural_Dataset']\n",
            "['OP_Spam_Dataset']\n",
            "['OP_Spam_Dataset', 'DeRev_Dataset', 'Amazon_Reviews_Dataset', 'Cross_Cultural_Dataset']\n",
            "['Restaurants_Reviews_Dataset']\n",
            "['OP_Spam_Dataset', 'Restaurants_Reviews_Dataset', 'Amazon_Reviews_Dataset', 'Cross_Cultural_Dataset']\n",
            "['DeRev_Dataset']\n",
            "['OP_Spam_Dataset', 'Restaurants_Reviews_Dataset', 'DeRev_Dataset', 'Cross_Cultural_Dataset']\n",
            "['Amazon_Reviews_Dataset']\n",
            "['OP_Spam_Dataset', 'Restaurants_Reviews_Dataset', 'DeRev_Dataset', 'Amazon_Reviews_Dataset']\n",
            "['Cross_Cultural_Dataset']\n"
          ]
        }
      ]
    },
    {
      "cell_type": "code",
      "source": [
        "def run_experiment(loaders, model_class, model_name, patience=3, attention=False):\n",
        "    results_list = []\n",
        "    for dname, (loaders, vocab) in loaders.items():\n",
        "        global dataset_name\n",
        "        dataset_name = dname\n",
        "        print(vocab)\n",
        "        if not attention:\n",
        "            model_instance = model_class(len(vocab), EMBEDDING_DIM, HIDDEN_DIM, 2).to(device)\n",
        "        else:\n",
        "            model_instance = model_class(len(vocab), EMBEDDING_DIM, NUM_HEADS, HIDDEN_DIM, 2).to(device)\n",
        "\n",
        "        results = classification_results(model_instance, loaders, patience)\n",
        "        results_list.append(results)\n",
        "\n",
        "    results_df = pd.DataFrame(results_list)\n",
        "    print(f\"\\nResults DataFrame for {model_name}:\")\n",
        "    print(results_df)\n",
        "    create_plots(results_df)\n",
        "    return results_df"
      ],
      "metadata": {
        "id": "GIftxY4z-Nrb"
      },
      "execution_count": null,
      "outputs": []
    },
    {
      "cell_type": "code",
      "source": [
        "datasets_loaders"
      ],
      "metadata": {
        "colab": {
          "base_uri": "https://localhost:8080/"
        },
        "id": "VcIjFtWr-mNX",
        "outputId": "0c0e41d3-f032-4cb6-c75b-51ff247b7838"
      },
      "execution_count": null,
      "outputs": [
        {
          "output_type": "execute_result",
          "data": {
            "text/plain": [
              "{'OP_Spam_Dataset': ([<torch.utils.data.dataloader.DataLoader at 0x79e08ed83e80>,\n",
              "   <torch.utils.data.dataloader.DataLoader at 0x79dfa80b82e0>,\n",
              "   <torch.utils.data.dataloader.DataLoader at 0x79e08e04c3d0>],\n",
              "  Vocab()),\n",
              " 'Restaurants_Reviews_Dataset': ([<torch.utils.data.dataloader.DataLoader at 0x79dfa80b9180>,\n",
              "   <torch.utils.data.dataloader.DataLoader at 0x79dfa7791120>,\n",
              "   <torch.utils.data.dataloader.DataLoader at 0x79dfa7792560>],\n",
              "  Vocab()),\n",
              " 'DeRev_Dataset': ([<torch.utils.data.dataloader.DataLoader at 0x79dfa7791510>,\n",
              "   <torch.utils.data.dataloader.DataLoader at 0x79dfa7792dd0>,\n",
              "   <torch.utils.data.dataloader.DataLoader at 0x79dfa77916f0>],\n",
              "  Vocab()),\n",
              " 'Amazon_Reviews_Dataset': ([<torch.utils.data.dataloader.DataLoader at 0x79dfa7793580>,\n",
              "   <torch.utils.data.dataloader.DataLoader at 0x79dfa7792e60>,\n",
              "   <torch.utils.data.dataloader.DataLoader at 0x79dfa7791b40>],\n",
              "  Vocab()),\n",
              " 'Cross_Cultural_Dataset': ([<torch.utils.data.dataloader.DataLoader at 0x79dfa77937f0>,\n",
              "   <torch.utils.data.dataloader.DataLoader at 0x79dfa77938b0>,\n",
              "   <torch.utils.data.dataloader.DataLoader at 0x79dfa7791300>],\n",
              "  Vocab())}"
            ]
          },
          "metadata": {},
          "execution_count": 26
        }
      ]
    },
    {
      "cell_type": "code",
      "source": [
        "rnn_results_df = run_experiment(datasets_loaders, RNNModel, \"RNN Model\", 3, False)"
      ],
      "metadata": {
        "colab": {
          "base_uri": "https://localhost:8080/",
          "height": 1000
        },
        "id": "Z2iwFTbKDaMC",
        "outputId": "7bd19aec-6ddc-453b-da05-8493fb46cc10"
      },
      "execution_count": null,
      "outputs": [
        {
          "output_type": "stream",
          "name": "stdout",
          "text": [
            "Vocab()\n",
            "\n",
            "Model:\n",
            "RNNModel(\n",
            "  (embedding_layer): Embedding(7032, 100)\n",
            "  (rnn): RNN(100, 64, batch_first=True)\n",
            "  (linear): Linear(in_features=64, out_features=2, bias=True)\n",
            ")\n",
            "Total parameters:  713954\n",
            "\n",
            "\n",
            "\n",
            "Epoch: 1\n"
          ]
        },
        {
          "output_type": "stream",
          "name": "stderr",
          "text": [
            "100%|██████████| 652/652 [00:10<00:00, 62.64it/s]\n"
          ]
        },
        {
          "output_type": "stream",
          "name": "stdout",
          "text": [
            "Train Loss : 0.699\n",
            "Valid Loss : 0.696 Valid Acc  : 0.492\n",
            "Epoch: 2\n"
          ]
        },
        {
          "output_type": "stream",
          "name": "stderr",
          "text": [
            "100%|██████████| 652/652 [00:09<00:00, 69.04it/s]\n"
          ]
        },
        {
          "output_type": "stream",
          "name": "stdout",
          "text": [
            "Train Loss : 0.687\n",
            "Valid Loss : 0.699 Valid Acc  : 0.524\n",
            "Epoch: 3\n"
          ]
        },
        {
          "output_type": "stream",
          "name": "stderr",
          "text": [
            "100%|██████████| 652/652 [00:10<00:00, 62.56it/s]\n"
          ]
        },
        {
          "output_type": "stream",
          "name": "stdout",
          "text": [
            "Train Loss : 0.677\n",
            "Valid Loss : 0.711 Valid Acc  : 0.523\n",
            "Epoch: 4\n"
          ]
        },
        {
          "output_type": "stream",
          "name": "stderr",
          "text": [
            "100%|██████████| 652/652 [00:10<00:00, 62.06it/s]\n"
          ]
        },
        {
          "output_type": "stream",
          "name": "stdout",
          "text": [
            "Train Loss : 0.656\n",
            "Valid Loss : 0.726 Valid Acc  : 0.519\n",
            "Epoch: 5\n"
          ]
        },
        {
          "output_type": "stream",
          "name": "stderr",
          "text": [
            "100%|██████████| 652/652 [00:08<00:00, 73.01it/s]\n"
          ]
        },
        {
          "output_type": "stream",
          "name": "stdout",
          "text": [
            "Train Loss : 0.627\n",
            "Valid Loss : 0.746 Valid Acc  : 0.525\n",
            "Epoch: 6\n"
          ]
        },
        {
          "output_type": "stream",
          "name": "stderr",
          "text": [
            "100%|██████████| 652/652 [00:10<00:00, 62.29it/s]\n"
          ]
        },
        {
          "output_type": "stream",
          "name": "stdout",
          "text": [
            "Train Loss : 0.591\n",
            "Valid Loss : 0.799 Valid Acc  : 0.524\n",
            "Epoch: 7\n"
          ]
        },
        {
          "output_type": "stream",
          "name": "stderr",
          "text": [
            "100%|██████████| 652/652 [00:10<00:00, 62.55it/s]\n"
          ]
        },
        {
          "output_type": "stream",
          "name": "stdout",
          "text": [
            "Train Loss : 0.548\n",
            "Valid Loss : 0.845 Valid Acc  : 0.517\n",
            "Epoch: 8\n"
          ]
        },
        {
          "output_type": "stream",
          "name": "stderr",
          "text": [
            "100%|██████████| 652/652 [00:09<00:00, 72.23it/s]\n"
          ]
        },
        {
          "output_type": "stream",
          "name": "stdout",
          "text": [
            "Train Loss : 0.505\n",
            "Valid Loss : 0.942 Valid Acc  : 0.505\n",
            "Early stopping: No improvement for 3 consecutive epochs.\n",
            "\n",
            "Test Accuracy : 0.476\n",
            "Precision (Weighted): 0.475\n",
            "Recall (Weighted): 0.476\n",
            "F1-Score (Weighted): 0.475\n",
            "Balanced Accuracy: 0.476\n",
            "\n",
            "Classification Report : \n",
            "              precision    recall  f1-score   support\n",
            "\n",
            "           0       0.48      0.51      0.49       800\n",
            "           1       0.47      0.44      0.46       800\n",
            "\n",
            "    accuracy                           0.48      1600\n",
            "   macro avg       0.48      0.48      0.47      1600\n",
            "weighted avg       0.48      0.48      0.47      1600\n",
            "\n",
            "\n",
            "Confusion Matrix : \n",
            "[[410 390]\n",
            " [449 351]]\n",
            "713954, 9.03217601776123, 0.475625\n",
            "Vocab()\n",
            "\n",
            "Model:\n",
            "RNNModel(\n",
            "  (embedding_layer): Embedding(7619, 100)\n",
            "  (rnn): RNN(100, 64, batch_first=True)\n",
            "  (linear): Linear(in_features=64, out_features=2, bias=True)\n",
            ")\n",
            "Total parameters:  772654\n",
            "\n",
            "\n",
            "\n",
            "Epoch: 1\n"
          ]
        },
        {
          "output_type": "stream",
          "name": "stderr",
          "text": [
            "100%|██████████| 696/696 [00:11<00:00, 58.52it/s]\n"
          ]
        },
        {
          "output_type": "stream",
          "name": "stdout",
          "text": [
            "Train Loss : 0.697\n",
            "Valid Loss : 0.695 Valid Acc  : 0.529\n",
            "Epoch: 2\n"
          ]
        },
        {
          "output_type": "stream",
          "name": "stderr",
          "text": [
            "100%|██████████| 696/696 [00:11<00:00, 59.20it/s]\n"
          ]
        },
        {
          "output_type": "stream",
          "name": "stdout",
          "text": [
            "Train Loss : 0.688\n",
            "Valid Loss : 0.697 Valid Acc  : 0.528\n",
            "Epoch: 3\n"
          ]
        },
        {
          "output_type": "stream",
          "name": "stderr",
          "text": [
            "100%|██████████| 696/696 [00:11<00:00, 60.41it/s]\n"
          ]
        },
        {
          "output_type": "stream",
          "name": "stdout",
          "text": [
            "Train Loss : 0.678\n",
            "Valid Loss : 0.706 Valid Acc  : 0.503\n",
            "Epoch: 4\n"
          ]
        },
        {
          "output_type": "stream",
          "name": "stderr",
          "text": [
            "100%|██████████| 696/696 [00:10<00:00, 66.98it/s]\n"
          ]
        },
        {
          "output_type": "stream",
          "name": "stdout",
          "text": [
            "Train Loss : 0.658\n",
            "Valid Loss : 0.721 Valid Acc  : 0.523\n",
            "Early stopping: No improvement for 3 consecutive epochs.\n",
            "\n",
            "Test Accuracy : 0.500\n",
            "Precision (Weighted): 0.500\n",
            "Recall (Weighted): 0.500\n",
            "F1-Score (Weighted): 0.500\n",
            "Balanced Accuracy: 0.500\n",
            "\n",
            "Classification Report : \n",
            "              precision    recall  f1-score   support\n",
            "\n",
            "           0       0.50      0.49      0.50        55\n",
            "           1       0.50      0.51      0.50        55\n",
            "\n",
            "    accuracy                           0.50       110\n",
            "   macro avg       0.50      0.50      0.50       110\n",
            "weighted avg       0.50      0.50      0.50       110\n",
            "\n",
            "\n",
            "Confusion Matrix : \n",
            "[[27 28]\n",
            " [27 28]]\n",
            "772654, 10.396361351013184, 0.5\n",
            "Vocab()\n",
            "\n",
            "Model:\n",
            "RNNModel(\n",
            "  (embedding_layer): Embedding(7471, 100)\n",
            "  (rnn): RNN(100, 64, batch_first=True)\n",
            "  (linear): Linear(in_features=64, out_features=2, bias=True)\n",
            ")\n",
            "Total parameters:  757854\n",
            "\n",
            "\n",
            "\n",
            "Epoch: 1\n"
          ]
        },
        {
          "output_type": "stream",
          "name": "stderr",
          "text": [
            "100%|██████████| 693/693 [00:11<00:00, 61.43it/s]\n"
          ]
        },
        {
          "output_type": "stream",
          "name": "stdout",
          "text": [
            "Train Loss : 0.699\n",
            "Valid Loss : 0.689 Valid Acc  : 0.540\n",
            "Epoch: 2\n"
          ]
        },
        {
          "output_type": "stream",
          "name": "stderr",
          "text": [
            "100%|██████████| 693/693 [00:11<00:00, 60.07it/s]\n"
          ]
        },
        {
          "output_type": "stream",
          "name": "stdout",
          "text": [
            "Train Loss : 0.689\n",
            "Valid Loss : 0.698 Valid Acc  : 0.495\n",
            "Epoch: 3\n"
          ]
        },
        {
          "output_type": "stream",
          "name": "stderr",
          "text": [
            "100%|██████████| 693/693 [00:11<00:00, 60.28it/s]\n"
          ]
        },
        {
          "output_type": "stream",
          "name": "stdout",
          "text": [
            "Train Loss : 0.679\n",
            "Valid Loss : 0.696 Valid Acc  : 0.503\n",
            "Epoch: 4\n"
          ]
        },
        {
          "output_type": "stream",
          "name": "stderr",
          "text": [
            "100%|██████████| 693/693 [00:10<00:00, 65.23it/s]\n"
          ]
        },
        {
          "output_type": "stream",
          "name": "stdout",
          "text": [
            "Train Loss : 0.659\n",
            "Valid Loss : 0.709 Valid Acc  : 0.527\n",
            "Early stopping: No improvement for 3 consecutive epochs.\n",
            "\n",
            "Test Accuracy : 0.496\n",
            "Precision (Weighted): 0.495\n",
            "Recall (Weighted): 0.496\n",
            "F1-Score (Weighted): 0.486\n",
            "Balanced Accuracy: 0.496\n",
            "\n",
            "Classification Report : \n",
            "              precision    recall  f1-score   support\n",
            "\n",
            "           0       0.50      0.64      0.56       118\n",
            "           1       0.49      0.36      0.41       118\n",
            "\n",
            "    accuracy                           0.50       236\n",
            "   macro avg       0.50      0.50      0.49       236\n",
            "weighted avg       0.50      0.50      0.49       236\n",
            "\n",
            "\n",
            "Confusion Matrix : \n",
            "[[75 43]\n",
            " [76 42]]\n",
            "757854, 10.6317138671875, 0.4957627118644068\n",
            "Vocab()\n",
            "\n",
            "Model:\n",
            "RNNModel(\n",
            "  (embedding_layer): Embedding(2230, 100)\n",
            "  (rnn): RNN(100, 64, batch_first=True)\n",
            "  (linear): Linear(in_features=64, out_features=2, bias=True)\n",
            ")\n",
            "Total parameters:  233754\n",
            "\n",
            "\n",
            "\n",
            "Epoch: 1\n"
          ]
        },
        {
          "output_type": "stream",
          "name": "stderr",
          "text": [
            "100%|██████████| 76/76 [00:01<00:00, 50.91it/s]\n"
          ]
        },
        {
          "output_type": "stream",
          "name": "stdout",
          "text": [
            "Train Loss : 0.701\n",
            "Valid Loss : 0.702 Valid Acc  : 0.531\n",
            "Epoch: 2\n"
          ]
        },
        {
          "output_type": "stream",
          "name": "stderr",
          "text": [
            "100%|██████████| 76/76 [00:01<00:00, 65.71it/s]\n"
          ]
        },
        {
          "output_type": "stream",
          "name": "stdout",
          "text": [
            "Train Loss : 0.682\n",
            "Valid Loss : 0.717 Valid Acc  : 0.516\n",
            "Epoch: 3\n"
          ]
        },
        {
          "output_type": "stream",
          "name": "stderr",
          "text": [
            "100%|██████████| 76/76 [00:00<00:00, 84.06it/s]\n"
          ]
        },
        {
          "output_type": "stream",
          "name": "stdout",
          "text": [
            "Train Loss : 0.668\n",
            "Valid Loss : 0.700 Valid Acc  : 0.516\n",
            "Epoch: 4\n"
          ]
        },
        {
          "output_type": "stream",
          "name": "stderr",
          "text": [
            "100%|██████████| 76/76 [00:00<00:00, 83.74it/s]\n"
          ]
        },
        {
          "output_type": "stream",
          "name": "stdout",
          "text": [
            "Train Loss : 0.627\n",
            "Valid Loss : 0.738 Valid Acc  : 0.523\n",
            "Early stopping: No improvement for 3 consecutive epochs.\n",
            "\n",
            "Test Accuracy : 0.491\n",
            "Precision (Weighted): 0.489\n",
            "Recall (Weighted): 0.491\n",
            "F1-Score (Weighted): 0.463\n",
            "Balanced Accuracy: 0.491\n",
            "\n",
            "Classification Report : \n",
            "              precision    recall  f1-score   support\n",
            "\n",
            "           0       0.49      0.72      0.59     10500\n",
            "           1       0.48      0.26      0.34     10500\n",
            "\n",
            "    accuracy                           0.49     21000\n",
            "   macro avg       0.49      0.49      0.46     21000\n",
            "weighted avg       0.49      0.49      0.46     21000\n",
            "\n",
            "\n",
            "Confusion Matrix : \n",
            "[[7563 2937]\n",
            " [7745 2755]]\n",
            "233754, 0.9171750545501709, 0.49133333333333334\n",
            "Vocab()\n",
            "\n",
            "Model:\n",
            "RNNModel(\n",
            "  (embedding_layer): Embedding(7519, 100)\n",
            "  (rnn): RNN(100, 64, batch_first=True)\n",
            "  (linear): Linear(in_features=64, out_features=2, bias=True)\n",
            ")\n",
            "Total parameters:  762654\n",
            "\n",
            "\n",
            "\n",
            "Epoch: 1\n"
          ]
        },
        {
          "output_type": "stream",
          "name": "stderr",
          "text": [
            "100%|██████████| 682/682 [00:11<00:00, 57.86it/s]\n"
          ]
        },
        {
          "output_type": "stream",
          "name": "stdout",
          "text": [
            "Train Loss : 0.697\n",
            "Valid Loss : 0.697 Valid Acc  : 0.493\n",
            "Epoch: 2\n"
          ]
        },
        {
          "output_type": "stream",
          "name": "stderr",
          "text": [
            "100%|██████████| 682/682 [00:10<00:00, 64.08it/s]\n"
          ]
        },
        {
          "output_type": "stream",
          "name": "stdout",
          "text": [
            "Train Loss : 0.689\n",
            "Valid Loss : 0.698 Valid Acc  : 0.510\n",
            "Epoch: 3\n"
          ]
        },
        {
          "output_type": "stream",
          "name": "stderr",
          "text": [
            "100%|██████████| 682/682 [00:10<00:00, 64.01it/s]\n"
          ]
        },
        {
          "output_type": "stream",
          "name": "stdout",
          "text": [
            "Train Loss : 0.679\n",
            "Valid Loss : 0.700 Valid Acc  : 0.515\n",
            "Epoch: 4\n"
          ]
        },
        {
          "output_type": "stream",
          "name": "stderr",
          "text": [
            "100%|██████████| 682/682 [00:11<00:00, 60.61it/s]\n"
          ]
        },
        {
          "output_type": "stream",
          "name": "stdout",
          "text": [
            "Train Loss : 0.657\n",
            "Valid Loss : 0.715 Valid Acc  : 0.508\n",
            "Epoch: 5\n"
          ]
        },
        {
          "output_type": "stream",
          "name": "stderr",
          "text": [
            "100%|██████████| 682/682 [00:11<00:00, 61.54it/s]\n"
          ]
        },
        {
          "output_type": "stream",
          "name": "stdout",
          "text": [
            "Train Loss : 0.622\n",
            "Valid Loss : 0.745 Valid Acc  : 0.520\n",
            "Epoch: 6\n"
          ]
        },
        {
          "output_type": "stream",
          "name": "stderr",
          "text": [
            "100%|██████████| 682/682 [00:10<00:00, 64.77it/s]\n"
          ]
        },
        {
          "output_type": "stream",
          "name": "stdout",
          "text": [
            "Train Loss : 0.577\n",
            "Valid Loss : 0.771 Valid Acc  : 0.520\n",
            "Epoch: 7\n"
          ]
        },
        {
          "output_type": "stream",
          "name": "stderr",
          "text": [
            "100%|██████████| 682/682 [00:10<00:00, 65.52it/s]\n"
          ]
        },
        {
          "output_type": "stream",
          "name": "stdout",
          "text": [
            "Train Loss : 0.529\n",
            "Valid Loss : 0.884 Valid Acc  : 0.517\n",
            "Epoch: 8\n"
          ]
        },
        {
          "output_type": "stream",
          "name": "stderr",
          "text": [
            "100%|██████████| 682/682 [00:11<00:00, 61.43it/s]\n"
          ]
        },
        {
          "output_type": "stream",
          "name": "stdout",
          "text": [
            "Train Loss : 0.481\n",
            "Valid Loss : 0.918 Valid Acc  : 0.515\n",
            "Early stopping: No improvement for 3 consecutive epochs.\n",
            "\n",
            "Test Accuracy : 0.507\n",
            "Precision (Weighted): 0.507\n",
            "Recall (Weighted): 0.507\n",
            "F1-Score (Weighted): 0.505\n",
            "Balanced Accuracy: 0.506\n",
            "\n",
            "Classification Report : \n",
            "              precision    recall  f1-score   support\n",
            "\n",
            "           0       0.51      0.45      0.47       301\n",
            "           1       0.51      0.57      0.54       303\n",
            "\n",
            "    accuracy                           0.51       604\n",
            "   macro avg       0.51      0.51      0.50       604\n",
            "weighted avg       0.51      0.51      0.50       604\n",
            "\n",
            "\n",
            "Confusion Matrix : \n",
            "[[134 167]\n",
            " [131 172]]\n",
            "762654, 11.108831644058228, 0.5066225165562914\n",
            "\n",
            "Results DataFrame for RNN Model:\n",
            "                       Dataset  Parameters  Training Time  Test Accuracy  \\\n",
            "0              OP_Spam_Dataset      713954       9.032176       0.475625   \n",
            "1  Restaurants_Reviews_Dataset      772654      10.396361       0.500000   \n",
            "2                DeRev_Dataset      757854      10.631714       0.495763   \n",
            "3       Amazon_Reviews_Dataset      233754       0.917175       0.491333   \n",
            "4       Cross_Cultural_Dataset      762654      11.108832       0.506623   \n",
            "\n",
            "   Precision    Recall  F1-Score  Balanced Accuracy  \n",
            "0   0.475492  0.475625  0.474911           0.475625  \n",
            "1   0.500000  0.500000  0.499959           0.500000  \n",
            "2   0.495403  0.495763  0.485707           0.495763  \n",
            "3   0.489034  0.491333  0.463194           0.491333  \n",
            "4   0.506520  0.506623  0.504765           0.506420  \n"
          ]
        },
        {
          "output_type": "display_data",
          "data": {
            "text/plain": [
              "<Figure size 1600x800 with 3 Axes>"
            ],
            "image/png": "[encoded data removed]"
          },
          "metadata": {}
        }
      ]
    },
    {
      "cell_type": "code",
      "source": [
        "birnn_results_df = run_experiment(datasets_loaders, BiRNNModel, \"BiRNN Model\", 3, False)\n",
        "lstm_results_df = run_experiment(datasets_loaders, LSTMModel, \"LSTM Model\", 3, False)\n",
        "gru_results_df = run_experiment(datasets_loaders, GRUModel, \"GRU Model\", 3, False)\n",
        "transformer_results_df= run_experiment(datasets_loaders, TransformerModel, \"Transformer Model\", 3, True)"
      ],
      "metadata": {
        "colab": {
          "base_uri": "https://localhost:8080/",
          "height": 1000
        },
        "id": "n7QrMBTA-ssh",
        "outputId": "6d8a35ab-cdf1-44ba-fdfa-22efe34428ac"
      },
      "execution_count": null,
      "outputs": [
        {
          "output_type": "stream",
          "name": "stdout",
          "text": [
            "Vocab()\n",
            "\n",
            "Model:\n",
            "BiRNNModel(\n",
            "  (embedding_layer): Embedding(7032, 100)\n",
            "  (rnn): RNN(100, 64, batch_first=True, bidirectional=True)\n",
            "  (linear): Linear(in_features=128, out_features=2, bias=True)\n",
            ")\n",
            "Total parameters:  724706\n",
            "\n",
            "\n",
            "\n",
            "Epoch: 1\n"
          ]
        },
        {
          "output_type": "stream",
          "name": "stderr",
          "text": [
            "100%|██████████| 652/652 [00:15<00:00, 42.20it/s]\n"
          ]
        },
        {
          "output_type": "stream",
          "name": "stdout",
          "text": [
            "Train Loss : 0.700\n",
            "Valid Loss : 0.698 Valid Acc  : 0.510\n",
            "Epoch: 2\n"
          ]
        },
        {
          "output_type": "stream",
          "name": "stderr",
          "text": [
            "100%|██████████| 652/652 [00:14<00:00, 45.75it/s]\n"
          ]
        },
        {
          "output_type": "stream",
          "name": "stdout",
          "text": [
            "Train Loss : 0.690\n",
            "Valid Loss : 0.698 Valid Acc  : 0.513\n",
            "Epoch: 3\n"
          ]
        },
        {
          "output_type": "stream",
          "name": "stderr",
          "text": [
            "100%|██████████| 652/652 [00:14<00:00, 46.22it/s]\n"
          ]
        },
        {
          "output_type": "stream",
          "name": "stdout",
          "text": [
            "Train Loss : 0.679\n",
            "Valid Loss : 0.710 Valid Acc  : 0.522\n",
            "Epoch: 4\n"
          ]
        },
        {
          "output_type": "stream",
          "name": "stderr",
          "text": [
            "100%|██████████| 652/652 [00:14<00:00, 45.80it/s]\n"
          ]
        },
        {
          "output_type": "stream",
          "name": "stdout",
          "text": [
            "Train Loss : 0.658\n",
            "Valid Loss : 0.727 Valid Acc  : 0.517\n",
            "Epoch: 5\n"
          ]
        },
        {
          "output_type": "stream",
          "name": "stderr",
          "text": [
            "100%|██████████| 652/652 [00:14<00:00, 46.37it/s]\n"
          ]
        },
        {
          "output_type": "stream",
          "name": "stdout",
          "text": [
            "Train Loss : 0.628\n",
            "Valid Loss : 0.756 Valid Acc  : 0.510\n",
            "Epoch: 6\n"
          ]
        },
        {
          "output_type": "stream",
          "name": "stderr",
          "text": [
            "100%|██████████| 652/652 [00:14<00:00, 46.37it/s]\n"
          ]
        },
        {
          "output_type": "stream",
          "name": "stdout",
          "text": [
            "Train Loss : 0.590\n",
            "Valid Loss : 0.773 Valid Acc  : 0.529\n",
            "Epoch: 7\n"
          ]
        },
        {
          "output_type": "stream",
          "name": "stderr",
          "text": [
            "100%|██████████| 652/652 [00:14<00:00, 46.53it/s]\n"
          ]
        },
        {
          "output_type": "stream",
          "name": "stdout",
          "text": [
            "Train Loss : 0.547\n",
            "Valid Loss : 0.827 Valid Acc  : 0.516\n",
            "Epoch: 8\n"
          ]
        },
        {
          "output_type": "stream",
          "name": "stderr",
          "text": [
            "100%|██████████| 652/652 [00:14<00:00, 46.54it/s]\n"
          ]
        },
        {
          "output_type": "stream",
          "name": "stdout",
          "text": [
            "Train Loss : 0.502\n",
            "Valid Loss : 0.881 Valid Acc  : 0.549\n",
            "Epoch: 9\n"
          ]
        },
        {
          "output_type": "stream",
          "name": "stderr",
          "text": [
            "100%|██████████| 652/652 [00:13<00:00, 47.13it/s]\n"
          ]
        },
        {
          "output_type": "stream",
          "name": "stdout",
          "text": [
            "Train Loss : 0.452\n",
            "Valid Loss : 0.945 Valid Acc  : 0.522\n",
            "Epoch: 10\n"
          ]
        },
        {
          "output_type": "stream",
          "name": "stderr",
          "text": [
            "100%|██████████| 652/652 [00:14<00:00, 46.22it/s]\n"
          ]
        },
        {
          "output_type": "stream",
          "name": "stdout",
          "text": [
            "Train Loss : 0.405\n",
            "Valid Loss : 0.987 Valid Acc  : 0.531\n",
            "Epoch: 11\n"
          ]
        },
        {
          "output_type": "stream",
          "name": "stderr",
          "text": [
            "100%|██████████| 652/652 [00:14<00:00, 46.16it/s]\n"
          ]
        },
        {
          "output_type": "stream",
          "name": "stdout",
          "text": [
            "Train Loss : 0.355\n",
            "Valid Loss : 1.085 Valid Acc  : 0.539\n",
            "Early stopping: No improvement for 3 consecutive epochs.\n",
            "\n",
            "Test Accuracy : 0.478\n",
            "Precision (Weighted): 0.478\n",
            "Recall (Weighted): 0.478\n",
            "F1-Score (Weighted): 0.478\n",
            "Balanced Accuracy: 0.478\n",
            "\n",
            "Classification Report : \n",
            "              precision    recall  f1-score   support\n",
            "\n",
            "           0       0.48      0.50      0.49       800\n",
            "           1       0.48      0.45      0.46       800\n",
            "\n",
            "    accuracy                           0.48      1600\n",
            "   macro avg       0.48      0.48      0.48      1600\n",
            "weighted avg       0.48      0.48      0.48      1600\n",
            "\n",
            "\n",
            "Confusion Matrix : \n",
            "[[403 397]\n",
            " [438 362]]\n",
            "724706, 14.134168863296509, 0.478125\n",
            "Vocab()\n",
            "\n",
            "Model:\n",
            "BiRNNModel(\n",
            "  (embedding_layer): Embedding(7619, 100)\n",
            "  (rnn): RNN(100, 64, batch_first=True, bidirectional=True)\n",
            "  (linear): Linear(in_features=128, out_features=2, bias=True)\n",
            ")\n",
            "Total parameters:  783406\n",
            "\n",
            "\n",
            "\n",
            "Epoch: 1\n"
          ]
        },
        {
          "output_type": "stream",
          "name": "stderr",
          "text": [
            "100%|██████████| 696/696 [00:15<00:00, 44.23it/s]\n"
          ]
        },
        {
          "output_type": "stream",
          "name": "stdout",
          "text": [
            "Train Loss : 0.699\n",
            "Valid Loss : 0.695 Valid Acc  : 0.521\n",
            "Epoch: 2\n"
          ]
        },
        {
          "output_type": "stream",
          "name": "stderr",
          "text": [
            "100%|██████████| 696/696 [00:15<00:00, 45.36it/s]\n"
          ]
        },
        {
          "output_type": "stream",
          "name": "stdout",
          "text": [
            "Train Loss : 0.690\n",
            "Valid Loss : 0.694 Valid Acc  : 0.509\n",
            "Epoch: 3\n"
          ]
        },
        {
          "output_type": "stream",
          "name": "stderr",
          "text": [
            "100%|██████████| 696/696 [00:15<00:00, 44.56it/s]\n"
          ]
        },
        {
          "output_type": "stream",
          "name": "stdout",
          "text": [
            "Train Loss : 0.681\n",
            "Valid Loss : 0.711 Valid Acc  : 0.512\n",
            "Epoch: 4\n"
          ]
        },
        {
          "output_type": "stream",
          "name": "stderr",
          "text": [
            "100%|██████████| 696/696 [00:15<00:00, 45.30it/s]\n"
          ]
        },
        {
          "output_type": "stream",
          "name": "stdout",
          "text": [
            "Train Loss : 0.660\n",
            "Valid Loss : 0.719 Valid Acc  : 0.515\n",
            "Early stopping: No improvement for 3 consecutive epochs.\n",
            "\n",
            "Test Accuracy : 0.445\n",
            "Precision (Weighted): 0.434\n",
            "Recall (Weighted): 0.445\n",
            "F1-Score (Weighted): 0.420\n",
            "Balanced Accuracy: 0.445\n",
            "\n",
            "Classification Report : \n",
            "              precision    recall  f1-score   support\n",
            "\n",
            "           0       0.41      0.24      0.30        55\n",
            "           1       0.46      0.65      0.54        55\n",
            "\n",
            "    accuracy                           0.45       110\n",
            "   macro avg       0.43      0.45      0.42       110\n",
            "weighted avg       0.43      0.45      0.42       110\n",
            "\n",
            "\n",
            "Confusion Matrix : \n",
            "[[13 42]\n",
            " [19 36]]\n",
            "783406, 15.373576641082764, 0.44545454545454544\n",
            "Vocab()\n",
            "\n",
            "Model:\n",
            "BiRNNModel(\n",
            "  (embedding_layer): Embedding(7471, 100)\n",
            "  (rnn): RNN(100, 64, batch_first=True, bidirectional=True)\n",
            "  (linear): Linear(in_features=128, out_features=2, bias=True)\n",
            ")\n",
            "Total parameters:  768606\n",
            "\n",
            "\n",
            "\n",
            "Epoch: 1\n"
          ]
        },
        {
          "output_type": "stream",
          "name": "stderr",
          "text": [
            "100%|██████████| 693/693 [00:15<00:00, 43.64it/s]\n"
          ]
        },
        {
          "output_type": "stream",
          "name": "stdout",
          "text": [
            "Train Loss : 0.699\n",
            "Valid Loss : 0.691 Valid Acc  : 0.506\n",
            "Epoch: 2\n"
          ]
        },
        {
          "output_type": "stream",
          "name": "stderr",
          "text": [
            "100%|██████████| 693/693 [00:15<00:00, 44.42it/s]\n"
          ]
        },
        {
          "output_type": "stream",
          "name": "stdout",
          "text": [
            "Train Loss : 0.690\n",
            "Valid Loss : 0.696 Valid Acc  : 0.504\n",
            "Epoch: 3\n"
          ]
        },
        {
          "output_type": "stream",
          "name": "stderr",
          "text": [
            "100%|██████████| 693/693 [00:15<00:00, 43.61it/s]\n"
          ]
        },
        {
          "output_type": "stream",
          "name": "stdout",
          "text": [
            "Train Loss : 0.678\n",
            "Valid Loss : 0.695 Valid Acc  : 0.528\n",
            "Epoch: 4\n"
          ]
        },
        {
          "output_type": "stream",
          "name": "stderr",
          "text": [
            "100%|██████████| 693/693 [00:15<00:00, 43.61it/s]\n"
          ]
        },
        {
          "output_type": "stream",
          "name": "stdout",
          "text": [
            "Train Loss : 0.656\n",
            "Valid Loss : 0.719 Valid Acc  : 0.521\n",
            "Epoch: 5\n"
          ]
        },
        {
          "output_type": "stream",
          "name": "stderr",
          "text": [
            "100%|██████████| 693/693 [00:16<00:00, 43.20it/s]\n"
          ]
        },
        {
          "output_type": "stream",
          "name": "stdout",
          "text": [
            "Train Loss : 0.623\n",
            "Valid Loss : 0.741 Valid Acc  : 0.533\n",
            "Epoch: 6\n"
          ]
        },
        {
          "output_type": "stream",
          "name": "stderr",
          "text": [
            "100%|██████████| 693/693 [00:15<00:00, 43.74it/s]\n"
          ]
        },
        {
          "output_type": "stream",
          "name": "stdout",
          "text": [
            "Train Loss : 0.582\n",
            "Valid Loss : 0.785 Valid Acc  : 0.533\n",
            "Epoch: 7\n"
          ]
        },
        {
          "output_type": "stream",
          "name": "stderr",
          "text": [
            "100%|██████████| 693/693 [00:16<00:00, 42.98it/s]\n"
          ]
        },
        {
          "output_type": "stream",
          "name": "stdout",
          "text": [
            "Train Loss : 0.535\n",
            "Valid Loss : 0.813 Valid Acc  : 0.534\n",
            "Epoch: 8\n"
          ]
        },
        {
          "output_type": "stream",
          "name": "stderr",
          "text": [
            "100%|██████████| 693/693 [00:16<00:00, 42.58it/s]\n"
          ]
        },
        {
          "output_type": "stream",
          "name": "stdout",
          "text": [
            "Train Loss : 0.486\n",
            "Valid Loss : 0.903 Valid Acc  : 0.548\n",
            "Epoch: 9\n"
          ]
        },
        {
          "output_type": "stream",
          "name": "stderr",
          "text": [
            "100%|██████████| 693/693 [00:15<00:00, 43.80it/s]\n"
          ]
        },
        {
          "output_type": "stream",
          "name": "stdout",
          "text": [
            "Train Loss : 0.433\n",
            "Valid Loss : 0.922 Valid Acc  : 0.531\n",
            "Epoch: 10\n"
          ]
        },
        {
          "output_type": "stream",
          "name": "stderr",
          "text": [
            "100%|██████████| 693/693 [00:15<00:00, 44.84it/s]\n"
          ]
        },
        {
          "output_type": "stream",
          "name": "stdout",
          "text": [
            "Train Loss : 0.382\n",
            "Valid Loss : 1.077 Valid Acc  : 0.538\n",
            "Epoch: 11\n"
          ]
        },
        {
          "output_type": "stream",
          "name": "stderr",
          "text": [
            "100%|██████████| 693/693 [00:15<00:00, 43.77it/s]\n"
          ]
        },
        {
          "output_type": "stream",
          "name": "stdout",
          "text": [
            "Train Loss : 0.330\n",
            "Valid Loss : 1.184 Valid Acc  : 0.538\n",
            "Early stopping: No improvement for 3 consecutive epochs.\n",
            "\n",
            "Test Accuracy : 0.564\n",
            "Precision (Weighted): 0.564\n",
            "Recall (Weighted): 0.564\n",
            "F1-Score (Weighted): 0.562\n",
            "Balanced Accuracy: 0.564\n",
            "\n",
            "Classification Report : \n",
            "              precision    recall  f1-score   support\n",
            "\n",
            "           0       0.57      0.51      0.54       118\n",
            "           1       0.56      0.62      0.59       118\n",
            "\n",
            "    accuracy                           0.56       236\n",
            "   macro avg       0.56      0.56      0.56       236\n",
            "weighted avg       0.56      0.56      0.56       236\n",
            "\n",
            "\n",
            "Confusion Matrix : \n",
            "[[60 58]\n",
            " [45 73]]\n",
            "768606, 15.837421417236328, 0.5635593220338984\n",
            "Vocab()\n",
            "\n",
            "Model:\n",
            "BiRNNModel(\n",
            "  (embedding_layer): Embedding(2230, 100)\n",
            "  (rnn): RNN(100, 64, batch_first=True, bidirectional=True)\n",
            "  (linear): Linear(in_features=128, out_features=2, bias=True)\n",
            ")\n",
            "Total parameters:  244506\n",
            "\n",
            "\n",
            "\n",
            "Epoch: 1\n"
          ]
        },
        {
          "output_type": "stream",
          "name": "stderr",
          "text": [
            "100%|██████████| 76/76 [00:01<00:00, 57.61it/s]\n"
          ]
        },
        {
          "output_type": "stream",
          "name": "stdout",
          "text": [
            "Train Loss : 0.710\n",
            "Valid Loss : 0.704 Valid Acc  : 0.508\n",
            "Epoch: 2\n"
          ]
        },
        {
          "output_type": "stream",
          "name": "stderr",
          "text": [
            "100%|██████████| 76/76 [00:01<00:00, 58.21it/s]\n"
          ]
        },
        {
          "output_type": "stream",
          "name": "stdout",
          "text": [
            "Train Loss : 0.676\n",
            "Valid Loss : 0.715 Valid Acc  : 0.531\n",
            "Epoch: 3\n"
          ]
        },
        {
          "output_type": "stream",
          "name": "stderr",
          "text": [
            "100%|██████████| 76/76 [00:01<00:00, 56.85it/s]\n"
          ]
        },
        {
          "output_type": "stream",
          "name": "stdout",
          "text": [
            "Train Loss : 0.644\n",
            "Valid Loss : 0.742 Valid Acc  : 0.508\n",
            "Epoch: 4\n"
          ]
        },
        {
          "output_type": "stream",
          "name": "stderr",
          "text": [
            "100%|██████████| 76/76 [00:01<00:00, 58.24it/s]\n"
          ]
        },
        {
          "output_type": "stream",
          "name": "stdout",
          "text": [
            "Train Loss : 0.610\n",
            "Valid Loss : 0.775 Valid Acc  : 0.508\n",
            "Epoch: 5\n"
          ]
        },
        {
          "output_type": "stream",
          "name": "stderr",
          "text": [
            "100%|██████████| 76/76 [00:01<00:00, 41.08it/s]\n"
          ]
        },
        {
          "output_type": "stream",
          "name": "stdout",
          "text": [
            "Train Loss : 0.555\n",
            "Valid Loss : 0.837 Valid Acc  : 0.523\n",
            "Early stopping: No improvement for 3 consecutive epochs.\n",
            "\n",
            "Test Accuracy : 0.496\n",
            "Precision (Weighted): 0.496\n",
            "Recall (Weighted): 0.496\n",
            "F1-Score (Weighted): 0.495\n",
            "Balanced Accuracy: 0.496\n",
            "\n",
            "Classification Report : \n",
            "              precision    recall  f1-score   support\n",
            "\n",
            "           0       0.50      0.55      0.52     10500\n",
            "           1       0.50      0.44      0.47     10500\n",
            "\n",
            "    accuracy                           0.50     21000\n",
            "   macro avg       0.50      0.50      0.49     21000\n",
            "weighted avg       0.50      0.50      0.49     21000\n",
            "\n",
            "\n",
            "Confusion Matrix : \n",
            "[[5826 4674]\n",
            " [5900 4600]]\n",
            "244506, 1.8575260639190674, 0.49647619047619046\n",
            "Vocab()\n",
            "\n",
            "Model:\n",
            "BiRNNModel(\n",
            "  (embedding_layer): Embedding(7519, 100)\n",
            "  (rnn): RNN(100, 64, batch_first=True, bidirectional=True)\n",
            "  (linear): Linear(in_features=128, out_features=2, bias=True)\n",
            ")\n",
            "Total parameters:  773406\n",
            "\n",
            "\n",
            "\n",
            "Epoch: 1\n"
          ]
        },
        {
          "output_type": "stream",
          "name": "stderr",
          "text": [
            "100%|██████████| 682/682 [00:15<00:00, 44.69it/s]\n"
          ]
        },
        {
          "output_type": "stream",
          "name": "stdout",
          "text": [
            "Train Loss : 0.700\n",
            "Valid Loss : 0.691 Valid Acc  : 0.510\n",
            "Epoch: 2\n"
          ]
        },
        {
          "output_type": "stream",
          "name": "stderr",
          "text": [
            "100%|██████████| 682/682 [00:15<00:00, 45.36it/s]\n"
          ]
        },
        {
          "output_type": "stream",
          "name": "stdout",
          "text": [
            "Train Loss : 0.690\n",
            "Valid Loss : 0.695 Valid Acc  : 0.522\n",
            "Epoch: 3\n"
          ]
        },
        {
          "output_type": "stream",
          "name": "stderr",
          "text": [
            "100%|██████████| 682/682 [00:15<00:00, 45.46it/s]\n"
          ]
        },
        {
          "output_type": "stream",
          "name": "stdout",
          "text": [
            "Train Loss : 0.680\n",
            "Valid Loss : 0.691 Valid Acc  : 0.531\n",
            "Epoch: 4\n"
          ]
        },
        {
          "output_type": "stream",
          "name": "stderr",
          "text": [
            "100%|██████████| 682/682 [00:14<00:00, 46.20it/s]\n"
          ]
        },
        {
          "output_type": "stream",
          "name": "stdout",
          "text": [
            "Train Loss : 0.659\n",
            "Valid Loss : 0.724 Valid Acc  : 0.533\n",
            "Epoch: 5\n"
          ]
        },
        {
          "output_type": "stream",
          "name": "stderr",
          "text": [
            "100%|██████████| 682/682 [00:14<00:00, 45.65it/s]\n"
          ]
        },
        {
          "output_type": "stream",
          "name": "stdout",
          "text": [
            "Train Loss : 0.623\n",
            "Valid Loss : 0.729 Valid Acc  : 0.531\n",
            "Epoch: 6\n"
          ]
        },
        {
          "output_type": "stream",
          "name": "stderr",
          "text": [
            "100%|██████████| 682/682 [00:14<00:00, 46.37it/s]\n"
          ]
        },
        {
          "output_type": "stream",
          "name": "stdout",
          "text": [
            "Train Loss : 0.580\n",
            "Valid Loss : 0.774 Valid Acc  : 0.538\n",
            "Epoch: 7\n"
          ]
        },
        {
          "output_type": "stream",
          "name": "stderr",
          "text": [
            "100%|██████████| 682/682 [00:14<00:00, 45.78it/s]\n"
          ]
        },
        {
          "output_type": "stream",
          "name": "stdout",
          "text": [
            "Train Loss : 0.534\n",
            "Valid Loss : 0.802 Valid Acc  : 0.520\n",
            "Epoch: 8\n"
          ]
        },
        {
          "output_type": "stream",
          "name": "stderr",
          "text": [
            "100%|██████████| 682/682 [00:14<00:00, 45.62it/s]\n"
          ]
        },
        {
          "output_type": "stream",
          "name": "stdout",
          "text": [
            "Train Loss : 0.484\n",
            "Valid Loss : 0.862 Valid Acc  : 0.518\n",
            "Epoch: 9\n"
          ]
        },
        {
          "output_type": "stream",
          "name": "stderr",
          "text": [
            "100%|██████████| 682/682 [00:15<00:00, 45.46it/s]\n"
          ]
        },
        {
          "output_type": "stream",
          "name": "stdout",
          "text": [
            "Train Loss : 0.431\n",
            "Valid Loss : 0.928 Valid Acc  : 0.524\n",
            "Early stopping: No improvement for 3 consecutive epochs.\n",
            "\n",
            "Test Accuracy : 0.518\n",
            "Precision (Weighted): 0.518\n",
            "Recall (Weighted): 0.518\n",
            "F1-Score (Weighted): 0.517\n",
            "Balanced Accuracy: 0.518\n",
            "\n",
            "Classification Report : \n",
            "              precision    recall  f1-score   support\n",
            "\n",
            "           0       0.52      0.47      0.49       301\n",
            "           1       0.52      0.57      0.54       303\n",
            "\n",
            "    accuracy                           0.52       604\n",
            "   macro avg       0.52      0.52      0.52       604\n",
            "weighted avg       0.52      0.52      0.52       604\n",
            "\n",
            "\n",
            "Confusion Matrix : \n",
            "[[141 160]\n",
            " [131 172]]\n",
            "773406, 15.012075424194336, 0.5182119205298014\n",
            "\n",
            "Results DataFrame for BiRNN Model:\n",
            "                       Dataset  Parameters  Training Time  Test Accuracy  \\\n",
            "0              OP_Spam_Dataset      724706      14.134169       0.478125   \n",
            "1  Restaurants_Reviews_Dataset      783406      15.373577       0.445455   \n",
            "2                DeRev_Dataset      768606      15.837421       0.563559   \n",
            "3       Amazon_Reviews_Dataset      244506       1.857526       0.496476   \n",
            "4       Cross_Cultural_Dataset      773406      15.012075       0.518212   \n",
            "\n",
            "   Precision    Recall  F1-Score  Balanced Accuracy  \n",
            "0   0.478067  0.478125  0.477782           0.478125  \n",
            "1   0.433894  0.445455  0.420102           0.445455  \n",
            "2   0.564340  0.563559  0.562231           0.563559  \n",
            "3   0.496427  0.496476  0.494754           0.496476  \n",
            "4   0.518227  0.518212  0.517022           0.518048  \n"
          ]
        },
        {
          "output_type": "display_data",
          "data": {
            "text/plain": [
              "<Figure size 1600x800 with 3 Axes>"
            ],
            "image/png": "[encoded data removed]"
          },
          "metadata": {}
        },
        {
          "output_type": "stream",
          "name": "stdout",
          "text": [
            "Vocab()\n",
            "\n",
            "Model:\n",
            "LSTMModel(\n",
            "  (embedding_layer): Embedding(7032, 100)\n",
            "  (lstm): LSTM(100, 64, batch_first=True)\n",
            "  (linear): Linear(in_features=64, out_features=2, bias=True)\n",
            ")\n",
            "Total parameters:  745826\n",
            "\n",
            "\n",
            "\n",
            "Epoch: 1\n"
          ]
        },
        {
          "output_type": "stream",
          "name": "stderr",
          "text": [
            "100%|██████████| 652/652 [00:13<00:00, 47.86it/s]\n"
          ]
        },
        {
          "output_type": "stream",
          "name": "stdout",
          "text": [
            "Train Loss : 0.691\n",
            "Valid Loss : 0.690 Valid Acc  : 0.528\n",
            "Epoch: 2\n"
          ]
        },
        {
          "output_type": "stream",
          "name": "stderr",
          "text": [
            "100%|██████████| 652/652 [00:13<00:00, 48.60it/s]\n"
          ]
        },
        {
          "output_type": "stream",
          "name": "stdout",
          "text": [
            "Train Loss : 0.663\n",
            "Valid Loss : 0.688 Valid Acc  : 0.570\n",
            "Epoch: 3\n"
          ]
        },
        {
          "output_type": "stream",
          "name": "stderr",
          "text": [
            "100%|██████████| 652/652 [00:13<00:00, 49.13it/s]\n"
          ]
        },
        {
          "output_type": "stream",
          "name": "stdout",
          "text": [
            "Train Loss : 0.605\n",
            "Valid Loss : 0.703 Valid Acc  : 0.577\n",
            "Epoch: 4\n"
          ]
        },
        {
          "output_type": "stream",
          "name": "stderr",
          "text": [
            "100%|██████████| 652/652 [00:13<00:00, 49.34it/s]\n"
          ]
        },
        {
          "output_type": "stream",
          "name": "stdout",
          "text": [
            "Train Loss : 0.533\n",
            "Valid Loss : 0.769 Valid Acc  : 0.571\n",
            "Epoch: 5\n"
          ]
        },
        {
          "output_type": "stream",
          "name": "stderr",
          "text": [
            "100%|██████████| 652/652 [00:12<00:00, 50.38it/s]\n"
          ]
        },
        {
          "output_type": "stream",
          "name": "stdout",
          "text": [
            "Train Loss : 0.450\n",
            "Valid Loss : 0.819 Valid Acc  : 0.577\n",
            "Epoch: 6\n"
          ]
        },
        {
          "output_type": "stream",
          "name": "stderr",
          "text": [
            "100%|██████████| 652/652 [00:12<00:00, 52.00it/s]\n"
          ]
        },
        {
          "output_type": "stream",
          "name": "stdout",
          "text": [
            "Train Loss : 0.359\n",
            "Valid Loss : 0.984 Valid Acc  : 0.590\n",
            "Epoch: 7\n"
          ]
        },
        {
          "output_type": "stream",
          "name": "stderr",
          "text": [
            "100%|██████████| 652/652 [00:12<00:00, 51.46it/s]\n"
          ]
        },
        {
          "output_type": "stream",
          "name": "stdout",
          "text": [
            "Train Loss : 0.272\n",
            "Valid Loss : 1.125 Valid Acc  : 0.574\n",
            "Epoch: 8\n"
          ]
        },
        {
          "output_type": "stream",
          "name": "stderr",
          "text": [
            "100%|██████████| 652/652 [00:13<00:00, 48.79it/s]\n"
          ]
        },
        {
          "output_type": "stream",
          "name": "stdout",
          "text": [
            "Train Loss : 0.188\n",
            "Valid Loss : 1.370 Valid Acc  : 0.569\n",
            "Epoch: 9\n"
          ]
        },
        {
          "output_type": "stream",
          "name": "stderr",
          "text": [
            "100%|██████████| 652/652 [00:13<00:00, 48.98it/s]\n"
          ]
        },
        {
          "output_type": "stream",
          "name": "stdout",
          "text": [
            "Train Loss : 0.124\n",
            "Valid Loss : 1.674 Valid Acc  : 0.566\n",
            "Early stopping: No improvement for 3 consecutive epochs.\n",
            "\n",
            "Test Accuracy : 0.539\n",
            "Precision (Weighted): 0.540\n",
            "Recall (Weighted): 0.539\n",
            "F1-Score (Weighted): 0.536\n",
            "Balanced Accuracy: 0.539\n",
            "\n",
            "Classification Report : \n",
            "              precision    recall  f1-score   support\n",
            "\n",
            "           0       0.55      0.46      0.50       800\n",
            "           1       0.53      0.62      0.57       800\n",
            "\n",
            "    accuracy                           0.54      1600\n",
            "   macro avg       0.54      0.54      0.54      1600\n",
            "weighted avg       0.54      0.54      0.54      1600\n",
            "\n",
            "\n",
            "Confusion Matrix : \n",
            "[[368 432]\n",
            " [306 494]]\n",
            "745826, 13.318456172943115, 0.53875\n",
            "Vocab()\n",
            "\n",
            "Model:\n",
            "LSTMModel(\n",
            "  (embedding_layer): Embedding(7619, 100)\n",
            "  (lstm): LSTM(100, 64, batch_first=True)\n",
            "  (linear): Linear(in_features=64, out_features=2, bias=True)\n",
            ")\n",
            "Total parameters:  804526\n",
            "\n",
            "\n",
            "\n",
            "Epoch: 1\n"
          ]
        },
        {
          "output_type": "stream",
          "name": "stderr",
          "text": [
            "100%|██████████| 696/696 [00:14<00:00, 48.10it/s]\n"
          ]
        },
        {
          "output_type": "stream",
          "name": "stdout",
          "text": [
            "Train Loss : 0.692\n",
            "Valid Loss : 0.689 Valid Acc  : 0.535\n",
            "Epoch: 2\n"
          ]
        },
        {
          "output_type": "stream",
          "name": "stderr",
          "text": [
            "100%|██████████| 696/696 [00:14<00:00, 49.32it/s]\n"
          ]
        },
        {
          "output_type": "stream",
          "name": "stdout",
          "text": [
            "Train Loss : 0.668\n",
            "Valid Loss : 0.668 Valid Acc  : 0.589\n",
            "Epoch: 3\n"
          ]
        },
        {
          "output_type": "stream",
          "name": "stderr",
          "text": [
            "100%|██████████| 696/696 [00:14<00:00, 49.25it/s]\n"
          ]
        },
        {
          "output_type": "stream",
          "name": "stdout",
          "text": [
            "Train Loss : 0.608\n",
            "Valid Loss : 0.679 Valid Acc  : 0.593\n",
            "Epoch: 4\n"
          ]
        },
        {
          "output_type": "stream",
          "name": "stderr",
          "text": [
            "100%|██████████| 696/696 [00:14<00:00, 49.39it/s]\n"
          ]
        },
        {
          "output_type": "stream",
          "name": "stdout",
          "text": [
            "Train Loss : 0.535\n",
            "Valid Loss : 0.714 Valid Acc  : 0.596\n",
            "Epoch: 5\n"
          ]
        },
        {
          "output_type": "stream",
          "name": "stderr",
          "text": [
            "100%|██████████| 696/696 [00:14<00:00, 49.10it/s]\n"
          ]
        },
        {
          "output_type": "stream",
          "name": "stdout",
          "text": [
            "Train Loss : 0.452\n",
            "Valid Loss : 0.795 Valid Acc  : 0.588\n",
            "Epoch: 6\n"
          ]
        },
        {
          "output_type": "stream",
          "name": "stderr",
          "text": [
            "100%|██████████| 696/696 [00:14<00:00, 49.69it/s]\n"
          ]
        },
        {
          "output_type": "stream",
          "name": "stdout",
          "text": [
            "Train Loss : 0.362\n",
            "Valid Loss : 0.971 Valid Acc  : 0.588\n",
            "Epoch: 7\n"
          ]
        },
        {
          "output_type": "stream",
          "name": "stderr",
          "text": [
            "100%|██████████| 696/696 [00:14<00:00, 49.68it/s]\n"
          ]
        },
        {
          "output_type": "stream",
          "name": "stdout",
          "text": [
            "Train Loss : 0.276\n",
            "Valid Loss : 1.212 Valid Acc  : 0.588\n",
            "Early stopping: No improvement for 3 consecutive epochs.\n",
            "\n",
            "Test Accuracy : 0.427\n",
            "Precision (Weighted): 0.424\n",
            "Recall (Weighted): 0.427\n",
            "F1-Score (Weighted): 0.421\n",
            "Balanced Accuracy: 0.427\n",
            "\n",
            "Classification Report : \n",
            "              precision    recall  f1-score   support\n",
            "\n",
            "           0       0.41      0.33      0.36        55\n",
            "           1       0.44      0.53      0.48        55\n",
            "\n",
            "    accuracy                           0.43       110\n",
            "   macro avg       0.42      0.43      0.42       110\n",
            "weighted avg       0.42      0.43      0.42       110\n",
            "\n",
            "\n",
            "Confusion Matrix : \n",
            "[[18 37]\n",
            " [26 29]]\n",
            "804526, 14.016703367233276, 0.42727272727272725\n",
            "Vocab()\n",
            "\n",
            "Model:\n",
            "LSTMModel(\n",
            "  (embedding_layer): Embedding(7471, 100)\n",
            "  (lstm): LSTM(100, 64, batch_first=True)\n",
            "  (linear): Linear(in_features=64, out_features=2, bias=True)\n",
            ")\n",
            "Total parameters:  789726\n",
            "\n",
            "\n",
            "\n",
            "Epoch: 1\n"
          ]
        },
        {
          "output_type": "stream",
          "name": "stderr",
          "text": [
            "100%|██████████| 693/693 [00:14<00:00, 48.56it/s]\n"
          ]
        },
        {
          "output_type": "stream",
          "name": "stdout",
          "text": [
            "Train Loss : 0.691\n",
            "Valid Loss : 0.681 Valid Acc  : 0.561\n",
            "Epoch: 2\n"
          ]
        },
        {
          "output_type": "stream",
          "name": "stderr",
          "text": [
            "100%|██████████| 693/693 [00:13<00:00, 50.17it/s]\n"
          ]
        },
        {
          "output_type": "stream",
          "name": "stdout",
          "text": [
            "Train Loss : 0.658\n",
            "Valid Loss : 0.664 Valid Acc  : 0.599\n",
            "Epoch: 3\n"
          ]
        },
        {
          "output_type": "stream",
          "name": "stderr",
          "text": [
            "100%|██████████| 693/693 [00:13<00:00, 50.02it/s]\n"
          ]
        },
        {
          "output_type": "stream",
          "name": "stdout",
          "text": [
            "Train Loss : 0.600\n",
            "Valid Loss : 0.668 Valid Acc  : 0.598\n",
            "Epoch: 4\n"
          ]
        },
        {
          "output_type": "stream",
          "name": "stderr",
          "text": [
            "100%|██████████| 693/693 [00:13<00:00, 51.95it/s]\n"
          ]
        },
        {
          "output_type": "stream",
          "name": "stdout",
          "text": [
            "Train Loss : 0.529\n",
            "Valid Loss : 0.710 Valid Acc  : 0.598\n",
            "Epoch: 5\n"
          ]
        },
        {
          "output_type": "stream",
          "name": "stderr",
          "text": [
            "100%|██████████| 693/693 [00:13<00:00, 51.14it/s]\n"
          ]
        },
        {
          "output_type": "stream",
          "name": "stdout",
          "text": [
            "Train Loss : 0.449\n",
            "Valid Loss : 0.778 Valid Acc  : 0.611\n",
            "Epoch: 6\n"
          ]
        },
        {
          "output_type": "stream",
          "name": "stderr",
          "text": [
            "100%|██████████| 693/693 [00:13<00:00, 51.31it/s]\n"
          ]
        },
        {
          "output_type": "stream",
          "name": "stdout",
          "text": [
            "Train Loss : 0.365\n",
            "Valid Loss : 0.862 Valid Acc  : 0.594\n",
            "Epoch: 7\n"
          ]
        },
        {
          "output_type": "stream",
          "name": "stderr",
          "text": [
            "100%|██████████| 693/693 [00:13<00:00, 51.70it/s]\n"
          ]
        },
        {
          "output_type": "stream",
          "name": "stdout",
          "text": [
            "Train Loss : 0.280\n",
            "Valid Loss : 1.010 Valid Acc  : 0.602\n",
            "Epoch: 8\n"
          ]
        },
        {
          "output_type": "stream",
          "name": "stderr",
          "text": [
            "100%|██████████| 693/693 [00:13<00:00, 51.17it/s]\n"
          ]
        },
        {
          "output_type": "stream",
          "name": "stdout",
          "text": [
            "Train Loss : 0.200\n",
            "Valid Loss : 1.175 Valid Acc  : 0.592\n",
            "Early stopping: No improvement for 3 consecutive epochs.\n",
            "\n",
            "Test Accuracy : 0.576\n",
            "Precision (Weighted): 0.576\n",
            "Recall (Weighted): 0.576\n",
            "F1-Score (Weighted): 0.576\n",
            "Balanced Accuracy: 0.576\n",
            "\n",
            "Classification Report : \n",
            "              precision    recall  f1-score   support\n",
            "\n",
            "           0       0.57      0.59      0.58       118\n",
            "           1       0.58      0.56      0.57       118\n",
            "\n",
            "    accuracy                           0.58       236\n",
            "   macro avg       0.58      0.58      0.58       236\n",
            "weighted avg       0.58      0.58      0.58       236\n",
            "\n",
            "\n",
            "Confusion Matrix : \n",
            "[[70 48]\n",
            " [52 66]]\n",
            "789726, 13.549537181854248, 0.576271186440678\n",
            "Vocab()\n",
            "\n",
            "Model:\n",
            "LSTMModel(\n",
            "  (embedding_layer): Embedding(2230, 100)\n",
            "  (lstm): LSTM(100, 64, batch_first=True)\n",
            "  (linear): Linear(in_features=64, out_features=2, bias=True)\n",
            ")\n",
            "Total parameters:  265626\n",
            "\n",
            "\n",
            "\n",
            "Epoch: 1\n"
          ]
        },
        {
          "output_type": "stream",
          "name": "stderr",
          "text": [
            "100%|██████████| 76/76 [00:01<00:00, 41.30it/s]\n"
          ]
        },
        {
          "output_type": "stream",
          "name": "stdout",
          "text": [
            "Train Loss : 0.696\n",
            "Valid Loss : 0.694 Valid Acc  : 0.477\n",
            "Epoch: 2\n"
          ]
        },
        {
          "output_type": "stream",
          "name": "stderr",
          "text": [
            "100%|██████████| 76/76 [00:01<00:00, 40.70it/s]\n"
          ]
        },
        {
          "output_type": "stream",
          "name": "stdout",
          "text": [
            "Train Loss : 0.683\n",
            "Valid Loss : 0.699 Valid Acc  : 0.523\n",
            "Epoch: 3\n"
          ]
        },
        {
          "output_type": "stream",
          "name": "stderr",
          "text": [
            "100%|██████████| 76/76 [00:01<00:00, 64.05it/s]\n"
          ]
        },
        {
          "output_type": "stream",
          "name": "stdout",
          "text": [
            "Train Loss : 0.617\n",
            "Valid Loss : 0.676 Valid Acc  : 0.586\n",
            "Epoch: 4\n"
          ]
        },
        {
          "output_type": "stream",
          "name": "stderr",
          "text": [
            "100%|██████████| 76/76 [00:01<00:00, 60.51it/s]\n"
          ]
        },
        {
          "output_type": "stream",
          "name": "stdout",
          "text": [
            "Train Loss : 0.510\n",
            "Valid Loss : 0.683 Valid Acc  : 0.664\n",
            "Epoch: 5\n"
          ]
        },
        {
          "output_type": "stream",
          "name": "stderr",
          "text": [
            "100%|██████████| 76/76 [00:01<00:00, 62.09it/s]\n"
          ]
        },
        {
          "output_type": "stream",
          "name": "stdout",
          "text": [
            "Train Loss : 0.410\n",
            "Valid Loss : 0.674 Valid Acc  : 0.648\n",
            "Epoch: 6\n"
          ]
        },
        {
          "output_type": "stream",
          "name": "stderr",
          "text": [
            "100%|██████████| 76/76 [00:01<00:00, 63.13it/s]\n"
          ]
        },
        {
          "output_type": "stream",
          "name": "stdout",
          "text": [
            "Train Loss : 0.315\n",
            "Valid Loss : 0.744 Valid Acc  : 0.672\n",
            "Epoch: 7\n"
          ]
        },
        {
          "output_type": "stream",
          "name": "stderr",
          "text": [
            "100%|██████████| 76/76 [00:01<00:00, 63.21it/s]\n"
          ]
        },
        {
          "output_type": "stream",
          "name": "stdout",
          "text": [
            "Train Loss : 0.219\n",
            "Valid Loss : 0.904 Valid Acc  : 0.641\n",
            "Epoch: 8\n"
          ]
        },
        {
          "output_type": "stream",
          "name": "stderr",
          "text": [
            "100%|██████████| 76/76 [00:01<00:00, 62.26it/s]\n"
          ]
        },
        {
          "output_type": "stream",
          "name": "stdout",
          "text": [
            "Train Loss : 0.135\n",
            "Valid Loss : 1.034 Valid Acc  : 0.672\n",
            "Epoch: 9\n"
          ]
        },
        {
          "output_type": "stream",
          "name": "stderr",
          "text": [
            "100%|██████████| 76/76 [00:01<00:00, 63.37it/s]\n"
          ]
        },
        {
          "output_type": "stream",
          "name": "stdout",
          "text": [
            "Train Loss : 0.091\n",
            "Valid Loss : 1.084 Valid Acc  : 0.609\n",
            "Early stopping: No improvement for 3 consecutive epochs.\n",
            "\n",
            "Test Accuracy : 0.509\n",
            "Precision (Weighted): 0.509\n",
            "Recall (Weighted): 0.509\n",
            "F1-Score (Weighted): 0.504\n",
            "Balanced Accuracy: 0.509\n",
            "\n",
            "Classification Report : \n",
            "              precision    recall  f1-score   support\n",
            "\n",
            "           0       0.51      0.61      0.55     10500\n",
            "           1       0.51      0.41      0.45     10500\n",
            "\n",
            "    accuracy                           0.51     21000\n",
            "   macro avg       0.51      0.51      0.50     21000\n",
            "weighted avg       0.51      0.51      0.50     21000\n",
            "\n",
            "\n",
            "Confusion Matrix : \n",
            "[[6382 4118]\n",
            " [6199 4301]]\n",
            "265626, 1.2053685188293457, 0.5087142857142857\n",
            "Vocab()\n",
            "\n",
            "Model:\n",
            "LSTMModel(\n",
            "  (embedding_layer): Embedding(7519, 100)\n",
            "  (lstm): LSTM(100, 64, batch_first=True)\n",
            "  (linear): Linear(in_features=64, out_features=2, bias=True)\n",
            ")\n",
            "Total parameters:  794526\n",
            "\n",
            "\n",
            "\n",
            "Epoch: 1\n"
          ]
        },
        {
          "output_type": "stream",
          "name": "stderr",
          "text": [
            "100%|██████████| 682/682 [00:13<00:00, 50.42it/s]\n"
          ]
        },
        {
          "output_type": "stream",
          "name": "stdout",
          "text": [
            "Train Loss : 0.692\n",
            "Valid Loss : 0.692 Valid Acc  : 0.523\n",
            "Epoch: 2\n"
          ]
        },
        {
          "output_type": "stream",
          "name": "stderr",
          "text": [
            "100%|██████████| 682/682 [00:13<00:00, 51.00it/s]\n"
          ]
        },
        {
          "output_type": "stream",
          "name": "stdout",
          "text": [
            "Train Loss : 0.674\n",
            "Valid Loss : 0.680 Valid Acc  : 0.558\n",
            "Epoch: 3\n"
          ]
        },
        {
          "output_type": "stream",
          "name": "stderr",
          "text": [
            "100%|██████████| 682/682 [00:13<00:00, 49.99it/s]\n"
          ]
        },
        {
          "output_type": "stream",
          "name": "stdout",
          "text": [
            "Train Loss : 0.618\n",
            "Valid Loss : 0.688 Valid Acc  : 0.577\n",
            "Epoch: 4\n"
          ]
        },
        {
          "output_type": "stream",
          "name": "stderr",
          "text": [
            "100%|██████████| 682/682 [00:13<00:00, 50.22it/s]\n"
          ]
        },
        {
          "output_type": "stream",
          "name": "stdout",
          "text": [
            "Train Loss : 0.550\n",
            "Valid Loss : 0.738 Valid Acc  : 0.578\n",
            "Epoch: 5\n"
          ]
        },
        {
          "output_type": "stream",
          "name": "stderr",
          "text": [
            "100%|██████████| 682/682 [00:14<00:00, 48.40it/s]\n"
          ]
        },
        {
          "output_type": "stream",
          "name": "stdout",
          "text": [
            "Train Loss : 0.471\n",
            "Valid Loss : 0.823 Valid Acc  : 0.572\n",
            "Epoch: 6\n"
          ]
        },
        {
          "output_type": "stream",
          "name": "stderr",
          "text": [
            "100%|██████████| 682/682 [00:14<00:00, 48.29it/s]\n"
          ]
        },
        {
          "output_type": "stream",
          "name": "stdout",
          "text": [
            "Train Loss : 0.386\n",
            "Valid Loss : 0.962 Valid Acc  : 0.568\n",
            "Epoch: 7\n"
          ]
        },
        {
          "output_type": "stream",
          "name": "stderr",
          "text": [
            "100%|██████████| 682/682 [00:14<00:00, 48.58it/s]\n"
          ]
        },
        {
          "output_type": "stream",
          "name": "stdout",
          "text": [
            "Train Loss : 0.299\n",
            "Valid Loss : 1.097 Valid Acc  : 0.567\n",
            "Early stopping: No improvement for 3 consecutive epochs.\n",
            "\n",
            "Test Accuracy : 0.508\n",
            "Precision (Weighted): 0.508\n",
            "Recall (Weighted): 0.508\n",
            "F1-Score (Weighted): 0.506\n",
            "Balanced Accuracy: 0.508\n",
            "\n",
            "Classification Report : \n",
            "              precision    recall  f1-score   support\n",
            "\n",
            "           0       0.51      0.45      0.47       301\n",
            "           1       0.51      0.57      0.54       303\n",
            "\n",
            "    accuracy                           0.51       604\n",
            "   macro avg       0.51      0.51      0.51       604\n",
            "weighted avg       0.51      0.51      0.51       604\n",
            "\n",
            "\n",
            "Confusion Matrix : \n",
            "[[134 167]\n",
            " [130 173]]\n",
            "794526, 14.046451568603516, 0.5082781456953642\n",
            "\n",
            "Results DataFrame for LSTM Model:\n",
            "                       Dataset  Parameters  Training Time  Test Accuracy  \\\n",
            "0              OP_Spam_Dataset      745826      13.318456       0.538750   \n",
            "1  Restaurants_Reviews_Dataset      804526      14.016703       0.427273   \n",
            "2                DeRev_Dataset      789726      13.549537       0.576271   \n",
            "3       Amazon_Reviews_Dataset      265626       1.205369       0.508714   \n",
            "4       Cross_Cultural_Dataset      794526      14.046452       0.508278   \n",
            "\n",
            "   Precision    Recall  F1-Score  Balanced Accuracy  \n",
            "0   0.539736  0.538750  0.535872           0.538750  \n",
            "1   0.424242  0.427273  0.421488           0.427273  \n",
            "2   0.576359  0.576271  0.576149           0.576271  \n",
            "3   0.509071  0.508714  0.503842           0.508714  \n",
            "4   0.508202  0.508278  0.506325           0.508070  \n"
          ]
        },
        {
          "output_type": "display_data",
          "data": {
            "text/plain": [
              "<Figure size 1600x800 with 3 Axes>"
            ],
            "image/png": "[encoded data removed]"
          },
          "metadata": {}
        },
        {
          "output_type": "stream",
          "name": "stdout",
          "text": [
            "Vocab()\n",
            "\n",
            "Model:\n",
            "GRUModel(\n",
            "  (embedding_layer): Embedding(7032, 100)\n",
            "  (gru): GRU(100, 64, batch_first=True)\n",
            "  (linear): Linear(in_features=64, out_features=2, bias=True)\n",
            ")\n",
            "Total parameters:  735202\n",
            "\n",
            "\n",
            "\n",
            "Epoch: 1\n"
          ]
        },
        {
          "output_type": "stream",
          "name": "stderr",
          "text": [
            "100%|██████████| 652/652 [00:17<00:00, 37.96it/s]\n"
          ]
        },
        {
          "output_type": "stream",
          "name": "stdout",
          "text": [
            "Train Loss : 0.694\n",
            "Valid Loss : 0.689 Valid Acc  : 0.531\n",
            "Epoch: 2\n"
          ]
        },
        {
          "output_type": "stream",
          "name": "stderr",
          "text": [
            "100%|██████████| 652/652 [00:17<00:00, 37.03it/s]\n"
          ]
        },
        {
          "output_type": "stream",
          "name": "stdout",
          "text": [
            "Train Loss : 0.663\n",
            "Valid Loss : 0.674 Valid Acc  : 0.588\n",
            "Epoch: 3\n"
          ]
        },
        {
          "output_type": "stream",
          "name": "stderr",
          "text": [
            "100%|██████████| 652/652 [00:17<00:00, 37.46it/s]\n"
          ]
        },
        {
          "output_type": "stream",
          "name": "stdout",
          "text": [
            "Train Loss : 0.608\n",
            "Valid Loss : 0.698 Valid Acc  : 0.579\n",
            "Epoch: 4\n"
          ]
        },
        {
          "output_type": "stream",
          "name": "stderr",
          "text": [
            "100%|██████████| 652/652 [00:16<00:00, 38.73it/s]\n"
          ]
        },
        {
          "output_type": "stream",
          "name": "stdout",
          "text": [
            "Train Loss : 0.536\n",
            "Valid Loss : 0.759 Valid Acc  : 0.587\n",
            "Epoch: 5\n"
          ]
        },
        {
          "output_type": "stream",
          "name": "stderr",
          "text": [
            "100%|██████████| 652/652 [00:16<00:00, 38.57it/s]\n"
          ]
        },
        {
          "output_type": "stream",
          "name": "stdout",
          "text": [
            "Train Loss : 0.438\n",
            "Valid Loss : 0.871 Valid Acc  : 0.586\n",
            "Early stopping: No improvement for 3 consecutive epochs.\n",
            "\n",
            "Test Accuracy : 0.606\n",
            "Precision (Weighted): 0.613\n",
            "Recall (Weighted): 0.606\n",
            "F1-Score (Weighted): 0.599\n",
            "Balanced Accuracy: 0.606\n",
            "\n",
            "Classification Report : \n",
            "              precision    recall  f1-score   support\n",
            "\n",
            "           0       0.64      0.48      0.55       800\n",
            "           1       0.58      0.73      0.65       800\n",
            "\n",
            "    accuracy                           0.61      1600\n",
            "   macro avg       0.61      0.61      0.60      1600\n",
            "weighted avg       0.61      0.61      0.60      1600\n",
            "\n",
            "\n",
            "Confusion Matrix : \n",
            "[[383 417]\n",
            " [214 586]]\n",
            "735202, 16.910062074661255, 0.605625\n",
            "Vocab()\n",
            "\n",
            "Model:\n",
            "GRUModel(\n",
            "  (embedding_layer): Embedding(7619, 100)\n",
            "  (gru): GRU(100, 64, batch_first=True)\n",
            "  (linear): Linear(in_features=64, out_features=2, bias=True)\n",
            ")\n",
            "Total parameters:  793902\n",
            "\n",
            "\n",
            "\n",
            "Epoch: 1\n"
          ]
        },
        {
          "output_type": "stream",
          "name": "stderr",
          "text": [
            "100%|██████████| 696/696 [00:18<00:00, 37.37it/s]\n"
          ]
        },
        {
          "output_type": "stream",
          "name": "stdout",
          "text": [
            "Train Loss : 0.693\n",
            "Valid Loss : 0.689 Valid Acc  : 0.543\n",
            "Epoch: 2\n"
          ]
        },
        {
          "output_type": "stream",
          "name": "stderr",
          "text": [
            "100%|██████████| 696/696 [00:18<00:00, 37.54it/s]\n"
          ]
        },
        {
          "output_type": "stream",
          "name": "stdout",
          "text": [
            "Train Loss : 0.655\n",
            "Valid Loss : 0.670 Valid Acc  : 0.582\n",
            "Epoch: 3\n"
          ]
        },
        {
          "output_type": "stream",
          "name": "stderr",
          "text": [
            "100%|██████████| 696/696 [00:19<00:00, 35.80it/s]\n"
          ]
        },
        {
          "output_type": "stream",
          "name": "stdout",
          "text": [
            "Train Loss : 0.594\n",
            "Valid Loss : 0.688 Valid Acc  : 0.597\n",
            "Epoch: 4\n"
          ]
        },
        {
          "output_type": "stream",
          "name": "stderr",
          "text": [
            "100%|██████████| 696/696 [00:18<00:00, 38.12it/s]\n"
          ]
        },
        {
          "output_type": "stream",
          "name": "stdout",
          "text": [
            "Train Loss : 0.517\n",
            "Valid Loss : 0.738 Valid Acc  : 0.601\n",
            "Epoch: 5\n"
          ]
        },
        {
          "output_type": "stream",
          "name": "stderr",
          "text": [
            "100%|██████████| 696/696 [00:18<00:00, 38.03it/s]\n"
          ]
        },
        {
          "output_type": "stream",
          "name": "stdout",
          "text": [
            "Train Loss : 0.417\n",
            "Valid Loss : 0.835 Valid Acc  : 0.601\n",
            "Epoch: 6\n"
          ]
        },
        {
          "output_type": "stream",
          "name": "stderr",
          "text": [
            "100%|██████████| 696/696 [00:18<00:00, 38.20it/s]\n"
          ]
        },
        {
          "output_type": "stream",
          "name": "stdout",
          "text": [
            "Train Loss : 0.305\n",
            "Valid Loss : 0.982 Valid Acc  : 0.603\n",
            "Epoch: 7\n"
          ]
        },
        {
          "output_type": "stream",
          "name": "stderr",
          "text": [
            "100%|██████████| 696/696 [00:19<00:00, 36.55it/s]\n"
          ]
        },
        {
          "output_type": "stream",
          "name": "stdout",
          "text": [
            "Train Loss : 0.191\n",
            "Valid Loss : 1.268 Valid Acc  : 0.601\n",
            "Epoch: 8\n"
          ]
        },
        {
          "output_type": "stream",
          "name": "stderr",
          "text": [
            "100%|██████████| 696/696 [00:19<00:00, 36.61it/s]\n"
          ]
        },
        {
          "output_type": "stream",
          "name": "stdout",
          "text": [
            "Train Loss : 0.100\n",
            "Valid Loss : 1.708 Valid Acc  : 0.579\n",
            "Epoch: 9\n"
          ]
        },
        {
          "output_type": "stream",
          "name": "stderr",
          "text": [
            "100%|██████████| 696/696 [00:18<00:00, 37.63it/s]\n"
          ]
        },
        {
          "output_type": "stream",
          "name": "stdout",
          "text": [
            "Train Loss : 0.053\n",
            "Valid Loss : 1.927 Valid Acc  : 0.575\n",
            "Early stopping: No improvement for 3 consecutive epochs.\n",
            "\n",
            "Test Accuracy : 0.409\n",
            "Precision (Weighted): 0.409\n",
            "Recall (Weighted): 0.409\n",
            "F1-Score (Weighted): 0.409\n",
            "Balanced Accuracy: 0.409\n",
            "\n",
            "Classification Report : \n",
            "              precision    recall  f1-score   support\n",
            "\n",
            "           0       0.41      0.42      0.41        55\n",
            "           1       0.41      0.40      0.40        55\n",
            "\n",
            "    accuracy                           0.41       110\n",
            "   macro avg       0.41      0.41      0.41       110\n",
            "weighted avg       0.41      0.41      0.41       110\n",
            "\n",
            "\n",
            "Confusion Matrix : \n",
            "[[23 32]\n",
            " [33 22]]\n",
            "793902, 18.506319284439087, 0.4090909090909091\n",
            "Vocab()\n",
            "\n",
            "Model:\n",
            "GRUModel(\n",
            "  (embedding_layer): Embedding(7471, 100)\n",
            "  (gru): GRU(100, 64, batch_first=True)\n",
            "  (linear): Linear(in_features=64, out_features=2, bias=True)\n",
            ")\n",
            "Total parameters:  779102\n",
            "\n",
            "\n",
            "\n",
            "Epoch: 1\n"
          ]
        },
        {
          "output_type": "stream",
          "name": "stderr",
          "text": [
            "100%|██████████| 693/693 [00:18<00:00, 37.41it/s]\n"
          ]
        },
        {
          "output_type": "stream",
          "name": "stdout",
          "text": [
            "Train Loss : 0.693\n",
            "Valid Loss : 0.682 Valid Acc  : 0.559\n",
            "Epoch: 2\n"
          ]
        },
        {
          "output_type": "stream",
          "name": "stderr",
          "text": [
            "100%|██████████| 693/693 [00:18<00:00, 37.06it/s]\n"
          ]
        },
        {
          "output_type": "stream",
          "name": "stdout",
          "text": [
            "Train Loss : 0.657\n",
            "Valid Loss : 0.658 Valid Acc  : 0.604\n",
            "Epoch: 3\n"
          ]
        },
        {
          "output_type": "stream",
          "name": "stderr",
          "text": [
            "100%|██████████| 693/693 [00:19<00:00, 35.95it/s]\n"
          ]
        },
        {
          "output_type": "stream",
          "name": "stdout",
          "text": [
            "Train Loss : 0.597\n",
            "Valid Loss : 0.677 Valid Acc  : 0.611\n",
            "Epoch: 4\n"
          ]
        },
        {
          "output_type": "stream",
          "name": "stderr",
          "text": [
            "100%|██████████| 693/693 [00:18<00:00, 37.91it/s]\n"
          ]
        },
        {
          "output_type": "stream",
          "name": "stdout",
          "text": [
            "Train Loss : 0.521\n",
            "Valid Loss : 0.730 Valid Acc  : 0.602\n",
            "Epoch: 5\n"
          ]
        },
        {
          "output_type": "stream",
          "name": "stderr",
          "text": [
            "100%|██████████| 693/693 [00:18<00:00, 36.88it/s]\n"
          ]
        },
        {
          "output_type": "stream",
          "name": "stdout",
          "text": [
            "Train Loss : 0.420\n",
            "Valid Loss : 0.843 Valid Acc  : 0.587\n",
            "Epoch: 6\n"
          ]
        },
        {
          "output_type": "stream",
          "name": "stderr",
          "text": [
            "100%|██████████| 693/693 [00:18<00:00, 36.85it/s]\n"
          ]
        },
        {
          "output_type": "stream",
          "name": "stdout",
          "text": [
            "Train Loss : 0.300\n",
            "Valid Loss : 1.047 Valid Acc  : 0.583\n",
            "Early stopping: No improvement for 3 consecutive epochs.\n",
            "\n",
            "Test Accuracy : 0.564\n",
            "Precision (Weighted): 0.565\n",
            "Recall (Weighted): 0.564\n",
            "F1-Score (Weighted): 0.561\n",
            "Balanced Accuracy: 0.564\n",
            "\n",
            "Classification Report : \n",
            "              precision    recall  f1-score   support\n",
            "\n",
            "           0       0.56      0.64      0.59       118\n",
            "           1       0.57      0.49      0.53       118\n",
            "\n",
            "    accuracy                           0.56       236\n",
            "   macro avg       0.56      0.56      0.56       236\n",
            "weighted avg       0.56      0.56      0.56       236\n",
            "\n",
            "\n",
            "Confusion Matrix : \n",
            "[[75 43]\n",
            " [60 58]]\n",
            "779102, 18.814589977264404, 0.5635593220338984\n",
            "Vocab()\n",
            "\n",
            "Model:\n",
            "GRUModel(\n",
            "  (embedding_layer): Embedding(2230, 100)\n",
            "  (gru): GRU(100, 64, batch_first=True)\n",
            "  (linear): Linear(in_features=64, out_features=2, bias=True)\n",
            ")\n",
            "Total parameters:  255002\n",
            "\n",
            "\n",
            "\n",
            "Epoch: 1\n"
          ]
        },
        {
          "output_type": "stream",
          "name": "stderr",
          "text": [
            "100%|██████████| 76/76 [00:02<00:00, 30.31it/s]\n"
          ]
        },
        {
          "output_type": "stream",
          "name": "stdout",
          "text": [
            "Train Loss : 0.699\n",
            "Valid Loss : 0.703 Valid Acc  : 0.492\n",
            "Epoch: 2\n"
          ]
        },
        {
          "output_type": "stream",
          "name": "stderr",
          "text": [
            "100%|██████████| 76/76 [00:02<00:00, 35.65it/s]\n"
          ]
        },
        {
          "output_type": "stream",
          "name": "stdout",
          "text": [
            "Train Loss : 0.666\n",
            "Valid Loss : 0.703 Valid Acc  : 0.516\n",
            "Epoch: 3\n"
          ]
        },
        {
          "output_type": "stream",
          "name": "stderr",
          "text": [
            "100%|██████████| 76/76 [00:01<00:00, 45.60it/s]\n"
          ]
        },
        {
          "output_type": "stream",
          "name": "stdout",
          "text": [
            "Train Loss : 0.581\n",
            "Valid Loss : 0.666 Valid Acc  : 0.602\n",
            "Epoch: 4\n"
          ]
        },
        {
          "output_type": "stream",
          "name": "stderr",
          "text": [
            "100%|██████████| 76/76 [00:01<00:00, 45.16it/s]\n"
          ]
        },
        {
          "output_type": "stream",
          "name": "stdout",
          "text": [
            "Train Loss : 0.472\n",
            "Valid Loss : 0.711 Valid Acc  : 0.641\n",
            "Epoch: 5\n"
          ]
        },
        {
          "output_type": "stream",
          "name": "stderr",
          "text": [
            "100%|██████████| 76/76 [00:01<00:00, 45.61it/s]\n"
          ]
        },
        {
          "output_type": "stream",
          "name": "stdout",
          "text": [
            "Train Loss : 0.373\n",
            "Valid Loss : 0.756 Valid Acc  : 0.695\n",
            "Epoch: 6\n"
          ]
        },
        {
          "output_type": "stream",
          "name": "stderr",
          "text": [
            "100%|██████████| 76/76 [00:01<00:00, 45.44it/s]\n"
          ]
        },
        {
          "output_type": "stream",
          "name": "stdout",
          "text": [
            "Train Loss : 0.275\n",
            "Valid Loss : 0.859 Valid Acc  : 0.664\n",
            "Epoch: 7\n"
          ]
        },
        {
          "output_type": "stream",
          "name": "stderr",
          "text": [
            "100%|██████████| 76/76 [00:01<00:00, 44.25it/s]\n"
          ]
        },
        {
          "output_type": "stream",
          "name": "stdout",
          "text": [
            "Train Loss : 0.189\n",
            "Valid Loss : 0.957 Valid Acc  : 0.664\n",
            "Epoch: 8\n"
          ]
        },
        {
          "output_type": "stream",
          "name": "stderr",
          "text": [
            "100%|██████████| 76/76 [00:02<00:00, 34.15it/s]\n"
          ]
        },
        {
          "output_type": "stream",
          "name": "stdout",
          "text": [
            "Train Loss : 0.110\n",
            "Valid Loss : 1.148 Valid Acc  : 0.641\n",
            "Early stopping: No improvement for 3 consecutive epochs.\n",
            "\n",
            "Test Accuracy : 0.513\n",
            "Precision (Weighted): 0.513\n",
            "Recall (Weighted): 0.513\n",
            "F1-Score (Weighted): 0.511\n",
            "Balanced Accuracy: 0.513\n",
            "\n",
            "Classification Report : \n",
            "              precision    recall  f1-score   support\n",
            "\n",
            "           0       0.51      0.56      0.53     10500\n",
            "           1       0.51      0.47      0.49     10500\n",
            "\n",
            "    accuracy                           0.51     21000\n",
            "   macro avg       0.51      0.51      0.51     21000\n",
            "weighted avg       0.51      0.51      0.51     21000\n",
            "\n",
            "\n",
            "Confusion Matrix : \n",
            "[[5878 4622]\n",
            " [5615 4885]]\n",
            "255002, 2.2453601360321045, 0.5125238095238095\n",
            "Vocab()\n",
            "\n",
            "Model:\n",
            "GRUModel(\n",
            "  (embedding_layer): Embedding(7519, 100)\n",
            "  (gru): GRU(100, 64, batch_first=True)\n",
            "  (linear): Linear(in_features=64, out_features=2, bias=True)\n",
            ")\n",
            "Total parameters:  783902\n",
            "\n",
            "\n",
            "\n",
            "Epoch: 1\n"
          ]
        },
        {
          "output_type": "stream",
          "name": "stderr",
          "text": [
            "100%|██████████| 682/682 [00:18<00:00, 37.62it/s]\n"
          ]
        },
        {
          "output_type": "stream",
          "name": "stdout",
          "text": [
            "Train Loss : 0.693\n",
            "Valid Loss : 0.680 Valid Acc  : 0.565\n",
            "Epoch: 2\n"
          ]
        },
        {
          "output_type": "stream",
          "name": "stderr",
          "text": [
            "100%|██████████| 682/682 [00:18<00:00, 37.76it/s]\n"
          ]
        },
        {
          "output_type": "stream",
          "name": "stdout",
          "text": [
            "Train Loss : 0.654\n",
            "Valid Loss : 0.675 Valid Acc  : 0.578\n",
            "Epoch: 3\n"
          ]
        },
        {
          "output_type": "stream",
          "name": "stderr",
          "text": [
            "100%|██████████| 682/682 [00:18<00:00, 37.45it/s]\n"
          ]
        },
        {
          "output_type": "stream",
          "name": "stdout",
          "text": [
            "Train Loss : 0.593\n",
            "Valid Loss : 0.694 Valid Acc  : 0.579\n",
            "Epoch: 4\n"
          ]
        },
        {
          "output_type": "stream",
          "name": "stderr",
          "text": [
            "100%|██████████| 682/682 [00:19<00:00, 35.48it/s]\n"
          ]
        },
        {
          "output_type": "stream",
          "name": "stdout",
          "text": [
            "Train Loss : 0.515\n",
            "Valid Loss : 0.747 Valid Acc  : 0.586\n",
            "Epoch: 5\n"
          ]
        },
        {
          "output_type": "stream",
          "name": "stderr",
          "text": [
            "100%|██████████| 682/682 [00:18<00:00, 37.70it/s]\n"
          ]
        },
        {
          "output_type": "stream",
          "name": "stdout",
          "text": [
            "Train Loss : 0.414\n",
            "Valid Loss : 0.844 Valid Acc  : 0.587\n",
            "Epoch: 6\n"
          ]
        },
        {
          "output_type": "stream",
          "name": "stderr",
          "text": [
            "100%|██████████| 682/682 [00:18<00:00, 37.55it/s]\n"
          ]
        },
        {
          "output_type": "stream",
          "name": "stdout",
          "text": [
            "Train Loss : 0.301\n",
            "Valid Loss : 1.025 Valid Acc  : 0.580\n",
            "Epoch: 7\n"
          ]
        },
        {
          "output_type": "stream",
          "name": "stderr",
          "text": [
            "100%|██████████| 682/682 [00:17<00:00, 37.91it/s]\n"
          ]
        },
        {
          "output_type": "stream",
          "name": "stdout",
          "text": [
            "Train Loss : 0.188\n",
            "Valid Loss : 1.345 Valid Acc  : 0.570\n",
            "Epoch: 8\n"
          ]
        },
        {
          "output_type": "stream",
          "name": "stderr",
          "text": [
            "100%|██████████| 682/682 [00:18<00:00, 36.26it/s]\n"
          ]
        },
        {
          "output_type": "stream",
          "name": "stdout",
          "text": [
            "Train Loss : 0.100\n",
            "Valid Loss : 1.758 Valid Acc  : 0.570\n",
            "Early stopping: No improvement for 3 consecutive epochs.\n",
            "\n",
            "Test Accuracy : 0.490\n",
            "Precision (Weighted): 0.489\n",
            "Recall (Weighted): 0.490\n",
            "F1-Score (Weighted): 0.480\n",
            "Balanced Accuracy: 0.490\n",
            "\n",
            "Classification Report : \n",
            "              precision    recall  f1-score   support\n",
            "\n",
            "           0       0.48      0.35      0.41       301\n",
            "           1       0.49      0.63      0.55       303\n",
            "\n",
            "    accuracy                           0.49       604\n",
            "   macro avg       0.49      0.49      0.48       604\n",
            "weighted avg       0.49      0.49      0.48       604\n",
            "\n",
            "\n",
            "Confusion Matrix : \n",
            "[[105 196]\n",
            " [112 191]]\n",
            "783902, 18.81952929496765, 0.4900662251655629\n",
            "\n",
            "Results DataFrame for GRU Model:\n",
            "                       Dataset  Parameters  Training Time  Test Accuracy  \\\n",
            "0              OP_Spam_Dataset      735202      16.910062       0.605625   \n",
            "1  Restaurants_Reviews_Dataset      793902      18.506319       0.409091   \n",
            "2                DeRev_Dataset      779102      18.814590       0.563559   \n",
            "3       Amazon_Reviews_Dataset      255002       2.245360       0.512524   \n",
            "4       Cross_Cultural_Dataset      783902      18.819529       0.490066   \n",
            "\n",
            "   Precision    Recall  F1-Score  Balanced Accuracy  \n",
            "0   0.612894  0.605625  0.599173           0.605625  \n",
            "1   0.409061  0.409091  0.409042           0.409091  \n",
            "2   0.564906  0.563559  0.561283           0.563559  \n",
            "3   0.512637  0.512524  0.511431           0.512524  \n",
            "4   0.488722  0.490066  0.479760           0.489600  \n"
          ]
        },
        {
          "output_type": "display_data",
          "data": {
            "text/plain": [
              "<Figure size 1600x800 with 3 Axes>"
            ],
            "image/png": "[encoded data removed]"
          },
          "metadata": {}
        },
        {
          "output_type": "stream",
          "name": "stdout",
          "text": [
            "Vocab()\n",
            "\n",
            "Model:\n",
            "TransformerModel(\n",
            "  (embedding): Embedding(7032, 100)\n",
            "  (attention): SelfAttention(\n",
            "    (query): Linear(in_features=100, out_features=100, bias=True)\n",
            "    (key): Linear(in_features=100, out_features=100, bias=True)\n",
            "    (value): Linear(in_features=100, out_features=100, bias=True)\n",
            "    (fc_out): Linear(in_features=100, out_features=100, bias=True)\n",
            "  )\n",
            "  (fc): Linear(in_features=100, out_features=64, bias=True)\n",
            "  (output_layer): Linear(in_features=64, out_features=2, bias=True)\n",
            ")\n",
            "Total parameters:  750194\n",
            "\n",
            "\n",
            "\n",
            "Epoch: 1\n"
          ]
        },
        {
          "output_type": "stream",
          "name": "stderr",
          "text": [
            "100%|██████████| 652/652 [00:16<00:00, 40.64it/s]\n"
          ]
        },
        {
          "output_type": "stream",
          "name": "stdout",
          "text": [
            "Train Loss : 0.689\n",
            "Valid Loss : 0.691 Valid Acc  : 0.529\n",
            "Epoch: 2\n"
          ]
        },
        {
          "output_type": "stream",
          "name": "stderr",
          "text": [
            "100%|██████████| 652/652 [00:16<00:00, 39.29it/s]\n"
          ]
        },
        {
          "output_type": "stream",
          "name": "stdout",
          "text": [
            "Train Loss : 0.669\n",
            "Valid Loss : 0.693 Valid Acc  : 0.535\n",
            "Epoch: 3\n"
          ]
        },
        {
          "output_type": "stream",
          "name": "stderr",
          "text": [
            "100%|██████████| 652/652 [00:15<00:00, 41.90it/s]\n"
          ]
        },
        {
          "output_type": "stream",
          "name": "stdout",
          "text": [
            "Train Loss : 0.635\n",
            "Valid Loss : 0.712 Valid Acc  : 0.547\n",
            "Epoch: 4\n"
          ]
        },
        {
          "output_type": "stream",
          "name": "stderr",
          "text": [
            "100%|██████████| 652/652 [00:15<00:00, 41.24it/s]\n"
          ]
        },
        {
          "output_type": "stream",
          "name": "stdout",
          "text": [
            "Train Loss : 0.585\n",
            "Valid Loss : 0.726 Valid Acc  : 0.543\n",
            "Epoch: 5\n"
          ]
        },
        {
          "output_type": "stream",
          "name": "stderr",
          "text": [
            "100%|██████████| 652/652 [00:15<00:00, 41.79it/s]\n"
          ]
        },
        {
          "output_type": "stream",
          "name": "stdout",
          "text": [
            "Train Loss : 0.518\n",
            "Valid Loss : 0.816 Valid Acc  : 0.554\n",
            "Epoch: 6\n"
          ]
        },
        {
          "output_type": "stream",
          "name": "stderr",
          "text": [
            "100%|██████████| 652/652 [00:15<00:00, 41.87it/s]\n"
          ]
        },
        {
          "output_type": "stream",
          "name": "stdout",
          "text": [
            "Train Loss : 0.444\n",
            "Valid Loss : 0.868 Valid Acc  : 0.573\n",
            "Epoch: 7\n"
          ]
        },
        {
          "output_type": "stream",
          "name": "stderr",
          "text": [
            "100%|██████████| 652/652 [00:15<00:00, 42.43it/s]\n"
          ]
        },
        {
          "output_type": "stream",
          "name": "stdout",
          "text": [
            "Train Loss : 0.381\n",
            "Valid Loss : 1.088 Valid Acc  : 0.547\n",
            "Epoch: 8\n"
          ]
        },
        {
          "output_type": "stream",
          "name": "stderr",
          "text": [
            "100%|██████████| 652/652 [00:15<00:00, 43.01it/s]\n"
          ]
        },
        {
          "output_type": "stream",
          "name": "stdout",
          "text": [
            "Train Loss : 0.330\n",
            "Valid Loss : 1.163 Valid Acc  : 0.540\n",
            "Epoch: 9\n"
          ]
        },
        {
          "output_type": "stream",
          "name": "stderr",
          "text": [
            "100%|██████████| 652/652 [00:15<00:00, 42.48it/s]\n"
          ]
        },
        {
          "output_type": "stream",
          "name": "stdout",
          "text": [
            "Train Loss : 0.297\n",
            "Valid Loss : 1.205 Valid Acc  : 0.550\n",
            "Early stopping: No improvement for 3 consecutive epochs.\n",
            "\n",
            "Test Accuracy : 0.534\n",
            "Precision (Weighted): 0.534\n",
            "Recall (Weighted): 0.534\n",
            "F1-Score (Weighted): 0.534\n",
            "Balanced Accuracy: 0.534\n",
            "\n",
            "Classification Report : \n",
            "              precision    recall  f1-score   support\n",
            "\n",
            "           0       0.53      0.56      0.55       800\n",
            "           1       0.54      0.51      0.52       800\n",
            "\n",
            "    accuracy                           0.53      1600\n",
            "   macro avg       0.53      0.53      0.53      1600\n",
            "weighted avg       0.53      0.53      0.53      1600\n",
            "\n",
            "\n",
            "Confusion Matrix : \n",
            "[[450 350]\n",
            " [395 405]]\n",
            "750194, 15.358527421951294, 0.534375\n",
            "Vocab()\n",
            "\n",
            "Model:\n",
            "TransformerModel(\n",
            "  (embedding): Embedding(7619, 100)\n",
            "  (attention): SelfAttention(\n",
            "    (query): Linear(in_features=100, out_features=100, bias=True)\n",
            "    (key): Linear(in_features=100, out_features=100, bias=True)\n",
            "    (value): Linear(in_features=100, out_features=100, bias=True)\n",
            "    (fc_out): Linear(in_features=100, out_features=100, bias=True)\n",
            "  )\n",
            "  (fc): Linear(in_features=100, out_features=64, bias=True)\n",
            "  (output_layer): Linear(in_features=64, out_features=2, bias=True)\n",
            ")\n",
            "Total parameters:  808894\n",
            "\n",
            "\n",
            "\n",
            "Epoch: 1\n"
          ]
        },
        {
          "output_type": "stream",
          "name": "stderr",
          "text": [
            "100%|██████████| 696/696 [00:16<00:00, 41.49it/s]\n"
          ]
        },
        {
          "output_type": "stream",
          "name": "stdout",
          "text": [
            "Train Loss : 0.686\n",
            "Valid Loss : 0.676 Valid Acc  : 0.552\n",
            "Epoch: 2\n"
          ]
        },
        {
          "output_type": "stream",
          "name": "stderr",
          "text": [
            "100%|██████████| 696/696 [00:17<00:00, 40.92it/s]\n"
          ]
        },
        {
          "output_type": "stream",
          "name": "stdout",
          "text": [
            "Train Loss : 0.660\n",
            "Valid Loss : 0.666 Valid Acc  : 0.588\n",
            "Epoch: 3\n"
          ]
        },
        {
          "output_type": "stream",
          "name": "stderr",
          "text": [
            "100%|██████████| 696/696 [00:17<00:00, 40.31it/s]\n"
          ]
        },
        {
          "output_type": "stream",
          "name": "stdout",
          "text": [
            "Train Loss : 0.621\n",
            "Valid Loss : 0.693 Valid Acc  : 0.597\n",
            "Epoch: 4\n"
          ]
        },
        {
          "output_type": "stream",
          "name": "stderr",
          "text": [
            "100%|██████████| 696/696 [00:16<00:00, 41.61it/s]\n"
          ]
        },
        {
          "output_type": "stream",
          "name": "stdout",
          "text": [
            "Train Loss : 0.563\n",
            "Valid Loss : 0.707 Valid Acc  : 0.594\n",
            "Epoch: 5\n"
          ]
        },
        {
          "output_type": "stream",
          "name": "stderr",
          "text": [
            "100%|██████████| 696/696 [00:16<00:00, 42.34it/s]\n"
          ]
        },
        {
          "output_type": "stream",
          "name": "stdout",
          "text": [
            "Train Loss : 0.497\n",
            "Valid Loss : 0.804 Valid Acc  : 0.596\n",
            "Epoch: 6\n"
          ]
        },
        {
          "output_type": "stream",
          "name": "stderr",
          "text": [
            "100%|██████████| 696/696 [00:16<00:00, 42.03it/s]\n"
          ]
        },
        {
          "output_type": "stream",
          "name": "stdout",
          "text": [
            "Train Loss : 0.428\n",
            "Valid Loss : 0.820 Valid Acc  : 0.603\n",
            "Epoch: 7\n"
          ]
        },
        {
          "output_type": "stream",
          "name": "stderr",
          "text": [
            "100%|██████████| 696/696 [00:16<00:00, 41.77it/s]\n"
          ]
        },
        {
          "output_type": "stream",
          "name": "stdout",
          "text": [
            "Train Loss : 0.368\n",
            "Valid Loss : 0.945 Valid Acc  : 0.596\n",
            "Epoch: 8\n"
          ]
        },
        {
          "output_type": "stream",
          "name": "stderr",
          "text": [
            "100%|██████████| 696/696 [00:16<00:00, 41.49it/s]\n"
          ]
        },
        {
          "output_type": "stream",
          "name": "stdout",
          "text": [
            "Train Loss : 0.323\n",
            "Valid Loss : 1.083 Valid Acc  : 0.586\n",
            "Epoch: 9\n"
          ]
        },
        {
          "output_type": "stream",
          "name": "stderr",
          "text": [
            "100%|██████████| 696/696 [00:16<00:00, 41.69it/s]\n"
          ]
        },
        {
          "output_type": "stream",
          "name": "stdout",
          "text": [
            "Train Loss : 0.293\n",
            "Valid Loss : 1.207 Valid Acc  : 0.595\n",
            "Early stopping: No improvement for 3 consecutive epochs.\n",
            "\n",
            "Test Accuracy : 0.391\n",
            "Precision (Weighted): 0.391\n",
            "Recall (Weighted): 0.391\n",
            "F1-Score (Weighted): 0.391\n",
            "Balanced Accuracy: 0.391\n",
            "\n",
            "Classification Report : \n",
            "              precision    recall  f1-score   support\n",
            "\n",
            "           0       0.39      0.40      0.40        55\n",
            "           1       0.39      0.38      0.39        55\n",
            "\n",
            "    accuracy                           0.39       110\n",
            "   macro avg       0.39      0.39      0.39       110\n",
            "weighted avg       0.39      0.39      0.39       110\n",
            "\n",
            "\n",
            "Confusion Matrix : \n",
            "[[22 33]\n",
            " [34 21]]\n",
            "808894, 16.701584100723267, 0.39090909090909093\n",
            "Vocab()\n",
            "\n",
            "Model:\n",
            "TransformerModel(\n",
            "  (embedding): Embedding(7471, 100)\n",
            "  (attention): SelfAttention(\n",
            "    (query): Linear(in_features=100, out_features=100, bias=True)\n",
            "    (key): Linear(in_features=100, out_features=100, bias=True)\n",
            "    (value): Linear(in_features=100, out_features=100, bias=True)\n",
            "    (fc_out): Linear(in_features=100, out_features=100, bias=True)\n",
            "  )\n",
            "  (fc): Linear(in_features=100, out_features=64, bias=True)\n",
            "  (output_layer): Linear(in_features=64, out_features=2, bias=True)\n",
            ")\n",
            "Total parameters:  794094\n",
            "\n",
            "\n",
            "\n",
            "Epoch: 1\n"
          ]
        },
        {
          "output_type": "stream",
          "name": "stderr",
          "text": [
            "100%|██████████| 693/693 [00:17<00:00, 39.16it/s]\n"
          ]
        },
        {
          "output_type": "stream",
          "name": "stdout",
          "text": [
            "Train Loss : 0.687\n",
            "Valid Loss : 0.680 Valid Acc  : 0.557\n",
            "Epoch: 2\n"
          ]
        },
        {
          "output_type": "stream",
          "name": "stderr",
          "text": [
            "100%|██████████| 693/693 [00:17<00:00, 40.72it/s]\n"
          ]
        },
        {
          "output_type": "stream",
          "name": "stdout",
          "text": [
            "Train Loss : 0.667\n",
            "Valid Loss : 0.669 Valid Acc  : 0.587\n",
            "Epoch: 3\n"
          ]
        },
        {
          "output_type": "stream",
          "name": "stderr",
          "text": [
            "100%|██████████| 693/693 [00:16<00:00, 42.34it/s]\n"
          ]
        },
        {
          "output_type": "stream",
          "name": "stdout",
          "text": [
            "Train Loss : 0.635\n",
            "Valid Loss : 0.670 Valid Acc  : 0.592\n",
            "Epoch: 4\n"
          ]
        },
        {
          "output_type": "stream",
          "name": "stderr",
          "text": [
            "100%|██████████| 693/693 [00:16<00:00, 42.18it/s]\n"
          ]
        },
        {
          "output_type": "stream",
          "name": "stdout",
          "text": [
            "Train Loss : 0.585\n",
            "Valid Loss : 0.707 Valid Acc  : 0.592\n",
            "Epoch: 5\n"
          ]
        },
        {
          "output_type": "stream",
          "name": "stderr",
          "text": [
            "100%|██████████| 693/693 [00:16<00:00, 42.36it/s]\n"
          ]
        },
        {
          "output_type": "stream",
          "name": "stdout",
          "text": [
            "Train Loss : 0.520\n",
            "Valid Loss : 0.754 Valid Acc  : 0.575\n",
            "Epoch: 6\n"
          ]
        },
        {
          "output_type": "stream",
          "name": "stderr",
          "text": [
            "100%|██████████| 693/693 [00:16<00:00, 42.02it/s]\n"
          ]
        },
        {
          "output_type": "stream",
          "name": "stdout",
          "text": [
            "Train Loss : 0.449\n",
            "Valid Loss : 0.784 Valid Acc  : 0.586\n",
            "Early stopping: No improvement for 3 consecutive epochs.\n",
            "\n",
            "Test Accuracy : 0.525\n",
            "Precision (Weighted): 0.525\n",
            "Recall (Weighted): 0.525\n",
            "F1-Score (Weighted): 0.525\n",
            "Balanced Accuracy: 0.525\n",
            "\n",
            "Classification Report : \n",
            "              precision    recall  f1-score   support\n",
            "\n",
            "           0       0.52      0.55      0.54       118\n",
            "           1       0.53      0.50      0.51       118\n",
            "\n",
            "    accuracy                           0.53       236\n",
            "   macro avg       0.53      0.53      0.53       236\n",
            "weighted avg       0.53      0.53      0.53       236\n",
            "\n",
            "\n",
            "Confusion Matrix : \n",
            "[[65 53]\n",
            " [59 59]]\n",
            "794094, 16.5010404586792, 0.5254237288135594\n",
            "Vocab()\n",
            "\n",
            "Model:\n",
            "TransformerModel(\n",
            "  (embedding): Embedding(2230, 100)\n",
            "  (attention): SelfAttention(\n",
            "    (query): Linear(in_features=100, out_features=100, bias=True)\n",
            "    (key): Linear(in_features=100, out_features=100, bias=True)\n",
            "    (value): Linear(in_features=100, out_features=100, bias=True)\n",
            "    (fc_out): Linear(in_features=100, out_features=100, bias=True)\n",
            "  )\n",
            "  (fc): Linear(in_features=100, out_features=64, bias=True)\n",
            "  (output_layer): Linear(in_features=64, out_features=2, bias=True)\n",
            ")\n",
            "Total parameters:  269994\n",
            "\n",
            "\n",
            "\n",
            "Epoch: 1\n"
          ]
        },
        {
          "output_type": "stream",
          "name": "stderr",
          "text": [
            "100%|██████████| 76/76 [00:01<00:00, 50.76it/s]\n"
          ]
        },
        {
          "output_type": "stream",
          "name": "stdout",
          "text": [
            "Train Loss : 0.668\n",
            "Valid Loss : 0.612 Valid Acc  : 0.664\n",
            "Epoch: 2\n"
          ]
        },
        {
          "output_type": "stream",
          "name": "stderr",
          "text": [
            "100%|██████████| 76/76 [00:01<00:00, 52.48it/s]\n"
          ]
        },
        {
          "output_type": "stream",
          "name": "stdout",
          "text": [
            "Train Loss : 0.599\n",
            "Valid Loss : 0.623 Valid Acc  : 0.648\n",
            "Epoch: 3\n"
          ]
        },
        {
          "output_type": "stream",
          "name": "stderr",
          "text": [
            "100%|██████████| 76/76 [00:01<00:00, 41.34it/s]\n"
          ]
        },
        {
          "output_type": "stream",
          "name": "stdout",
          "text": [
            "Train Loss : 0.510\n",
            "Valid Loss : 0.620 Valid Acc  : 0.680\n",
            "Epoch: 4\n"
          ]
        },
        {
          "output_type": "stream",
          "name": "stderr",
          "text": [
            "100%|██████████| 76/76 [00:02<00:00, 34.75it/s]\n"
          ]
        },
        {
          "output_type": "stream",
          "name": "stdout",
          "text": [
            "Train Loss : 0.418\n",
            "Valid Loss : 0.658 Valid Acc  : 0.680\n",
            "Epoch: 5\n"
          ]
        },
        {
          "output_type": "stream",
          "name": "stderr",
          "text": [
            "100%|██████████| 76/76 [00:02<00:00, 37.44it/s]\n"
          ]
        },
        {
          "output_type": "stream",
          "name": "stdout",
          "text": [
            "Train Loss : 0.334\n",
            "Valid Loss : 0.754 Valid Acc  : 0.664\n",
            "Epoch: 6\n"
          ]
        },
        {
          "output_type": "stream",
          "name": "stderr",
          "text": [
            "100%|██████████| 76/76 [00:01<00:00, 52.41it/s]\n"
          ]
        },
        {
          "output_type": "stream",
          "name": "stdout",
          "text": [
            "Train Loss : 0.263\n",
            "Valid Loss : 0.871 Valid Acc  : 0.656\n",
            "Early stopping: No improvement for 3 consecutive epochs.\n",
            "\n",
            "Test Accuracy : 0.519\n",
            "Precision (Weighted): 0.524\n",
            "Recall (Weighted): 0.519\n",
            "F1-Score (Weighted): 0.496\n",
            "Balanced Accuracy: 0.519\n",
            "\n",
            "Classification Report : \n",
            "              precision    recall  f1-score   support\n",
            "\n",
            "           0       0.51      0.73      0.60     10500\n",
            "           1       0.53      0.30      0.39     10500\n",
            "\n",
            "    accuracy                           0.52     21000\n",
            "   macro avg       0.52      0.52      0.50     21000\n",
            "weighted avg       0.52      0.52      0.50     21000\n",
            "\n",
            "\n",
            "Confusion Matrix : \n",
            "[[7711 2789]\n",
            " [7306 3194]]\n",
            "269994, 1.455371379852295, 0.5192857142857142\n",
            "Vocab()\n",
            "\n",
            "Model:\n",
            "TransformerModel(\n",
            "  (embedding): Embedding(7519, 100)\n",
            "  (attention): SelfAttention(\n",
            "    (query): Linear(in_features=100, out_features=100, bias=True)\n",
            "    (key): Linear(in_features=100, out_features=100, bias=True)\n",
            "    (value): Linear(in_features=100, out_features=100, bias=True)\n",
            "    (fc_out): Linear(in_features=100, out_features=100, bias=True)\n",
            "  )\n",
            "  (fc): Linear(in_features=100, out_features=64, bias=True)\n",
            "  (output_layer): Linear(in_features=64, out_features=2, bias=True)\n",
            ")\n",
            "Total parameters:  798894\n",
            "\n",
            "\n",
            "\n",
            "Epoch: 1\n"
          ]
        },
        {
          "output_type": "stream",
          "name": "stderr",
          "text": [
            "100%|██████████| 682/682 [00:16<00:00, 41.46it/s]\n"
          ]
        },
        {
          "output_type": "stream",
          "name": "stdout",
          "text": [
            "Train Loss : 0.687\n",
            "Valid Loss : 0.686 Valid Acc  : 0.537\n",
            "Epoch: 2\n"
          ]
        },
        {
          "output_type": "stream",
          "name": "stderr",
          "text": [
            "100%|██████████| 682/682 [00:16<00:00, 41.74it/s]\n"
          ]
        },
        {
          "output_type": "stream",
          "name": "stdout",
          "text": [
            "Train Loss : 0.667\n",
            "Valid Loss : 0.686 Valid Acc  : 0.576\n",
            "Epoch: 3\n"
          ]
        },
        {
          "output_type": "stream",
          "name": "stderr",
          "text": [
            "100%|██████████| 682/682 [00:16<00:00, 41.97it/s]\n"
          ]
        },
        {
          "output_type": "stream",
          "name": "stdout",
          "text": [
            "Train Loss : 0.627\n",
            "Valid Loss : 0.683 Valid Acc  : 0.581\n",
            "Epoch: 4\n"
          ]
        },
        {
          "output_type": "stream",
          "name": "stderr",
          "text": [
            "100%|██████████| 682/682 [00:16<00:00, 41.18it/s]\n"
          ]
        },
        {
          "output_type": "stream",
          "name": "stdout",
          "text": [
            "Train Loss : 0.577\n",
            "Valid Loss : 0.714 Valid Acc  : 0.583\n",
            "Epoch: 5\n"
          ]
        },
        {
          "output_type": "stream",
          "name": "stderr",
          "text": [
            "100%|██████████| 682/682 [00:16<00:00, 41.23it/s]\n"
          ]
        },
        {
          "output_type": "stream",
          "name": "stdout",
          "text": [
            "Train Loss : 0.508\n",
            "Valid Loss : 0.764 Valid Acc  : 0.582\n",
            "Epoch: 6\n"
          ]
        },
        {
          "output_type": "stream",
          "name": "stderr",
          "text": [
            "100%|██████████| 682/682 [00:16<00:00, 41.89it/s]\n"
          ]
        },
        {
          "output_type": "stream",
          "name": "stdout",
          "text": [
            "Train Loss : 0.436\n",
            "Valid Loss : 0.811 Valid Acc  : 0.578\n",
            "Epoch: 7\n"
          ]
        },
        {
          "output_type": "stream",
          "name": "stderr",
          "text": [
            "100%|██████████| 682/682 [00:16<00:00, 41.58it/s]\n"
          ]
        },
        {
          "output_type": "stream",
          "name": "stdout",
          "text": [
            "Train Loss : 0.374\n",
            "Valid Loss : 0.931 Valid Acc  : 0.569\n",
            "Early stopping: No improvement for 3 consecutive epochs.\n",
            "\n",
            "Test Accuracy : 0.487\n",
            "Precision (Weighted): 0.486\n",
            "Recall (Weighted): 0.487\n",
            "F1-Score (Weighted): 0.485\n",
            "Balanced Accuracy: 0.487\n",
            "\n",
            "Classification Report : \n",
            "              precision    recall  f1-score   support\n",
            "\n",
            "           0       0.48      0.43      0.46       301\n",
            "           1       0.49      0.54      0.51       303\n",
            "\n",
            "    accuracy                           0.49       604\n",
            "   macro avg       0.49      0.49      0.49       604\n",
            "weighted avg       0.49      0.49      0.49       604\n",
            "\n",
            "\n",
            "Confusion Matrix : \n",
            "[[130 171]\n",
            " [139 164]]\n",
            "798894, 16.40705442428589, 0.4867549668874172\n",
            "\n",
            "Results DataFrame for Transformer Model:\n",
            "                       Dataset  Parameters  Training Time  Test Accuracy  \\\n",
            "0              OP_Spam_Dataset      750194      15.358527       0.534375   \n",
            "1  Restaurants_Reviews_Dataset      808894      16.701584       0.390909   \n",
            "2                DeRev_Dataset      794094      16.501040       0.525424   \n",
            "3       Amazon_Reviews_Dataset      269994       1.455371       0.519286   \n",
            "4       Cross_Cultural_Dataset      798894      16.407054       0.486755   \n",
            "\n",
            "   Precision    Recall  F1-Score  Balanced Accuracy  \n",
            "0   0.534484  0.534375  0.534006           0.534375  \n",
            "1   0.390873  0.390909  0.390859           0.390909  \n",
            "2   0.525490  0.525424  0.525117           0.525424  \n",
            "3   0.523665  0.519286  0.495966           0.519286  \n",
            "4   0.486422  0.486755  0.485219           0.486574  \n"
          ]
        },
        {
          "output_type": "display_data",
          "data": {
            "text/plain": [
              "<Figure size 1600x800 with 3 Axes>"
            ],
            "image/png": "[encoded data removed]"
          },
          "metadata": {}
        }
      ]
    },
    {
      "cell_type": "code",
      "source": [
        "import pandas as pd\n",
        "\n",
        "# Add a 'Model' column to each DataFrame\n",
        "rnn_results_df['Model'] = 'RNN Model'\n",
        "birnn_results_df['Model'] = 'BiRNN Model'\n",
        "lstm_results_df['Model'] = 'LSTM Model'\n",
        "gru_results_df['Model'] = 'GRU Model'\n",
        "transformer_results_df['Model'] = 'Transformer Model'\n",
        "\n",
        "# List of DataFrames to concatenate\n",
        "dataframes = [rnn_results_df, birnn_results_df, lstm_results_df, gru_results_df, transformer_results_df]\n",
        "\n",
        "# Concatenate the DataFrames along rows (axis=0)\n",
        "combined_results_df = pd.concat(dataframes, axis=0, ignore_index=True)\n",
        "\n",
        "# Print the combined DataFrame to verify\n",
        "print(combined_results_df)\n"
      ],
      "metadata": {
        "colab": {
          "base_uri": "https://localhost:8080/"
        },
        "id": "XdeypGRBU4v9",
        "outputId": "be2e76e1-ef44-4b55-989d-ffb125cd45e7"
      },
      "execution_count": null,
      "outputs": [
        {
          "output_type": "stream",
          "name": "stdout",
          "text": [
            "                        Dataset  Parameters  Training Time  Test Accuracy  \\\n",
            "0               OP_Spam_Dataset      713954       9.032176       0.475625   \n",
            "1   Restaurants_Reviews_Dataset      772654      10.396361       0.500000   \n",
            "2                 DeRev_Dataset      757854      10.631714       0.495763   \n",
            "3        Amazon_Reviews_Dataset      233754       0.917175       0.491333   \n",
            "4        Cross_Cultural_Dataset      762654      11.108832       0.506623   \n",
            "5               OP_Spam_Dataset      724706      14.134169       0.478125   \n",
            "6   Restaurants_Reviews_Dataset      783406      15.373577       0.445455   \n",
            "7                 DeRev_Dataset      768606      15.837421       0.563559   \n",
            "8        Amazon_Reviews_Dataset      244506       1.857526       0.496476   \n",
            "9        Cross_Cultural_Dataset      773406      15.012075       0.518212   \n",
            "10              OP_Spam_Dataset      745826      13.318456       0.538750   \n",
            "11  Restaurants_Reviews_Dataset      804526      14.016703       0.427273   \n",
            "12                DeRev_Dataset      789726      13.549537       0.576271   \n",
            "13       Amazon_Reviews_Dataset      265626       1.205369       0.508714   \n",
            "14       Cross_Cultural_Dataset      794526      14.046452       0.508278   \n",
            "15              OP_Spam_Dataset      735202      16.910062       0.605625   \n",
            "16  Restaurants_Reviews_Dataset      793902      18.506319       0.409091   \n",
            "17                DeRev_Dataset      779102      18.814590       0.563559   \n",
            "18       Amazon_Reviews_Dataset      255002       2.245360       0.512524   \n",
            "19       Cross_Cultural_Dataset      783902      18.819529       0.490066   \n",
            "20              OP_Spam_Dataset      750194      15.358527       0.534375   \n",
            "21  Restaurants_Reviews_Dataset      808894      16.701584       0.390909   \n",
            "22                DeRev_Dataset      794094      16.501040       0.525424   \n",
            "23       Amazon_Reviews_Dataset      269994       1.455371       0.519286   \n",
            "24       Cross_Cultural_Dataset      798894      16.407054       0.486755   \n",
            "\n",
            "    Precision    Recall  F1-Score  Balanced Accuracy              Model  \n",
            "0    0.475492  0.475625  0.474911           0.475625          RNN Model  \n",
            "1    0.500000  0.500000  0.499959           0.500000          RNN Model  \n",
            "2    0.495403  0.495763  0.485707           0.495763          RNN Model  \n",
            "3    0.489034  0.491333  0.463194           0.491333          RNN Model  \n",
            "4    0.506520  0.506623  0.504765           0.506420          RNN Model  \n",
            "5    0.478067  0.478125  0.477782           0.478125        BiRNN Model  \n",
            "6    0.433894  0.445455  0.420102           0.445455        BiRNN Model  \n",
            "7    0.564340  0.563559  0.562231           0.563559        BiRNN Model  \n",
            "8    0.496427  0.496476  0.494754           0.496476        BiRNN Model  \n",
            "9    0.518227  0.518212  0.517022           0.518048        BiRNN Model  \n",
            "10   0.539736  0.538750  0.535872           0.538750         LSTM Model  \n",
            "11   0.424242  0.427273  0.421488           0.427273         LSTM Model  \n",
            "12   0.576359  0.576271  0.576149           0.576271         LSTM Model  \n",
            "13   0.509071  0.508714  0.503842           0.508714         LSTM Model  \n",
            "14   0.508202  0.508278  0.506325           0.508070         LSTM Model  \n",
            "15   0.612894  0.605625  0.599173           0.605625          GRU Model  \n",
            "16   0.409061  0.409091  0.409042           0.409091          GRU Model  \n",
            "17   0.564906  0.563559  0.561283           0.563559          GRU Model  \n",
            "18   0.512637  0.512524  0.511431           0.512524          GRU Model  \n",
            "19   0.488722  0.490066  0.479760           0.489600          GRU Model  \n",
            "20   0.534484  0.534375  0.534006           0.534375  Transformer Model  \n",
            "21   0.390873  0.390909  0.390859           0.390909  Transformer Model  \n",
            "22   0.525490  0.525424  0.525117           0.525424  Transformer Model  \n",
            "23   0.523665  0.519286  0.495966           0.519286  Transformer Model  \n",
            "24   0.486422  0.486755  0.485219           0.486574  Transformer Model  \n"
          ]
        }
      ]
    },
    {
      "cell_type": "code",
      "source": [
        "combined_results_df.to_csv('cross_domain_full_results.csv')"
      ],
      "metadata": {
        "id": "Qk74O1IgWcFi"
      },
      "execution_count": null,
      "outputs": []
    }
  ]
}